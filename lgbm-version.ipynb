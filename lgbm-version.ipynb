{
 "cells": [
  {
   "cell_type": "code",
   "execution_count": 1,
   "metadata": {
    "execution": {
     "iopub.execute_input": "2020-12-03T19:43:49.005784Z",
     "iopub.status.busy": "2020-12-03T19:43:48.995884Z",
     "iopub.status.idle": "2020-12-03T19:43:49.009320Z",
     "shell.execute_reply": "2020-12-03T19:43:49.008633Z"
    },
    "papermill": {
     "duration": 0.087875,
     "end_time": "2020-12-03T19:43:49.009473",
     "exception": false,
     "start_time": "2020-12-03T19:43:48.921598",
     "status": "completed"
    },
    "tags": []
   },
   "outputs": [],
   "source": [
    "def reduce_mem_usage(df):\n",
    "    \"\"\" iterate through all the columns of a dataframe and modify the data type\n",
    "        to reduce memory usage.        \n",
    "    \"\"\"\n",
    "    start_mem = df.memory_usage().sum() / 1024**2\n",
    "    print('Memory usage of dataframe is {:.2f} MB'.format(start_mem))\n",
    "    \n",
    "    for col in df.columns:\n",
    "        col_type = df[col].dtype\n",
    "        \n",
    "        if col_type != object:\n",
    "            c_min = df[col].min()\n",
    "            c_max = df[col].max()\n",
    "            if str(col_type)[:3] == 'int':\n",
    "                if c_min > np.iinfo(np.int8).min and c_max < np.iinfo(np.int8).max:\n",
    "                    df[col] = df[col].astype(np.int8)\n",
    "                elif c_min > np.iinfo(np.int16).min and c_max < np.iinfo(np.int16).max:\n",
    "                    df[col] = df[col].astype(np.int16)\n",
    "                elif c_min > np.iinfo(np.int32).min and c_max < np.iinfo(np.int32).max:\n",
    "                    df[col] = df[col].astype(np.int32)\n",
    "                elif c_min > np.iinfo(np.int64).min and c_max < np.iinfo(np.int64).max:\n",
    "                    df[col] = df[col].astype(np.int64)  \n",
    "            else:\n",
    "                if c_min > np.finfo(np.float16).min and c_max < np.finfo(np.float16).max:\n",
    "                    df[col] = df[col].astype(np.float16)\n",
    "                elif c_min > np.finfo(np.float32).min and c_max < np.finfo(np.float32).max:\n",
    "                    df[col] = df[col].astype(np.float32)\n",
    "                else:\n",
    "                    df[col] = df[col].astype(np.float64)\n",
    "        else:\n",
    "            df[col] = df[col].astype('category')\n",
    "\n",
    "    end_mem = df.memory_usage().sum() / 1024**2\n",
    "    print('Memory usage after optimization is: {:.2f} MB'.format(end_mem))\n",
    "    print('Decreased by {:.1f}%'.format(100 * (start_mem - end_mem) / start_mem))\n",
    "    \n",
    "    return df"
   ]
  },
  {
   "cell_type": "code",
   "execution_count": 2,
   "metadata": {
    "_cell_guid": "b1076dfc-b9ad-4769-8c92-a6c4dae69d19",
    "_uuid": "8f2839f25d086af736a60e9eeb907d3b93b6e0e5",
    "execution": {
     "iopub.execute_input": "2020-12-03T19:43:49.134741Z",
     "iopub.status.busy": "2020-12-03T19:43:49.133895Z",
     "iopub.status.idle": "2020-12-03T19:43:49.142428Z",
     "shell.execute_reply": "2020-12-03T19:43:49.141681Z"
    },
    "papermill": {
     "duration": 0.074347,
     "end_time": "2020-12-03T19:43:49.142756",
     "exception": false,
     "start_time": "2020-12-03T19:43:49.068409",
     "status": "completed"
    },
    "tags": []
   },
   "outputs": [
    {
     "name": "stdout",
     "output_type": "stream",
     "text": [
      "/kaggle/input/riiid-test-answer-prediction/example_sample_submission.csv\n",
      "/kaggle/input/riiid-test-answer-prediction/example_test.csv\n",
      "/kaggle/input/riiid-test-answer-prediction/questions.csv\n",
      "/kaggle/input/riiid-test-answer-prediction/train.csv\n",
      "/kaggle/input/riiid-test-answer-prediction/lectures.csv\n",
      "/kaggle/input/riiid-test-answer-prediction/riiideducation/competition.cpython-37m-x86_64-linux-gnu.so\n",
      "/kaggle/input/riiid-test-answer-prediction/riiideducation/__init__.py\n"
     ]
    }
   ],
   "source": [
    "# This Python 3 environment comes with many helpful analytics libraries installed\n",
    "# It is defined by the kaggle/python Docker image: https://github.com/kaggle/docker-python\n",
    "# For example, here's several helpful packages to load\n",
    "\n",
    "import numpy as np # linear algebra\n",
    "import pandas as pd # data processing, CSV file I/O (e.g. pd.read_csv)\n",
    "\n",
    "# Input data files are available in the read-only \"../input/\" directory\n",
    "# For example, running this (by clicking run or pressing Shift+Enter) will list all files under the input directory\n",
    "\n",
    "import os\n",
    "for dirname, _, filenames in os.walk('/kaggle/input'):\n",
    "    for filename in filenames:\n",
    "        print(os.path.join(dirname, filename))\n",
    "\n",
    "# You can write up to 20GB to the current directory (/kaggle/working/) that gets preserved as output when you create a version using \"Save & Run All\" \n",
    "# You can also write temporary files to /kaggle/temp/, but they won't be saved outside of the current session"
   ]
  },
  {
   "cell_type": "code",
   "execution_count": 3,
   "metadata": {
    "_cell_guid": "79c7e3d0-c299-4dcb-8224-4455121ee9b0",
    "_uuid": "d629ff2d2480ee46fbb7e2d37f6b5fab8052498a",
    "execution": {
     "iopub.execute_input": "2020-12-03T19:43:49.270490Z",
     "iopub.status.busy": "2020-12-03T19:43:49.269719Z",
     "iopub.status.idle": "2020-12-03T19:43:56.410280Z",
     "shell.execute_reply": "2020-12-03T19:43:56.409535Z"
    },
    "papermill": {
     "duration": 7.207106,
     "end_time": "2020-12-03T19:43:56.410411",
     "exception": false,
     "start_time": "2020-12-03T19:43:49.203305",
     "status": "completed"
    },
    "tags": []
   },
   "outputs": [],
   "source": [
    "from tensorflow.keras.layers import Dense , BatchNormalization , Dropout , Input\n",
    "from tensorflow.keras.models import Model , Sequential\n",
    "from tensorflow.keras.losses import binary_crossentropy\n",
    "from tensorflow.keras.optimizers import Adam\n",
    "from sklearn.model_selection import train_test_split\n",
    "from sklearn.metrics import roc_auc_score\n",
    "import lightgbm as lgb\n",
    "import matplotlib.pyplot as plt\n",
    "from sklearn.decomposition import PCA\n",
    "from sklearn.cluster import KMeans"
   ]
  },
  {
   "cell_type": "code",
   "execution_count": 4,
   "metadata": {
    "execution": {
     "iopub.execute_input": "2020-12-03T19:43:56.543345Z",
     "iopub.status.busy": "2020-12-03T19:43:56.542569Z",
     "iopub.status.idle": "2020-12-03T19:49:41.182829Z",
     "shell.execute_reply": "2020-12-03T19:49:41.181381Z"
    },
    "papermill": {
     "duration": 344.710973,
     "end_time": "2020-12-03T19:49:41.183026",
     "exception": false,
     "start_time": "2020-12-03T19:43:56.472053",
     "status": "completed"
    },
    "tags": []
   },
   "outputs": [],
   "source": [
    "train=pd.read_csv('/kaggle/input/riiid-test-answer-prediction/train.csv',dtype={'row_id':'int64',\\\n",
    "                                                                               'timestamp':'int64',\n",
    "                                                                               'user_id':'int32',\n",
    "                                                                               'content_id':'int16',\n",
    "                                                                               'content_type_id':'int8',\n",
    "                                                                               'task_container_id':'int16',\n",
    "                                                                               'user_answer':'int8',\n",
    "                                                                               'answered_correctly':'int8',\n",
    "                                                                               'prior_question_elapsed_time':'float32',\n",
    "                                                                               'prior_question_had_explanation':'boolean',\n",
    "                                                                               })"
   ]
  },
  {
   "cell_type": "code",
   "execution_count": 5,
   "metadata": {
    "execution": {
     "iopub.execute_input": "2020-12-03T19:49:41.317772Z",
     "iopub.status.busy": "2020-12-03T19:49:41.316998Z",
     "iopub.status.idle": "2020-12-03T19:49:47.384748Z",
     "shell.execute_reply": "2020-12-03T19:49:47.383986Z"
    },
    "papermill": {
     "duration": 6.136647,
     "end_time": "2020-12-03T19:49:47.384868",
     "exception": false,
     "start_time": "2020-12-03T19:49:41.248221",
     "status": "completed"
    },
    "tags": []
   },
   "outputs": [],
   "source": [
    "train=train[train[\"content_type_id\"]==0]"
   ]
  },
  {
   "cell_type": "code",
   "execution_count": 6,
   "metadata": {
    "execution": {
     "iopub.execute_input": "2020-12-03T19:49:47.511857Z",
     "iopub.status.busy": "2020-12-03T19:49:47.510931Z",
     "iopub.status.idle": "2020-12-03T19:49:47.514058Z",
     "shell.execute_reply": "2020-12-03T19:49:47.513311Z"
    },
    "papermill": {
     "duration": 0.067666,
     "end_time": "2020-12-03T19:49:47.514178",
     "exception": false,
     "start_time": "2020-12-03T19:49:47.446512",
     "status": "completed"
    },
    "tags": []
   },
   "outputs": [],
   "source": [
    "#train=train.sort_values([\"user_id\",\"timestamp\"],ascending=True)"
   ]
  },
  {
   "cell_type": "code",
   "execution_count": 7,
   "metadata": {
    "execution": {
     "iopub.execute_input": "2020-12-03T19:49:47.639411Z",
     "iopub.status.busy": "2020-12-03T19:49:47.638354Z",
     "iopub.status.idle": "2020-12-03T19:49:47.641032Z",
     "shell.execute_reply": "2020-12-03T19:49:47.641675Z"
    },
    "papermill": {
     "duration": 0.067707,
     "end_time": "2020-12-03T19:49:47.641824",
     "exception": false,
     "start_time": "2020-12-03T19:49:47.574117",
     "status": "completed"
    },
    "tags": []
   },
   "outputs": [],
   "source": [
    "#train[\"timestamp\"]=train[\"timestamp\"].shift(fill_value=0)"
   ]
  },
  {
   "cell_type": "code",
   "execution_count": 8,
   "metadata": {
    "execution": {
     "iopub.execute_input": "2020-12-03T19:49:47.767102Z",
     "iopub.status.busy": "2020-12-03T19:49:47.766309Z",
     "iopub.status.idle": "2020-12-03T19:49:48.010837Z",
     "shell.execute_reply": "2020-12-03T19:49:48.010194Z"
    },
    "papermill": {
     "duration": 0.309218,
     "end_time": "2020-12-03T19:49:48.010980",
     "exception": false,
     "start_time": "2020-12-03T19:49:47.701762",
     "status": "completed"
    },
    "tags": []
   },
   "outputs": [],
   "source": [
    "train[\"prior_question_had_explanation\"] = train[\"prior_question_had_explanation\"].fillna(False).\\\n",
    "astype('int8')"
   ]
  },
  {
   "cell_type": "code",
   "execution_count": 9,
   "metadata": {
    "execution": {
     "iopub.execute_input": "2020-12-03T19:49:48.142262Z",
     "iopub.status.busy": "2020-12-03T19:49:48.141502Z",
     "iopub.status.idle": "2020-12-03T19:49:52.415110Z",
     "shell.execute_reply": "2020-12-03T19:49:52.414342Z"
    },
    "papermill": {
     "duration": 4.343484,
     "end_time": "2020-12-03T19:49:52.415231",
     "exception": false,
     "start_time": "2020-12-03T19:49:48.071747",
     "status": "completed"
    },
    "tags": []
   },
   "outputs": [
    {
     "name": "stdout",
     "output_type": "stream",
     "text": [
      "Memory usage of dataframe is 3786.90 MB\n",
      "Memory usage after optimization is: 3408.21 MB\n",
      "Decreased by 10.0%\n"
     ]
    }
   ],
   "source": [
    "train = reduce_mem_usage(train)"
   ]
  },
  {
   "cell_type": "code",
   "execution_count": 10,
   "metadata": {
    "execution": {
     "iopub.execute_input": "2020-12-03T19:49:52.545326Z",
     "iopub.status.busy": "2020-12-03T19:49:52.544598Z",
     "iopub.status.idle": "2020-12-03T19:49:52.564073Z",
     "shell.execute_reply": "2020-12-03T19:49:52.563367Z"
    },
    "papermill": {
     "duration": 0.087816,
     "end_time": "2020-12-03T19:49:52.564195",
     "exception": false,
     "start_time": "2020-12-03T19:49:52.476379",
     "status": "completed"
    },
    "tags": []
   },
   "outputs": [],
   "source": [
    "question_df=pd.read_csv(\"/kaggle/input/riiid-test-answer-prediction/questions.csv\")"
   ]
  },
  {
   "cell_type": "code",
   "execution_count": 11,
   "metadata": {
    "execution": {
     "iopub.execute_input": "2020-12-03T19:49:52.698910Z",
     "iopub.status.busy": "2020-12-03T19:49:52.698000Z",
     "iopub.status.idle": "2020-12-03T19:49:52.701706Z",
     "shell.execute_reply": "2020-12-03T19:49:52.701020Z"
    },
    "papermill": {
     "duration": 0.07577,
     "end_time": "2020-12-03T19:49:52.701829",
     "exception": false,
     "start_time": "2020-12-03T19:49:52.626059",
     "status": "completed"
    },
    "tags": []
   },
   "outputs": [],
   "source": [
    "question_df[\"tags\"]=question_df[\"tags\"].astype(\"str\")"
   ]
  },
  {
   "cell_type": "code",
   "execution_count": 12,
   "metadata": {
    "execution": {
     "iopub.execute_input": "2020-12-03T19:49:52.846588Z",
     "iopub.status.busy": "2020-12-03T19:49:52.839068Z",
     "iopub.status.idle": "2020-12-03T19:49:52.850148Z",
     "shell.execute_reply": "2020-12-03T19:49:52.849541Z"
    },
    "papermill": {
     "duration": 0.08686,
     "end_time": "2020-12-03T19:49:52.850277",
     "exception": false,
     "start_time": "2020-12-03T19:49:52.763417",
     "status": "completed"
    },
    "tags": []
   },
   "outputs": [],
   "source": [
    "question_df[\"tags\"]= question_df.tags.str.split()"
   ]
  },
  {
   "cell_type": "code",
   "execution_count": 13,
   "metadata": {
    "execution": {
     "iopub.execute_input": "2020-12-03T19:49:52.983623Z",
     "iopub.status.busy": "2020-12-03T19:49:52.982699Z",
     "iopub.status.idle": "2020-12-03T19:49:52.986094Z",
     "shell.execute_reply": "2020-12-03T19:49:52.985460Z"
    },
    "papermill": {
     "duration": 0.07383,
     "end_time": "2020-12-03T19:49:52.986216",
     "exception": false,
     "start_time": "2020-12-03T19:49:52.912386",
     "status": "completed"
    },
    "tags": []
   },
   "outputs": [],
   "source": [
    "tags=[elt  for tag in question_df[\"tags\"].values for elt in tag]"
   ]
  },
  {
   "cell_type": "code",
   "execution_count": 14,
   "metadata": {
    "execution": {
     "iopub.execute_input": "2020-12-03T19:49:53.118477Z",
     "iopub.status.busy": "2020-12-03T19:49:53.117694Z",
     "iopub.status.idle": "2020-12-03T19:49:53.121135Z",
     "shell.execute_reply": "2020-12-03T19:49:53.120340Z"
    },
    "papermill": {
     "duration": 0.072017,
     "end_time": "2020-12-03T19:49:53.121262",
     "exception": false,
     "start_time": "2020-12-03T19:49:53.049245",
     "status": "completed"
    },
    "tags": []
   },
   "outputs": [],
   "source": [
    "tags=list(set(tags))"
   ]
  },
  {
   "cell_type": "code",
   "execution_count": 15,
   "metadata": {
    "execution": {
     "iopub.execute_input": "2020-12-03T19:49:53.280502Z",
     "iopub.status.busy": "2020-12-03T19:49:53.259819Z",
     "iopub.status.idle": "2020-12-03T19:49:55.300527Z",
     "shell.execute_reply": "2020-12-03T19:49:55.299838Z"
    },
    "papermill": {
     "duration": 2.116659,
     "end_time": "2020-12-03T19:49:55.300660",
     "exception": false,
     "start_time": "2020-12-03T19:49:53.184001",
     "status": "completed"
    },
    "tags": []
   },
   "outputs": [],
   "source": [
    "df=pd.DataFrame({elt:[1 if elt in li else 0 for li in question_df[\"tags\"]] for elt in tags})"
   ]
  },
  {
   "cell_type": "code",
   "execution_count": 16,
   "metadata": {
    "execution": {
     "iopub.execute_input": "2020-12-03T19:49:55.431975Z",
     "iopub.status.busy": "2020-12-03T19:49:55.431035Z",
     "iopub.status.idle": "2020-12-03T19:49:55.434277Z",
     "shell.execute_reply": "2020-12-03T19:49:55.433637Z"
    },
    "papermill": {
     "duration": 0.070708,
     "end_time": "2020-12-03T19:49:55.434397",
     "exception": false,
     "start_time": "2020-12-03T19:49:55.363689",
     "status": "completed"
    },
    "tags": []
   },
   "outputs": [],
   "source": [
    "kmeans = KMeans(n_clusters=10)"
   ]
  },
  {
   "cell_type": "code",
   "execution_count": 17,
   "metadata": {
    "execution": {
     "iopub.execute_input": "2020-12-03T19:49:55.570892Z",
     "iopub.status.busy": "2020-12-03T19:49:55.570140Z",
     "iopub.status.idle": "2020-12-03T19:49:56.881384Z",
     "shell.execute_reply": "2020-12-03T19:49:56.882109Z"
    },
    "papermill": {
     "duration": 1.385272,
     "end_time": "2020-12-03T19:49:56.882292",
     "exception": false,
     "start_time": "2020-12-03T19:49:55.497020",
     "status": "completed"
    },
    "tags": []
   },
   "outputs": [
    {
     "data": {
      "text/plain": [
       "KMeans(n_clusters=10)"
      ]
     },
     "execution_count": 17,
     "metadata": {},
     "output_type": "execute_result"
    }
   ],
   "source": [
    "kmeans.fit(df)"
   ]
  },
  {
   "cell_type": "code",
   "execution_count": 18,
   "metadata": {
    "execution": {
     "iopub.execute_input": "2020-12-03T19:49:57.044657Z",
     "iopub.status.busy": "2020-12-03T19:49:57.042829Z",
     "iopub.status.idle": "2020-12-03T19:49:57.046189Z",
     "shell.execute_reply": "2020-12-03T19:49:57.045511Z"
    },
    "papermill": {
     "duration": 0.086998,
     "end_time": "2020-12-03T19:49:57.046329",
     "exception": false,
     "start_time": "2020-12-03T19:49:56.959331",
     "status": "completed"
    },
    "tags": []
   },
   "outputs": [],
   "source": [
    "question_df[\"tags\"] = kmeans.labels_"
   ]
  },
  {
   "cell_type": "code",
   "execution_count": 19,
   "metadata": {
    "execution": {
     "iopub.execute_input": "2020-12-03T19:49:57.182361Z",
     "iopub.status.busy": "2020-12-03T19:49:57.181582Z",
     "iopub.status.idle": "2020-12-03T19:49:57.184813Z",
     "shell.execute_reply": "2020-12-03T19:49:57.184043Z"
    },
    "papermill": {
     "duration": 0.071855,
     "end_time": "2020-12-03T19:49:57.184931",
     "exception": false,
     "start_time": "2020-12-03T19:49:57.113076",
     "status": "completed"
    },
    "tags": []
   },
   "outputs": [],
   "source": [
    "del(df)"
   ]
  },
  {
   "cell_type": "code",
   "execution_count": 20,
   "metadata": {
    "execution": {
     "iopub.execute_input": "2020-12-03T19:49:57.320114Z",
     "iopub.status.busy": "2020-12-03T19:49:57.319012Z",
     "iopub.status.idle": "2020-12-03T19:49:57.323185Z",
     "shell.execute_reply": "2020-12-03T19:49:57.323786Z"
    },
    "papermill": {
     "duration": 0.075044,
     "end_time": "2020-12-03T19:49:57.323938",
     "exception": false,
     "start_time": "2020-12-03T19:49:57.248894",
     "status": "completed"
    },
    "tags": []
   },
   "outputs": [],
   "source": [
    "del(question_df[\"bundle_id\"])\n",
    "del(question_df[\"correct_answer\"])\n",
    "del(question_df[\"part\"])"
   ]
  },
  {
   "cell_type": "code",
   "execution_count": 21,
   "metadata": {
    "execution": {
     "iopub.execute_input": "2020-12-03T19:49:57.457870Z",
     "iopub.status.busy": "2020-12-03T19:49:57.457046Z",
     "iopub.status.idle": "2020-12-03T19:49:57.465008Z",
     "shell.execute_reply": "2020-12-03T19:49:57.464276Z"
    },
    "papermill": {
     "duration": 0.077559,
     "end_time": "2020-12-03T19:49:57.465126",
     "exception": false,
     "start_time": "2020-12-03T19:49:57.387567",
     "status": "completed"
    },
    "tags": []
   },
   "outputs": [
    {
     "name": "stdout",
     "output_type": "stream",
     "text": [
      "Memory usage of dataframe is 0.15 MB\n",
      "Memory usage after optimization is: 0.04 MB\n",
      "Decreased by 74.9%\n"
     ]
    }
   ],
   "source": [
    "question_df = reduce_mem_usage(question_df)"
   ]
  },
  {
   "cell_type": "code",
   "execution_count": 22,
   "metadata": {
    "execution": {
     "iopub.execute_input": "2020-12-03T19:49:57.601597Z",
     "iopub.status.busy": "2020-12-03T19:49:57.600849Z",
     "iopub.status.idle": "2020-12-03T19:49:57.603752Z",
     "shell.execute_reply": "2020-12-03T19:49:57.603022Z"
    },
    "papermill": {
     "duration": 0.074467,
     "end_time": "2020-12-03T19:49:57.603877",
     "exception": false,
     "start_time": "2020-12-03T19:49:57.529410",
     "status": "completed"
    },
    "tags": []
   },
   "outputs": [],
   "source": [
    "question_df.rename(columns={\"question_id\":\"content_id\"},inplace=True)"
   ]
  },
  {
   "cell_type": "code",
   "execution_count": 23,
   "metadata": {
    "execution": {
     "iopub.execute_input": "2020-12-03T19:49:57.738914Z",
     "iopub.status.busy": "2020-12-03T19:49:57.738173Z",
     "iopub.status.idle": "2020-12-03T19:49:57.741241Z",
     "shell.execute_reply": "2020-12-03T19:49:57.741770Z"
    },
    "papermill": {
     "duration": 0.073339,
     "end_time": "2020-12-03T19:49:57.741922",
     "exception": false,
     "start_time": "2020-12-03T19:49:57.668583",
     "status": "completed"
    },
    "tags": []
   },
   "outputs": [],
   "source": [
    "question_df.set_index(\"content_id\" , inplace = True)"
   ]
  },
  {
   "cell_type": "code",
   "execution_count": 24,
   "metadata": {
    "execution": {
     "iopub.execute_input": "2020-12-03T19:49:57.877651Z",
     "iopub.status.busy": "2020-12-03T19:49:57.876858Z",
     "iopub.status.idle": "2020-12-03T19:50:03.167990Z",
     "shell.execute_reply": "2020-12-03T19:50:03.167295Z"
    },
    "papermill": {
     "duration": 5.361818,
     "end_time": "2020-12-03T19:50:03.168122",
     "exception": false,
     "start_time": "2020-12-03T19:49:57.806304",
     "status": "completed"
    },
    "tags": []
   },
   "outputs": [],
   "source": [
    "train = pd.concat([train.reset_index(drop=True),question_df.reindex(train[\"content_id\"].values)\\\n",
    "                  .reset_index(drop=True)] , axis=1)"
   ]
  },
  {
   "cell_type": "code",
   "execution_count": 25,
   "metadata": {
    "execution": {
     "iopub.execute_input": "2020-12-03T19:50:03.308098Z",
     "iopub.status.busy": "2020-12-03T19:50:03.307232Z",
     "iopub.status.idle": "2020-12-03T19:50:12.699970Z",
     "shell.execute_reply": "2020-12-03T19:50:12.699118Z"
    },
    "papermill": {
     "duration": 9.466393,
     "end_time": "2020-12-03T19:50:12.700165",
     "exception": false,
     "start_time": "2020-12-03T19:50:03.233772",
     "status": "completed"
    },
    "tags": []
   },
   "outputs": [],
   "source": [
    "users=train[[\"user_id\",\"tags\",\"answered_correctly\"]].\\\n",
    "groupby([\"user_id\",\"tags\"]).agg({\"answered_correctly\":[\"mean\",\"count\"]})"
   ]
  },
  {
   "cell_type": "code",
   "execution_count": 26,
   "metadata": {
    "execution": {
     "iopub.execute_input": "2020-12-03T19:50:12.848896Z",
     "iopub.status.busy": "2020-12-03T19:50:12.847972Z",
     "iopub.status.idle": "2020-12-03T19:50:12.851247Z",
     "shell.execute_reply": "2020-12-03T19:50:12.850625Z"
    },
    "papermill": {
     "duration": 0.078565,
     "end_time": "2020-12-03T19:50:12.851396",
     "exception": false,
     "start_time": "2020-12-03T19:50:12.772831",
     "status": "completed"
    },
    "tags": []
   },
   "outputs": [],
   "source": [
    "users.columns=[\"mean_user\",\"count_user\"]"
   ]
  },
  {
   "cell_type": "code",
   "execution_count": 27,
   "metadata": {
    "execution": {
     "iopub.execute_input": "2020-12-03T19:50:12.994240Z",
     "iopub.status.busy": "2020-12-03T19:50:12.993310Z",
     "iopub.status.idle": "2020-12-03T19:50:13.253010Z",
     "shell.execute_reply": "2020-12-03T19:50:13.251802Z"
    },
    "papermill": {
     "duration": 0.335851,
     "end_time": "2020-12-03T19:50:13.253176",
     "exception": false,
     "start_time": "2020-12-03T19:50:12.917325",
     "status": "completed"
    },
    "tags": []
   },
   "outputs": [
    {
     "name": "stdout",
     "output_type": "stream",
     "text": [
      "Memory usage of dataframe is 52.99 MB\n",
      "Memory usage after optimization is: 24.43 MB\n",
      "Decreased by 53.9%\n"
     ]
    }
   ],
   "source": [
    "users = reduce_mem_usage(users)"
   ]
  },
  {
   "cell_type": "code",
   "execution_count": 28,
   "metadata": {
    "execution": {
     "iopub.execute_input": "2020-12-03T19:50:13.399042Z",
     "iopub.status.busy": "2020-12-03T19:50:13.397961Z",
     "iopub.status.idle": "2020-12-03T19:50:13.797228Z",
     "shell.execute_reply": "2020-12-03T19:50:13.796382Z"
    },
    "papermill": {
     "duration": 0.47512,
     "end_time": "2020-12-03T19:50:13.797370",
     "exception": false,
     "start_time": "2020-12-03T19:50:13.322250",
     "status": "completed"
    },
    "tags": []
   },
   "outputs": [
    {
     "ename": "NameError",
     "evalue": "name 'userss' is not defined",
     "output_type": "error",
     "traceback": [
      "\u001b[0;31m---------------------------------------------------------------------------\u001b[0m",
      "\u001b[0;31mNameError\u001b[0m                                 Traceback (most recent call last)",
      "\u001b[0;32m<ipython-input-28-a8c1f379ca92>\u001b[0m in \u001b[0;36m<module>\u001b[0;34m\u001b[0m\n\u001b[0;32m----> 1\u001b[0;31m \u001b[0mus\u001b[0m\u001b[0;34m=\u001b[0m\u001b[0muserss\u001b[0m\u001b[0;34m.\u001b[0m\u001b[0mcopy\u001b[0m\u001b[0;34m(\u001b[0m\u001b[0;34m)\u001b[0m\u001b[0;34m\u001b[0m\u001b[0;34m\u001b[0m\u001b[0m\n\u001b[0m",
      "\u001b[0;31mNameError\u001b[0m: name 'userss' is not defined"
     ]
    }
   ],
   "source": [
    "us=userss.copy()"
   ]
  },
  {
   "cell_type": "code",
   "execution_count": 29,
   "metadata": {
    "execution": {
     "iopub.execute_input": "2020-12-03T19:50:13.970713Z",
     "iopub.status.busy": "2020-12-03T19:50:13.969915Z",
     "iopub.status.idle": "2020-12-03T19:50:13.979676Z",
     "shell.execute_reply": "2020-12-03T19:50:13.980226Z"
    },
    "papermill": {
     "duration": 0.111345,
     "end_time": "2020-12-03T19:50:13.980425",
     "exception": false,
     "start_time": "2020-12-03T19:50:13.869080",
     "status": "completed"
    },
    "tags": []
   },
   "outputs": [
    {
     "ename": "NameError",
     "evalue": "name 'us' is not defined",
     "output_type": "error",
     "traceback": [
      "\u001b[0;31m---------------------------------------------------------------------------\u001b[0m",
      "\u001b[0;31mNameError\u001b[0m                                 Traceback (most recent call last)",
      "\u001b[0;32m<ipython-input-29-02c2601cc14f>\u001b[0m in \u001b[0;36m<module>\u001b[0;34m\u001b[0m\n\u001b[0;32m----> 1\u001b[0;31m \u001b[0mus\u001b[0m\u001b[0;34m=\u001b[0m\u001b[0mus\u001b[0m\u001b[0;34m.\u001b[0m\u001b[0mreset_index\u001b[0m\u001b[0;34m(\u001b[0m\u001b[0mdrop\u001b[0m\u001b[0;34m=\u001b[0m\u001b[0;32mFalse\u001b[0m\u001b[0;34m)\u001b[0m\u001b[0;34m\u001b[0m\u001b[0;34m\u001b[0m\u001b[0m\n\u001b[0m",
      "\u001b[0;31mNameError\u001b[0m: name 'us' is not defined"
     ]
    }
   ],
   "source": [
    "us=us.reset_index(drop=False)"
   ]
  },
  {
   "cell_type": "code",
   "execution_count": 30,
   "metadata": {
    "execution": {
     "iopub.execute_input": "2020-12-03T19:50:14.134008Z",
     "iopub.status.busy": "2020-12-03T19:50:14.128866Z",
     "iopub.status.idle": "2020-12-03T19:50:14.157875Z",
     "shell.execute_reply": "2020-12-03T19:50:14.157084Z"
    },
    "papermill": {
     "duration": 0.108619,
     "end_time": "2020-12-03T19:50:14.157999",
     "exception": false,
     "start_time": "2020-12-03T19:50:14.049380",
     "status": "completed"
    },
    "tags": []
   },
   "outputs": [
    {
     "ename": "NameError",
     "evalue": "name 'us' is not defined",
     "output_type": "error",
     "traceback": [
      "\u001b[0;31m---------------------------------------------------------------------------\u001b[0m",
      "\u001b[0;31mNameError\u001b[0m                                 Traceback (most recent call last)",
      "\u001b[0;32m<ipython-input-30-e5940b8f41a9>\u001b[0m in \u001b[0;36m<module>\u001b[0;34m\u001b[0m\n\u001b[0;32m----> 1\u001b[0;31m \u001b[0mus\u001b[0m\u001b[0;34m=\u001b[0m\u001b[0mus\u001b[0m\u001b[0;34m[\u001b[0m\u001b[0;34m[\u001b[0m\u001b[0;34m\"user_id\"\u001b[0m\u001b[0;34m,\u001b[0m\u001b[0;34m\"tags\"\u001b[0m\u001b[0;34m]\u001b[0m\u001b[0;34m]\u001b[0m\u001b[0;34m\u001b[0m\u001b[0;34m\u001b[0m\u001b[0m\n\u001b[0m",
      "\u001b[0;31mNameError\u001b[0m: name 'us' is not defined"
     ]
    }
   ],
   "source": [
    "us=us[[\"user_id\",\"tags\"]]"
   ]
  },
  {
   "cell_type": "code",
   "execution_count": 31,
   "metadata": {
    "execution": {
     "iopub.execute_input": "2020-12-03T19:50:14.324109Z",
     "iopub.status.busy": "2020-12-03T19:50:14.318901Z",
     "iopub.status.idle": "2020-12-03T19:50:14.334239Z",
     "shell.execute_reply": "2020-12-03T19:50:14.333669Z"
    },
    "papermill": {
     "duration": 0.108353,
     "end_time": "2020-12-03T19:50:14.334369",
     "exception": false,
     "start_time": "2020-12-03T19:50:14.226016",
     "status": "completed"
    },
    "tags": []
   },
   "outputs": [
    {
     "ename": "NameError",
     "evalue": "name 'us' is not defined",
     "output_type": "error",
     "traceback": [
      "\u001b[0;31m---------------------------------------------------------------------------\u001b[0m",
      "\u001b[0;31mNameError\u001b[0m                                 Traceback (most recent call last)",
      "\u001b[0;32m<ipython-input-31-f9da904651c0>\u001b[0m in \u001b[0;36m<module>\u001b[0;34m\u001b[0m\n\u001b[0;32m----> 1\u001b[0;31m \u001b[0mus\u001b[0m\u001b[0;34m=\u001b[0m\u001b[0mus\u001b[0m\u001b[0;34m.\u001b[0m\u001b[0mpivot\u001b[0m\u001b[0;34m(\u001b[0m\u001b[0mindex\u001b[0m\u001b[0;34m=\u001b[0m\u001b[0;34m\"user_id\"\u001b[0m\u001b[0;34m,\u001b[0m\u001b[0mcolumns\u001b[0m\u001b[0;34m=\u001b[0m\u001b[0;34m\"tags\"\u001b[0m\u001b[0;34m,\u001b[0m\u001b[0mvalues\u001b[0m\u001b[0;34m=\u001b[0m\u001b[0;34m\"tags\"\u001b[0m\u001b[0;34m)\u001b[0m\u001b[0;34m\u001b[0m\u001b[0;34m\u001b[0m\u001b[0m\n\u001b[0m",
      "\u001b[0;31mNameError\u001b[0m: name 'us' is not defined"
     ]
    }
   ],
   "source": [
    "us=us.pivot(index=\"user_id\",columns=\"tags\",values=\"tags\")"
   ]
  },
  {
   "cell_type": "code",
   "execution_count": 32,
   "metadata": {
    "execution": {
     "iopub.execute_input": "2020-12-03T19:50:14.607782Z",
     "iopub.status.busy": "2020-12-03T19:50:14.545479Z",
     "iopub.status.idle": "2020-12-03T19:50:18.281157Z",
     "shell.execute_reply": "2020-12-03T19:50:18.282231Z"
    },
    "papermill": {
     "duration": 3.879991,
     "end_time": "2020-12-03T19:50:18.282530",
     "exception": false,
     "start_time": "2020-12-03T19:50:14.402539",
     "status": "completed"
    },
    "tags": []
   },
   "outputs": [],
   "source": [
    "question=train[[\"content_id\",\"answered_correctly\"]].\\\n",
    "groupby([\"content_id\"]).agg({\"answered_correctly\":[\"mean\"]})"
   ]
  },
  {
   "cell_type": "code",
   "execution_count": 33,
   "metadata": {
    "execution": {
     "iopub.execute_input": "2020-12-03T19:50:18.458731Z",
     "iopub.status.busy": "2020-12-03T19:50:18.457697Z",
     "iopub.status.idle": "2020-12-03T19:50:18.461173Z",
     "shell.execute_reply": "2020-12-03T19:50:18.460534Z"
    },
    "papermill": {
     "duration": 0.081618,
     "end_time": "2020-12-03T19:50:18.461322",
     "exception": false,
     "start_time": "2020-12-03T19:50:18.379704",
     "status": "completed"
    },
    "tags": []
   },
   "outputs": [],
   "source": [
    "question.columns=[\"mean_question\"]"
   ]
  },
  {
   "cell_type": "code",
   "execution_count": 34,
   "metadata": {
    "execution": {
     "iopub.execute_input": "2020-12-03T19:50:18.612234Z",
     "iopub.status.busy": "2020-12-03T19:50:18.611391Z",
     "iopub.status.idle": "2020-12-03T19:50:18.620899Z",
     "shell.execute_reply": "2020-12-03T19:50:18.620115Z"
    },
    "papermill": {
     "duration": 0.089464,
     "end_time": "2020-12-03T19:50:18.621082",
     "exception": false,
     "start_time": "2020-12-03T19:50:18.531618",
     "status": "completed"
    },
    "tags": []
   },
   "outputs": [
    {
     "name": "stdout",
     "output_type": "stream",
     "text": [
      "Memory usage of dataframe is 0.21 MB\n",
      "Memory usage after optimization is: 0.13 MB\n",
      "Decreased by 37.5%\n"
     ]
    }
   ],
   "source": [
    "question = reduce_mem_usage(question)"
   ]
  },
  {
   "cell_type": "code",
   "execution_count": 35,
   "metadata": {
    "execution": {
     "iopub.execute_input": "2020-12-03T19:50:18.847850Z",
     "iopub.status.busy": "2020-12-03T19:50:18.846898Z",
     "iopub.status.idle": "2020-12-03T19:50:18.849644Z",
     "shell.execute_reply": "2020-12-03T19:50:18.848813Z"
    },
    "papermill": {
     "duration": 0.081521,
     "end_time": "2020-12-03T19:50:18.849789",
     "exception": false,
     "start_time": "2020-12-03T19:50:18.768268",
     "status": "completed"
    },
    "tags": []
   },
   "outputs": [],
   "source": [
    "#question_df=pd.read_csv(\"/kaggle/input/riiid-test-answer-prediction/questions.csv\")"
   ]
  },
  {
   "cell_type": "code",
   "execution_count": 36,
   "metadata": {
    "execution": {
     "iopub.execute_input": "2020-12-03T19:50:18.999615Z",
     "iopub.status.busy": "2020-12-03T19:50:18.998711Z",
     "iopub.status.idle": "2020-12-03T19:50:19.002125Z",
     "shell.execute_reply": "2020-12-03T19:50:19.001336Z"
    },
    "papermill": {
     "duration": 0.079243,
     "end_time": "2020-12-03T19:50:19.002267",
     "exception": false,
     "start_time": "2020-12-03T19:50:18.923024",
     "status": "completed"
    },
    "tags": []
   },
   "outputs": [],
   "source": [
    "#df_tags=question_df.tags.str.split(expand=True)"
   ]
  },
  {
   "cell_type": "code",
   "execution_count": 37,
   "metadata": {
    "execution": {
     "iopub.execute_input": "2020-12-03T19:50:19.157968Z",
     "iopub.status.busy": "2020-12-03T19:50:19.156769Z",
     "iopub.status.idle": "2020-12-03T19:50:19.160189Z",
     "shell.execute_reply": "2020-12-03T19:50:19.159575Z"
    },
    "papermill": {
     "duration": 0.082582,
     "end_time": "2020-12-03T19:50:19.160332",
     "exception": false,
     "start_time": "2020-12-03T19:50:19.077750",
     "status": "completed"
    },
    "tags": []
   },
   "outputs": [],
   "source": [
    "#df_tags.columns=[\"tags_\"+str(i) for i in range(1,7)]"
   ]
  },
  {
   "cell_type": "code",
   "execution_count": 38,
   "metadata": {
    "execution": {
     "iopub.execute_input": "2020-12-03T19:50:19.313199Z",
     "iopub.status.busy": "2020-12-03T19:50:19.312223Z",
     "iopub.status.idle": "2020-12-03T19:50:19.316062Z",
     "shell.execute_reply": "2020-12-03T19:50:19.315247Z"
    },
    "papermill": {
     "duration": 0.083035,
     "end_time": "2020-12-03T19:50:19.316193",
     "exception": false,
     "start_time": "2020-12-03T19:50:19.233158",
     "status": "completed"
    },
    "tags": []
   },
   "outputs": [],
   "source": [
    "#for c in df_tags.columns :\n",
    "    #df_tags[c]=pd.to_numeric(df_tags[c],errors='coerce')"
   ]
  },
  {
   "cell_type": "code",
   "execution_count": 39,
   "metadata": {
    "execution": {
     "iopub.execute_input": "2020-12-03T19:50:19.465901Z",
     "iopub.status.busy": "2020-12-03T19:50:19.464984Z",
     "iopub.status.idle": "2020-12-03T19:50:19.468253Z",
     "shell.execute_reply": "2020-12-03T19:50:19.467471Z"
    },
    "papermill": {
     "duration": 0.080177,
     "end_time": "2020-12-03T19:50:19.468427",
     "exception": false,
     "start_time": "2020-12-03T19:50:19.388250",
     "status": "completed"
    },
    "tags": []
   },
   "outputs": [],
   "source": [
    "#df_tags.fillna(0,inplace=True)"
   ]
  },
  {
   "cell_type": "code",
   "execution_count": 40,
   "metadata": {
    "execution": {
     "iopub.execute_input": "2020-12-03T19:50:19.620881Z",
     "iopub.status.busy": "2020-12-03T19:50:19.619972Z",
     "iopub.status.idle": "2020-12-03T19:50:19.622945Z",
     "shell.execute_reply": "2020-12-03T19:50:19.622259Z"
    },
    "papermill": {
     "duration": 0.080231,
     "end_time": "2020-12-03T19:50:19.623090",
     "exception": false,
     "start_time": "2020-12-03T19:50:19.542859",
     "status": "completed"
    },
    "tags": []
   },
   "outputs": [],
   "source": [
    "#question_df = question_df.join(df_tags)"
   ]
  },
  {
   "cell_type": "code",
   "execution_count": 41,
   "metadata": {
    "execution": {
     "iopub.execute_input": "2020-12-03T19:50:19.782041Z",
     "iopub.status.busy": "2020-12-03T19:50:19.781151Z",
     "iopub.status.idle": "2020-12-03T19:50:19.783985Z",
     "shell.execute_reply": "2020-12-03T19:50:19.784612Z"
    },
    "papermill": {
     "duration": 0.08742,
     "end_time": "2020-12-03T19:50:19.784791",
     "exception": false,
     "start_time": "2020-12-03T19:50:19.697371",
     "status": "completed"
    },
    "tags": []
   },
   "outputs": [],
   "source": [
    "#del(question_df[\"tags\"])\n",
    "#del(question_df[\"correct_answer\"])"
   ]
  },
  {
   "cell_type": "code",
   "execution_count": 42,
   "metadata": {
    "execution": {
     "iopub.execute_input": "2020-12-03T19:50:19.941980Z",
     "iopub.status.busy": "2020-12-03T19:50:19.941169Z",
     "iopub.status.idle": "2020-12-03T19:50:30.097394Z",
     "shell.execute_reply": "2020-12-03T19:50:30.096693Z"
    },
    "papermill": {
     "duration": 10.237035,
     "end_time": "2020-12-03T19:50:30.097557",
     "exception": false,
     "start_time": "2020-12-03T19:50:19.860522",
     "status": "completed"
    },
    "tags": []
   },
   "outputs": [],
   "source": [
    "tr=train.sample(frac=0.2,random_state=1)"
   ]
  },
  {
   "cell_type": "code",
   "execution_count": 43,
   "metadata": {
    "execution": {
     "iopub.execute_input": "2020-12-03T19:50:30.270991Z",
     "iopub.status.busy": "2020-12-03T19:50:30.270186Z",
     "iopub.status.idle": "2020-12-03T19:50:30.273521Z",
     "shell.execute_reply": "2020-12-03T19:50:30.272778Z"
    },
    "papermill": {
     "duration": 0.102854,
     "end_time": "2020-12-03T19:50:30.273654",
     "exception": false,
     "start_time": "2020-12-03T19:50:30.170800",
     "status": "completed"
    },
    "tags": []
   },
   "outputs": [],
   "source": [
    "del(train)"
   ]
  },
  {
   "cell_type": "code",
   "execution_count": 44,
   "metadata": {
    "execution": {
     "iopub.execute_input": "2020-12-03T19:50:30.423226Z",
     "iopub.status.busy": "2020-12-03T19:50:30.422408Z",
     "iopub.status.idle": "2020-12-03T19:50:36.928103Z",
     "shell.execute_reply": "2020-12-03T19:50:36.927404Z"
    },
    "papermill": {
     "duration": 6.582859,
     "end_time": "2020-12-03T19:50:36.928260",
     "exception": false,
     "start_time": "2020-12-03T19:50:30.345401",
     "status": "completed"
    },
    "tags": []
   },
   "outputs": [],
   "source": [
    "tr = tr.merge(users , how=\"left\" ,left_on=[\"user_id\",\"tags\"] ,right_index=True)"
   ]
  },
  {
   "cell_type": "code",
   "execution_count": 45,
   "metadata": {
    "execution": {
     "iopub.execute_input": "2020-12-03T19:50:37.086586Z",
     "iopub.status.busy": "2020-12-03T19:50:37.085011Z",
     "iopub.status.idle": "2020-12-03T19:50:38.110077Z",
     "shell.execute_reply": "2020-12-03T19:50:38.109358Z"
    },
    "papermill": {
     "duration": 1.107538,
     "end_time": "2020-12-03T19:50:38.110221",
     "exception": false,
     "start_time": "2020-12-03T19:50:37.002683",
     "status": "completed"
    },
    "tags": []
   },
   "outputs": [],
   "source": [
    "tr = pd.concat([tr.reset_index(drop=True),question.reindex(tr['content_id'].values).reset_index(\\\n",
    "                                                                                               drop=True)],axis=1)"
   ]
  },
  {
   "cell_type": "code",
   "execution_count": 46,
   "metadata": {
    "execution": {
     "iopub.execute_input": "2020-12-03T19:50:38.265143Z",
     "iopub.status.busy": "2020-12-03T19:50:38.264272Z",
     "iopub.status.idle": "2020-12-03T19:50:38.268056Z",
     "shell.execute_reply": "2020-12-03T19:50:38.267319Z"
    },
    "papermill": {
     "duration": 0.081531,
     "end_time": "2020-12-03T19:50:38.268207",
     "exception": false,
     "start_time": "2020-12-03T19:50:38.186676",
     "status": "completed"
    },
    "tags": []
   },
   "outputs": [],
   "source": [
    "#question_df=question_df.rename(columns={\"question_id\":\"content_id\"})"
   ]
  },
  {
   "cell_type": "code",
   "execution_count": 47,
   "metadata": {
    "execution": {
     "iopub.execute_input": "2020-12-03T19:50:38.428400Z",
     "iopub.status.busy": "2020-12-03T19:50:38.427364Z",
     "iopub.status.idle": "2020-12-03T19:50:38.433160Z",
     "shell.execute_reply": "2020-12-03T19:50:38.432168Z"
    },
    "papermill": {
     "duration": 0.092643,
     "end_time": "2020-12-03T19:50:38.433292",
     "exception": false,
     "start_time": "2020-12-03T19:50:38.340649",
     "status": "completed"
    },
    "tags": []
   },
   "outputs": [],
   "source": [
    "#question_df.rename(columns={\"question_id\":\"content_id\"},inplace=True)"
   ]
  },
  {
   "cell_type": "code",
   "execution_count": 48,
   "metadata": {
    "execution": {
     "iopub.execute_input": "2020-12-03T19:50:38.594232Z",
     "iopub.status.busy": "2020-12-03T19:50:38.593154Z",
     "iopub.status.idle": "2020-12-03T19:50:38.597177Z",
     "shell.execute_reply": "2020-12-03T19:50:38.596571Z"
    },
    "papermill": {
     "duration": 0.086528,
     "end_time": "2020-12-03T19:50:38.597317",
     "exception": false,
     "start_time": "2020-12-03T19:50:38.510789",
     "status": "completed"
    },
    "tags": []
   },
   "outputs": [],
   "source": [
    "#question_df.set_index(\"content_id\",inplace=True)"
   ]
  },
  {
   "cell_type": "code",
   "execution_count": 49,
   "metadata": {
    "execution": {
     "iopub.execute_input": "2020-12-03T19:50:38.780704Z",
     "iopub.status.busy": "2020-12-03T19:50:38.779889Z",
     "iopub.status.idle": "2020-12-03T19:50:38.783774Z",
     "shell.execute_reply": "2020-12-03T19:50:38.782476Z"
    },
    "papermill": {
     "duration": 0.099665,
     "end_time": "2020-12-03T19:50:38.784404",
     "exception": false,
     "start_time": "2020-12-03T19:50:38.684739",
     "status": "completed"
    },
    "tags": []
   },
   "outputs": [],
   "source": [
    "#tr= pd.concat([tr.reset_index(drop=True),question_df.reindex(tr[\"content_id\"].values).\\\n",
    "               #reset_index(drop = True)],axis=1)"
   ]
  },
  {
   "cell_type": "code",
   "execution_count": 50,
   "metadata": {
    "execution": {
     "iopub.execute_input": "2020-12-03T19:50:38.944366Z",
     "iopub.status.busy": "2020-12-03T19:50:38.940801Z",
     "iopub.status.idle": "2020-12-03T19:50:38.961927Z",
     "shell.execute_reply": "2020-12-03T19:50:38.961211Z"
    },
    "papermill": {
     "duration": 0.101931,
     "end_time": "2020-12-03T19:50:38.962074",
     "exception": false,
     "start_time": "2020-12-03T19:50:38.860143",
     "status": "completed"
    },
    "tags": []
   },
   "outputs": [],
   "source": [
    "del(tr[\"row_id\"])\n",
    "del(tr[\"user_id\"])\n",
    "del(tr[\"content_id\"])\n",
    "del(tr[\"content_type_id\"])\n",
    "del(tr[\"user_answer\"])\n",
    "del(tr[\"task_container_id\"])\n",
    "del(tr[\"tags\"])"
   ]
  },
  {
   "cell_type": "code",
   "execution_count": 51,
   "metadata": {
    "execution": {
     "iopub.execute_input": "2020-12-03T19:50:39.131654Z",
     "iopub.status.busy": "2020-12-03T19:50:39.130808Z",
     "iopub.status.idle": "2020-12-03T19:50:40.394956Z",
     "shell.execute_reply": "2020-12-03T19:50:40.395840Z"
    },
    "papermill": {
     "duration": 1.356076,
     "end_time": "2020-12-03T19:50:40.396073",
     "exception": false,
     "start_time": "2020-12-03T19:50:39.039997",
     "status": "completed"
    },
    "tags": []
   },
   "outputs": [
    {
     "name": "stdout",
     "output_type": "stream",
     "text": [
      "Memory usage of dataframe is 378.69 MB\n",
      "Memory usage after optimization is: 378.69 MB\n",
      "Decreased by 0.0%\n"
     ]
    }
   ],
   "source": [
    "tr = reduce_mem_usage(tr)"
   ]
  },
  {
   "cell_type": "code",
   "execution_count": 52,
   "metadata": {
    "execution": {
     "iopub.execute_input": "2020-12-03T19:50:40.556660Z",
     "iopub.status.busy": "2020-12-03T19:50:40.555815Z",
     "iopub.status.idle": "2020-12-03T19:50:40.559415Z",
     "shell.execute_reply": "2020-12-03T19:50:40.558797Z"
    },
    "papermill": {
     "duration": 0.087519,
     "end_time": "2020-12-03T19:50:40.559585",
     "exception": false,
     "start_time": "2020-12-03T19:50:40.472066",
     "status": "completed"
    },
    "tags": []
   },
   "outputs": [],
   "source": [
    "features=[\"timestamp\",\"prior_question_elapsed_time\",\"prior_question_had_explanation\",\"mean_user\",\\\n",
    "         \"count_user\",\"mean_question\"]"
   ]
  },
  {
   "cell_type": "code",
   "execution_count": 53,
   "metadata": {
    "execution": {
     "iopub.execute_input": "2020-12-03T19:50:40.713032Z",
     "iopub.status.busy": "2020-12-03T19:50:40.712270Z",
     "iopub.status.idle": "2020-12-03T19:50:40.715264Z",
     "shell.execute_reply": "2020-12-03T19:50:40.715890Z"
    },
    "papermill": {
     "duration": 0.082671,
     "end_time": "2020-12-03T19:50:40.716043",
     "exception": false,
     "start_time": "2020-12-03T19:50:40.633372",
     "status": "completed"
    },
    "tags": []
   },
   "outputs": [],
   "source": [
    "#features=[\"prior_question_elapsed_time\",\"mean_user\",\"count_user\",\"mean_question\"]"
   ]
  },
  {
   "cell_type": "code",
   "execution_count": 54,
   "metadata": {
    "execution": {
     "iopub.execute_input": "2020-12-03T19:50:40.869990Z",
     "iopub.status.busy": "2020-12-03T19:50:40.869240Z",
     "iopub.status.idle": "2020-12-03T19:50:40.872812Z",
     "shell.execute_reply": "2020-12-03T19:50:40.872079Z"
    },
    "papermill": {
     "duration": 0.082845,
     "end_time": "2020-12-03T19:50:40.872933",
     "exception": false,
     "start_time": "2020-12-03T19:50:40.790088",
     "status": "completed"
    },
    "tags": []
   },
   "outputs": [],
   "source": [
    "target= \"answered_correctly\""
   ]
  },
  {
   "cell_type": "code",
   "execution_count": 55,
   "metadata": {
    "execution": {
     "iopub.execute_input": "2020-12-03T19:50:41.029321Z",
     "iopub.status.busy": "2020-12-03T19:50:41.028602Z",
     "iopub.status.idle": "2020-12-03T19:50:41.761373Z",
     "shell.execute_reply": "2020-12-03T19:50:41.760511Z"
    },
    "papermill": {
     "duration": 0.814492,
     "end_time": "2020-12-03T19:50:41.761561",
     "exception": false,
     "start_time": "2020-12-03T19:50:40.947069",
     "status": "completed"
    },
    "tags": []
   },
   "outputs": [],
   "source": [
    "tr = tr.replace([np.inf, -np.inf], np.nan)"
   ]
  },
  {
   "cell_type": "code",
   "execution_count": 56,
   "metadata": {
    "execution": {
     "iopub.execute_input": "2020-12-03T19:50:41.922337Z",
     "iopub.status.busy": "2020-12-03T19:50:41.921202Z",
     "iopub.status.idle": "2020-12-03T19:50:41.925318Z",
     "shell.execute_reply": "2020-12-03T19:50:41.924740Z"
    },
    "papermill": {
     "duration": 0.087235,
     "end_time": "2020-12-03T19:50:41.925472",
     "exception": false,
     "start_time": "2020-12-03T19:50:41.838237",
     "status": "completed"
    },
    "tags": []
   },
   "outputs": [],
   "source": [
    "#for i in range(40):\n",
    "    #vars()[\"rep\" + str(i)]=question_df[\"com\"+str(i)].mean()"
   ]
  },
  {
   "cell_type": "code",
   "execution_count": 57,
   "metadata": {
    "execution": {
     "iopub.execute_input": "2020-12-03T19:50:42.083543Z",
     "iopub.status.busy": "2020-12-03T19:50:42.082592Z",
     "iopub.status.idle": "2020-12-03T19:50:42.086941Z",
     "shell.execute_reply": "2020-12-03T19:50:42.086224Z"
    },
    "papermill": {
     "duration": 0.085493,
     "end_time": "2020-12-03T19:50:42.087092",
     "exception": false,
     "start_time": "2020-12-03T19:50:42.001599",
     "status": "completed"
    },
    "tags": []
   },
   "outputs": [],
   "source": [
    "#for i in range(40):\n",
    "    #tr[\"com\" + str(i)].fillna(vars()[\"rep\" + str(i)],inplace=True)"
   ]
  },
  {
   "cell_type": "code",
   "execution_count": 58,
   "metadata": {
    "execution": {
     "iopub.execute_input": "2020-12-03T19:50:42.254275Z",
     "iopub.status.busy": "2020-12-03T19:50:42.253321Z",
     "iopub.status.idle": "2020-12-03T19:50:42.255359Z",
     "shell.execute_reply": "2020-12-03T19:50:42.255910Z"
    },
    "papermill": {
     "duration": 0.091704,
     "end_time": "2020-12-03T19:50:42.256091",
     "exception": false,
     "start_time": "2020-12-03T19:50:42.164387",
     "status": "completed"
    },
    "tags": []
   },
   "outputs": [],
   "source": [
    "#par_rep=question_df[\"part\"].mode()\n",
    "#tr[\"part\"].fillna(par_rep,inplace=True)"
   ]
  },
  {
   "cell_type": "code",
   "execution_count": 59,
   "metadata": {
    "execution": {
     "iopub.execute_input": "2020-12-03T19:50:42.417581Z",
     "iopub.status.busy": "2020-12-03T19:50:42.416779Z",
     "iopub.status.idle": "2020-12-03T19:50:42.682206Z",
     "shell.execute_reply": "2020-12-03T19:50:42.681546Z"
    },
    "papermill": {
     "duration": 0.348036,
     "end_time": "2020-12-03T19:50:42.682369",
     "exception": false,
     "start_time": "2020-12-03T19:50:42.334333",
     "status": "completed"
    },
    "tags": []
   },
   "outputs": [],
   "source": [
    "tr[\"mean_user\"].fillna(0.5,inplace=True)\n",
    "tr[\"mean_question\"].fillna(0.5,inplace=True)\n",
    "tr[\"count_user\"].fillna(1,inplace=True)\n",
    "tr.fillna(0,inplace=True)"
   ]
  },
  {
   "cell_type": "markdown",
   "metadata": {
    "papermill": {
     "duration": 0.076395,
     "end_time": "2020-12-03T19:50:42.836475",
     "exception": false,
     "start_time": "2020-12-03T19:50:42.760080",
     "status": "completed"
    },
    "tags": []
   },
   "source": [
    "<h2> Tensorflow Model </h2>"
   ]
  },
  {
   "cell_type": "markdown",
   "metadata": {
    "papermill": {
     "duration": 0.08015,
     "end_time": "2020-12-03T19:50:42.992920",
     "exception": false,
     "start_time": "2020-12-03T19:50:42.912770",
     "status": "completed"
    },
    "tags": []
   },
   "source": [
    "def create_model(sh):\n",
    "    inp=Input(sh)\n",
    "    md=BatchNormalization()(inp)\n",
    "    md=Dense(128,activation='relu') (md)\n",
    "    md=BatchNormalization()(md)\n",
    "    md=Dropout(0.3) (md)\n",
    "    md=Dense(64,activation='relu') (md)\n",
    "    md=BatchNormalization()(md)\n",
    "    md=Dropout(0.4) (md)\n",
    "    md=Dense(32,activation='relu') (md)\n",
    "    md= BatchNormalization() (md)\n",
    "    md=Dropout(0.4) (md)\n",
    "    md= Dense(1, activation=\"sigmoid\") (md)\n",
    "    \n",
    "    mod=Model(inputs=[inp],outputs=[md])\n",
    "    \n",
    "    return mod "
   ]
  },
  {
   "cell_type": "code",
   "execution_count": 60,
   "metadata": {
    "execution": {
     "iopub.execute_input": "2020-12-03T19:50:43.160592Z",
     "iopub.status.busy": "2020-12-03T19:50:43.159797Z",
     "iopub.status.idle": "2020-12-03T19:50:43.528561Z",
     "shell.execute_reply": "2020-12-03T19:50:43.527799Z"
    },
    "papermill": {
     "duration": 0.457288,
     "end_time": "2020-12-03T19:50:43.528715",
     "exception": false,
     "start_time": "2020-12-03T19:50:43.071427",
     "status": "completed"
    },
    "tags": []
   },
   "outputs": [],
   "source": [
    "X=tr[features]\n",
    "Y=tr[[target]]"
   ]
  },
  {
   "cell_type": "code",
   "execution_count": 61,
   "metadata": {
    "execution": {
     "iopub.execute_input": "2020-12-03T19:50:43.694637Z",
     "iopub.status.busy": "2020-12-03T19:50:43.693324Z",
     "iopub.status.idle": "2020-12-03T19:50:43.697509Z",
     "shell.execute_reply": "2020-12-03T19:50:43.698068Z"
    },
    "papermill": {
     "duration": 0.091641,
     "end_time": "2020-12-03T19:50:43.698252",
     "exception": false,
     "start_time": "2020-12-03T19:50:43.606611",
     "status": "completed"
    },
    "tags": []
   },
   "outputs": [],
   "source": [
    "del(tr)"
   ]
  },
  {
   "cell_type": "code",
   "execution_count": 62,
   "metadata": {
    "execution": {
     "iopub.execute_input": "2020-12-03T19:50:43.856687Z",
     "iopub.status.busy": "2020-12-03T19:50:43.855636Z",
     "iopub.status.idle": "2020-12-03T19:50:43.859115Z",
     "shell.execute_reply": "2020-12-03T19:50:43.858386Z"
    },
    "papermill": {
     "duration": 0.085256,
     "end_time": "2020-12-03T19:50:43.859249",
     "exception": false,
     "start_time": "2020-12-03T19:50:43.773993",
     "status": "completed"
    },
    "tags": []
   },
   "outputs": [],
   "source": [
    "#sh=X.shape[1]"
   ]
  },
  {
   "cell_type": "code",
   "execution_count": 63,
   "metadata": {
    "execution": {
     "iopub.execute_input": "2020-12-03T19:50:44.050075Z",
     "iopub.status.busy": "2020-12-03T19:50:44.039466Z",
     "iopub.status.idle": "2020-12-03T19:53:11.918231Z",
     "shell.execute_reply": "2020-12-03T19:53:11.917524Z"
    },
    "papermill": {
     "duration": 147.981963,
     "end_time": "2020-12-03T19:53:11.918387",
     "exception": false,
     "start_time": "2020-12-03T19:50:43.936424",
     "status": "completed"
    },
    "tags": []
   },
   "outputs": [],
   "source": [
    "xtr,xts,ytr,yts=train_test_split(X,Y,test_size=0.2,stratify=Y)"
   ]
  },
  {
   "cell_type": "code",
   "execution_count": 64,
   "metadata": {
    "execution": {
     "iopub.execute_input": "2020-12-03T19:53:12.076650Z",
     "iopub.status.busy": "2020-12-03T19:53:12.075860Z",
     "iopub.status.idle": "2020-12-03T19:53:12.078036Z",
     "shell.execute_reply": "2020-12-03T19:53:12.078637Z"
    },
    "papermill": {
     "duration": 0.084664,
     "end_time": "2020-12-03T19:53:12.078812",
     "exception": false,
     "start_time": "2020-12-03T19:53:11.994148",
     "status": "completed"
    },
    "tags": []
   },
   "outputs": [],
   "source": [
    "del(X)\n",
    "del(Y)"
   ]
  },
  {
   "cell_type": "code",
   "execution_count": 65,
   "metadata": {
    "execution": {
     "iopub.execute_input": "2020-12-03T19:53:12.237396Z",
     "iopub.status.busy": "2020-12-03T19:53:12.236302Z",
     "iopub.status.idle": "2020-12-03T19:53:12.239929Z",
     "shell.execute_reply": "2020-12-03T19:53:12.239187Z"
    },
    "papermill": {
     "duration": 0.084802,
     "end_time": "2020-12-03T19:53:12.240059",
     "exception": false,
     "start_time": "2020-12-03T19:53:12.155257",
     "status": "completed"
    },
    "tags": []
   },
   "outputs": [],
   "source": [
    "#model = create_model(sh)\n",
    "#model.compile(loss= \"binary_crossentropy\",metrics=[\"accuracy\"],optimizer=\"adam\")"
   ]
  },
  {
   "cell_type": "code",
   "execution_count": 66,
   "metadata": {
    "execution": {
     "iopub.execute_input": "2020-12-03T19:53:12.397056Z",
     "iopub.status.busy": "2020-12-03T19:53:12.396205Z",
     "iopub.status.idle": "2020-12-03T19:53:12.399814Z",
     "shell.execute_reply": "2020-12-03T19:53:12.399061Z"
    },
    "papermill": {
     "duration": 0.08375,
     "end_time": "2020-12-03T19:53:12.399958",
     "exception": false,
     "start_time": "2020-12-03T19:53:12.316208",
     "status": "completed"
    },
    "tags": []
   },
   "outputs": [],
   "source": [
    "#model.fit(xtr,ytr,validation_split=0.2,epochs=10,batch_size=1024)"
   ]
  },
  {
   "cell_type": "code",
   "execution_count": 67,
   "metadata": {
    "execution": {
     "iopub.execute_input": "2020-12-03T19:53:12.558784Z",
     "iopub.status.busy": "2020-12-03T19:53:12.558005Z",
     "iopub.status.idle": "2020-12-03T19:53:12.560287Z",
     "shell.execute_reply": "2020-12-03T19:53:12.560885Z"
    },
    "papermill": {
     "duration": 0.083823,
     "end_time": "2020-12-03T19:53:12.561056",
     "exception": false,
     "start_time": "2020-12-03T19:53:12.477233",
     "status": "completed"
    },
    "tags": []
   },
   "outputs": [],
   "source": [
    "#ypred = model.predict(xts)"
   ]
  },
  {
   "cell_type": "code",
   "execution_count": 68,
   "metadata": {
    "execution": {
     "iopub.execute_input": "2020-12-03T19:53:12.719842Z",
     "iopub.status.busy": "2020-12-03T19:53:12.719056Z",
     "iopub.status.idle": "2020-12-03T19:53:12.721481Z",
     "shell.execute_reply": "2020-12-03T19:53:12.722028Z"
    },
    "papermill": {
     "duration": 0.084294,
     "end_time": "2020-12-03T19:53:12.722207",
     "exception": false,
     "start_time": "2020-12-03T19:53:12.637913",
     "status": "completed"
    },
    "tags": []
   },
   "outputs": [],
   "source": [
    "#roc_auc_score(yts,ypred)"
   ]
  },
  {
   "cell_type": "markdown",
   "metadata": {
    "papermill": {
     "duration": 0.076391,
     "end_time": "2020-12-03T19:53:12.875802",
     "exception": false,
     "start_time": "2020-12-03T19:53:12.799411",
     "status": "completed"
    },
    "tags": []
   },
   "source": [
    "<h2> LGBM </h2>"
   ]
  },
  {
   "cell_type": "code",
   "execution_count": 69,
   "metadata": {
    "execution": {
     "iopub.execute_input": "2020-12-03T19:53:13.034825Z",
     "iopub.status.busy": "2020-12-03T19:53:13.034068Z",
     "iopub.status.idle": "2020-12-03T19:53:13.037374Z",
     "shell.execute_reply": "2020-12-03T19:53:13.036764Z"
    },
    "papermill": {
     "duration": 0.084902,
     "end_time": "2020-12-03T19:53:13.037546",
     "exception": false,
     "start_time": "2020-12-03T19:53:12.952644",
     "status": "completed"
    },
    "tags": []
   },
   "outputs": [],
   "source": [
    "d_train = lgb.Dataset(xtr,label=ytr)"
   ]
  },
  {
   "cell_type": "code",
   "execution_count": 70,
   "metadata": {
    "execution": {
     "iopub.execute_input": "2020-12-03T19:53:13.201967Z",
     "iopub.status.busy": "2020-12-03T19:53:13.201162Z",
     "iopub.status.idle": "2020-12-03T19:53:13.203861Z",
     "shell.execute_reply": "2020-12-03T19:53:13.203233Z"
    },
    "papermill": {
     "duration": 0.086626,
     "end_time": "2020-12-03T19:53:13.204006",
     "exception": false,
     "start_time": "2020-12-03T19:53:13.117380",
     "status": "completed"
    },
    "tags": []
   },
   "outputs": [],
   "source": [
    "d_eval = lgb.Dataset(xts,yts,reference=d_train)"
   ]
  },
  {
   "cell_type": "code",
   "execution_count": 71,
   "metadata": {
    "execution": {
     "iopub.execute_input": "2020-12-03T19:53:13.368428Z",
     "iopub.status.busy": "2020-12-03T19:53:13.367655Z",
     "iopub.status.idle": "2020-12-03T19:53:13.370259Z",
     "shell.execute_reply": "2020-12-03T19:53:13.371039Z"
    },
    "papermill": {
     "duration": 0.087509,
     "end_time": "2020-12-03T19:53:13.371256",
     "exception": false,
     "start_time": "2020-12-03T19:53:13.283747",
     "status": "completed"
    },
    "tags": []
   },
   "outputs": [],
   "source": [
    "params={}\n",
    "params['learning_rate'] = 0.003\n",
    "params['boosting_type'] = 'gbdt'\n",
    "params['objective'] = 'binary'\n",
    "params['metric'] = 'binary_logloss'\n",
    "params['max_depth'] = 7\n",
    "params['min_data'] = 1024\n",
    "params['num_leaves'] = 80"
   ]
  },
  {
   "cell_type": "code",
   "execution_count": 72,
   "metadata": {
    "execution": {
     "iopub.execute_input": "2020-12-03T19:53:13.538160Z",
     "iopub.status.busy": "2020-12-03T19:53:13.537398Z",
     "iopub.status.idle": "2020-12-03T20:27:56.869070Z",
     "shell.execute_reply": "2020-12-03T20:27:56.869926Z"
    },
    "papermill": {
     "duration": 2083.421213,
     "end_time": "2020-12-03T20:27:56.870404",
     "exception": false,
     "start_time": "2020-12-03T19:53:13.449191",
     "status": "completed"
    },
    "tags": []
   },
   "outputs": [
    {
     "name": "stdout",
     "output_type": "stream",
     "text": [
      "Training until validation scores don't improve for 10 rounds\n",
      "[10]\ttraining's binary_logloss: 0.637072\tvalid_1's binary_logloss: 0.637061\n",
      "[20]\ttraining's binary_logloss: 0.63175\tvalid_1's binary_logloss: 0.631727\n",
      "[30]\ttraining's binary_logloss: 0.626746\tvalid_1's binary_logloss: 0.626713\n",
      "[40]\ttraining's binary_logloss: 0.622035\tvalid_1's binary_logloss: 0.621991\n",
      "[50]\ttraining's binary_logloss: 0.617597\tvalid_1's binary_logloss: 0.617543\n",
      "[60]\ttraining's binary_logloss: 0.613411\tvalid_1's binary_logloss: 0.613348\n",
      "[70]\ttraining's binary_logloss: 0.60946\tvalid_1's binary_logloss: 0.609388\n",
      "[80]\ttraining's binary_logloss: 0.605727\tvalid_1's binary_logloss: 0.605646\n",
      "[90]\ttraining's binary_logloss: 0.602194\tvalid_1's binary_logloss: 0.602104\n",
      "[100]\ttraining's binary_logloss: 0.598854\tvalid_1's binary_logloss: 0.598755\n",
      "[110]\ttraining's binary_logloss: 0.595693\tvalid_1's binary_logloss: 0.595586\n",
      "[120]\ttraining's binary_logloss: 0.5927\tvalid_1's binary_logloss: 0.592585\n",
      "[130]\ttraining's binary_logloss: 0.589863\tvalid_1's binary_logloss: 0.58974\n",
      "[140]\ttraining's binary_logloss: 0.587172\tvalid_1's binary_logloss: 0.587042\n",
      "[150]\ttraining's binary_logloss: 0.584617\tvalid_1's binary_logloss: 0.584481\n",
      "[160]\ttraining's binary_logloss: 0.582193\tvalid_1's binary_logloss: 0.582049\n",
      "[170]\ttraining's binary_logloss: 0.579893\tvalid_1's binary_logloss: 0.579742\n",
      "[180]\ttraining's binary_logloss: 0.577711\tvalid_1's binary_logloss: 0.577554\n",
      "[190]\ttraining's binary_logloss: 0.575641\tvalid_1's binary_logloss: 0.575477\n",
      "[200]\ttraining's binary_logloss: 0.573674\tvalid_1's binary_logloss: 0.573504\n",
      "[210]\ttraining's binary_logloss: 0.571804\tvalid_1's binary_logloss: 0.571628\n",
      "[220]\ttraining's binary_logloss: 0.570026\tvalid_1's binary_logloss: 0.569845\n",
      "[230]\ttraining's binary_logloss: 0.568336\tvalid_1's binary_logloss: 0.568149\n",
      "[240]\ttraining's binary_logloss: 0.566726\tvalid_1's binary_logloss: 0.566534\n",
      "[250]\ttraining's binary_logloss: 0.565197\tvalid_1's binary_logloss: 0.564999\n",
      "[260]\ttraining's binary_logloss: 0.56374\tvalid_1's binary_logloss: 0.563538\n",
      "[270]\ttraining's binary_logloss: 0.562354\tvalid_1's binary_logloss: 0.562147\n",
      "[280]\ttraining's binary_logloss: 0.561036\tvalid_1's binary_logloss: 0.560825\n",
      "[290]\ttraining's binary_logloss: 0.559781\tvalid_1's binary_logloss: 0.559566\n",
      "[300]\ttraining's binary_logloss: 0.558588\tvalid_1's binary_logloss: 0.558368\n",
      "[310]\ttraining's binary_logloss: 0.55745\tvalid_1's binary_logloss: 0.557227\n",
      "[320]\ttraining's binary_logloss: 0.556368\tvalid_1's binary_logloss: 0.556141\n",
      "[330]\ttraining's binary_logloss: 0.555335\tvalid_1's binary_logloss: 0.555106\n",
      "[340]\ttraining's binary_logloss: 0.554352\tvalid_1's binary_logloss: 0.554119\n",
      "[350]\ttraining's binary_logloss: 0.553415\tvalid_1's binary_logloss: 0.553179\n",
      "[360]\ttraining's binary_logloss: 0.552522\tvalid_1's binary_logloss: 0.552283\n",
      "[370]\ttraining's binary_logloss: 0.551671\tvalid_1's binary_logloss: 0.551429\n",
      "[380]\ttraining's binary_logloss: 0.550861\tvalid_1's binary_logloss: 0.550616\n",
      "[390]\ttraining's binary_logloss: 0.550088\tvalid_1's binary_logloss: 0.549841\n",
      "[400]\ttraining's binary_logloss: 0.54935\tvalid_1's binary_logloss: 0.5491\n",
      "[410]\ttraining's binary_logloss: 0.548644\tvalid_1's binary_logloss: 0.548393\n",
      "[420]\ttraining's binary_logloss: 0.547972\tvalid_1's binary_logloss: 0.547718\n",
      "[430]\ttraining's binary_logloss: 0.54733\tvalid_1's binary_logloss: 0.547075\n",
      "[440]\ttraining's binary_logloss: 0.546717\tvalid_1's binary_logloss: 0.54646\n",
      "[450]\ttraining's binary_logloss: 0.546132\tvalid_1's binary_logloss: 0.545873\n",
      "[460]\ttraining's binary_logloss: 0.545575\tvalid_1's binary_logloss: 0.545313\n",
      "[470]\ttraining's binary_logloss: 0.545042\tvalid_1's binary_logloss: 0.544779\n",
      "[480]\ttraining's binary_logloss: 0.544534\tvalid_1's binary_logloss: 0.544269\n",
      "[490]\ttraining's binary_logloss: 0.544049\tvalid_1's binary_logloss: 0.543783\n",
      "[500]\ttraining's binary_logloss: 0.543585\tvalid_1's binary_logloss: 0.543317\n",
      "[510]\ttraining's binary_logloss: 0.543143\tvalid_1's binary_logloss: 0.542874\n",
      "[520]\ttraining's binary_logloss: 0.54272\tvalid_1's binary_logloss: 0.54245\n",
      "[530]\ttraining's binary_logloss: 0.542317\tvalid_1's binary_logloss: 0.542046\n",
      "[540]\ttraining's binary_logloss: 0.541932\tvalid_1's binary_logloss: 0.541659\n",
      "[550]\ttraining's binary_logloss: 0.541564\tvalid_1's binary_logloss: 0.54129\n",
      "[560]\ttraining's binary_logloss: 0.541211\tvalid_1's binary_logloss: 0.540936\n",
      "[570]\ttraining's binary_logloss: 0.540875\tvalid_1's binary_logloss: 0.540599\n",
      "[580]\ttraining's binary_logloss: 0.540553\tvalid_1's binary_logloss: 0.540276\n",
      "[590]\ttraining's binary_logloss: 0.540246\tvalid_1's binary_logloss: 0.539967\n",
      "[600]\ttraining's binary_logloss: 0.539951\tvalid_1's binary_logloss: 0.539671\n",
      "[610]\ttraining's binary_logloss: 0.539669\tvalid_1's binary_logloss: 0.539389\n",
      "[620]\ttraining's binary_logloss: 0.539401\tvalid_1's binary_logloss: 0.539119\n",
      "[630]\ttraining's binary_logloss: 0.539144\tvalid_1's binary_logloss: 0.538861\n",
      "[640]\ttraining's binary_logloss: 0.538896\tvalid_1's binary_logloss: 0.538612\n",
      "[650]\ttraining's binary_logloss: 0.53866\tvalid_1's binary_logloss: 0.538375\n",
      "[660]\ttraining's binary_logloss: 0.538433\tvalid_1's binary_logloss: 0.538147\n",
      "[670]\ttraining's binary_logloss: 0.538217\tvalid_1's binary_logloss: 0.53793\n",
      "[680]\ttraining's binary_logloss: 0.53801\tvalid_1's binary_logloss: 0.537723\n",
      "[690]\ttraining's binary_logloss: 0.537812\tvalid_1's binary_logloss: 0.537524\n",
      "[700]\ttraining's binary_logloss: 0.537622\tvalid_1's binary_logloss: 0.537333\n",
      "[710]\ttraining's binary_logloss: 0.537439\tvalid_1's binary_logloss: 0.53715\n",
      "[720]\ttraining's binary_logloss: 0.537263\tvalid_1's binary_logloss: 0.536974\n",
      "[730]\ttraining's binary_logloss: 0.537093\tvalid_1's binary_logloss: 0.536803\n",
      "[740]\ttraining's binary_logloss: 0.536931\tvalid_1's binary_logloss: 0.53664\n",
      "[750]\ttraining's binary_logloss: 0.536774\tvalid_1's binary_logloss: 0.536483\n",
      "[760]\ttraining's binary_logloss: 0.536624\tvalid_1's binary_logloss: 0.536332\n",
      "[770]\ttraining's binary_logloss: 0.53648\tvalid_1's binary_logloss: 0.536188\n",
      "[780]\ttraining's binary_logloss: 0.536342\tvalid_1's binary_logloss: 0.536049\n",
      "[790]\ttraining's binary_logloss: 0.53621\tvalid_1's binary_logloss: 0.535917\n",
      "[800]\ttraining's binary_logloss: 0.536082\tvalid_1's binary_logloss: 0.535789\n",
      "[810]\ttraining's binary_logloss: 0.53596\tvalid_1's binary_logloss: 0.535667\n",
      "[820]\ttraining's binary_logloss: 0.535842\tvalid_1's binary_logloss: 0.535549\n",
      "[830]\ttraining's binary_logloss: 0.53573\tvalid_1's binary_logloss: 0.535436\n",
      "[840]\ttraining's binary_logloss: 0.535622\tvalid_1's binary_logloss: 0.535328\n",
      "[850]\ttraining's binary_logloss: 0.535519\tvalid_1's binary_logloss: 0.535225\n",
      "[860]\ttraining's binary_logloss: 0.53542\tvalid_1's binary_logloss: 0.535126\n",
      "[870]\ttraining's binary_logloss: 0.535324\tvalid_1's binary_logloss: 0.535029\n",
      "[880]\ttraining's binary_logloss: 0.53523\tvalid_1's binary_logloss: 0.534935\n",
      "[890]\ttraining's binary_logloss: 0.53514\tvalid_1's binary_logloss: 0.534845\n",
      "[900]\ttraining's binary_logloss: 0.535054\tvalid_1's binary_logloss: 0.534759\n",
      "[910]\ttraining's binary_logloss: 0.534971\tvalid_1's binary_logloss: 0.534677\n",
      "[920]\ttraining's binary_logloss: 0.534893\tvalid_1's binary_logloss: 0.534599\n",
      "[930]\ttraining's binary_logloss: 0.534818\tvalid_1's binary_logloss: 0.534523\n",
      "[940]\ttraining's binary_logloss: 0.534746\tvalid_1's binary_logloss: 0.534451\n",
      "[950]\ttraining's binary_logloss: 0.534677\tvalid_1's binary_logloss: 0.534382\n",
      "[960]\ttraining's binary_logloss: 0.534611\tvalid_1's binary_logloss: 0.534317\n",
      "[970]\ttraining's binary_logloss: 0.534547\tvalid_1's binary_logloss: 0.534253\n",
      "[980]\ttraining's binary_logloss: 0.534485\tvalid_1's binary_logloss: 0.534191\n",
      "[990]\ttraining's binary_logloss: 0.534425\tvalid_1's binary_logloss: 0.534132\n",
      "[1000]\ttraining's binary_logloss: 0.534369\tvalid_1's binary_logloss: 0.534075\n",
      "Did not meet early stopping. Best iteration is:\n",
      "[1000]\ttraining's binary_logloss: 0.534369\tvalid_1's binary_logloss: 0.534075\n"
     ]
    }
   ],
   "source": [
    "clf = lgb.train(params,d_train,valid_sets=[d_train,d_eval],verbose_eval=10,num_boost_round=1000,\\\n",
    "               early_stopping_rounds=10)"
   ]
  },
  {
   "cell_type": "code",
   "execution_count": 73,
   "metadata": {
    "execution": {
     "iopub.execute_input": "2020-12-03T20:27:57.143830Z",
     "iopub.status.busy": "2020-12-03T20:27:57.143010Z",
     "iopub.status.idle": "2020-12-03T20:30:45.844741Z",
     "shell.execute_reply": "2020-12-03T20:30:45.843767Z"
    },
    "papermill": {
     "duration": 168.831915,
     "end_time": "2020-12-03T20:30:45.844895",
     "exception": false,
     "start_time": "2020-12-03T20:27:57.012980",
     "status": "completed"
    },
    "tags": []
   },
   "outputs": [],
   "source": [
    "ypr = clf.predict(xts)"
   ]
  },
  {
   "cell_type": "code",
   "execution_count": 74,
   "metadata": {
    "execution": {
     "iopub.execute_input": "2020-12-03T20:30:46.086918Z",
     "iopub.status.busy": "2020-12-03T20:30:46.086159Z",
     "iopub.status.idle": "2020-12-03T20:30:47.864627Z",
     "shell.execute_reply": "2020-12-03T20:30:47.863743Z"
    },
    "papermill": {
     "duration": 1.902387,
     "end_time": "2020-12-03T20:30:47.864787",
     "exception": false,
     "start_time": "2020-12-03T20:30:45.962400",
     "status": "completed"
    },
    "tags": []
   },
   "outputs": [
    {
     "data": {
      "text/plain": [
       "0.7670697866745382"
      ]
     },
     "execution_count": 74,
     "metadata": {},
     "output_type": "execute_result"
    }
   ],
   "source": [
    "roc_auc_score(yts,ypr)"
   ]
  },
  {
   "cell_type": "code",
   "execution_count": 75,
   "metadata": {
    "execution": {
     "iopub.execute_input": "2020-12-03T20:30:48.116570Z",
     "iopub.status.busy": "2020-12-03T20:30:48.115511Z",
     "iopub.status.idle": "2020-12-03T20:30:48.367536Z",
     "shell.execute_reply": "2020-12-03T20:30:48.366847Z"
    },
    "papermill": {
     "duration": 0.38256,
     "end_time": "2020-12-03T20:30:48.367684",
     "exception": false,
     "start_time": "2020-12-03T20:30:47.985124",
     "status": "completed"
    },
    "tags": []
   },
   "outputs": [
    {
     "data": {
      "image/png": "[encoded data removed]",
      "text/plain": [
       "<Figure size 432x288 with 1 Axes>"
      ]
     },
     "metadata": {
      "needs_background": "light"
     },
     "output_type": "display_data"
    }
   ],
   "source": [
    "lgb.plot_importance(clf)\n",
    "plt.show()"
   ]
  },
  {
   "cell_type": "markdown",
   "metadata": {
    "papermill": {
     "duration": 0.221368,
     "end_time": "2020-12-03T20:30:48.709631",
     "exception": false,
     "start_time": "2020-12-03T20:30:48.488263",
     "status": "completed"
    },
    "tags": []
   },
   "source": [
    "<h2> Submission </h2>"
   ]
  },
  {
   "cell_type": "code",
   "execution_count": 76,
   "metadata": {
    "execution": {
     "iopub.execute_input": "2020-12-03T20:30:48.970494Z",
     "iopub.status.busy": "2020-12-03T20:30:48.969663Z",
     "iopub.status.idle": "2020-12-03T20:30:48.993031Z",
     "shell.execute_reply": "2020-12-03T20:30:48.992265Z"
    },
    "papermill": {
     "duration": 0.161097,
     "end_time": "2020-12-03T20:30:48.993180",
     "exception": false,
     "start_time": "2020-12-03T20:30:48.832083",
     "status": "completed"
    },
    "tags": []
   },
   "outputs": [],
   "source": [
    "import time \n",
    "import riiideducation\n",
    "\n",
    "env = riiideducation.make_env()"
   ]
  },
  {
   "cell_type": "code",
   "execution_count": 77,
   "metadata": {
    "execution": {
     "iopub.execute_input": "2020-12-03T20:30:49.254285Z",
     "iopub.status.busy": "2020-12-03T20:30:49.253400Z",
     "iopub.status.idle": "2020-12-03T20:30:49.258040Z",
     "shell.execute_reply": "2020-12-03T20:30:49.257340Z"
    },
    "papermill": {
     "duration": 0.14297,
     "end_time": "2020-12-03T20:30:49.258175",
     "exception": false,
     "start_time": "2020-12-03T20:30:49.115205",
     "status": "completed"
    },
    "tags": []
   },
   "outputs": [],
   "source": [
    "iter_test = env.iter_test()"
   ]
  },
  {
   "cell_type": "code",
   "execution_count": 78,
   "metadata": {
    "execution": {
     "iopub.execute_input": "2020-12-03T20:30:49.538047Z",
     "iopub.status.busy": "2020-12-03T20:30:49.537227Z",
     "iopub.status.idle": "2020-12-03T20:30:51.485177Z",
     "shell.execute_reply": "2020-12-03T20:30:51.484263Z"
    },
    "papermill": {
     "duration": 2.089697,
     "end_time": "2020-12-03T20:30:51.485327",
     "exception": false,
     "start_time": "2020-12-03T20:30:49.395630",
     "status": "completed"
    },
    "tags": []
   },
   "outputs": [],
   "source": [
    "start_time=time.time()\n",
    "max_time=8*60*60\n",
    "for (test_df, sample_prediction_df) in iter_test:\n",
    "    duration = time.time()-start_time\n",
    "    if duration > max_time :\n",
    "        test_df = test_df[test_df['content_type_id'] == 0]\n",
    "        test_df['answered_correctly'] = 0.5\n",
    "        env.predict(test_df[['row_id', 'answered_correctly']])\n",
    "    else :\n",
    "        y_preds = []\n",
    "        test_df[\"prior_question_had_explanation\"] = test_df[\"prior_question_had_explanation\"].fillna(False).\\\n",
    "astype('int8')\n",
    "        test_df=pd.concat([test_df.reset_index(drop=True),question_df.reindex(test_df[\"content_id\"].values).\\\n",
    "               reset_index(drop = True)],axis=1)\n",
    "        test_df['tags'].fillna(1,inplace = True)\n",
    "        test_df = test_df.merge(users,how='left',left_on=[\"user_id\",\"tags\"],right_index=True)\n",
    "        test_df=pd.concat([test_df.reset_index(drop=True),question.reindex\\\n",
    "                       (test_df['content_id'].values).reset_index(drop=True)],axis=1)\n",
    "        \n",
    "        #test_df['tags'].fillna(40,inplace=True)\n",
    "        #test_df['part'].fillna(1,inplace=True)\n",
    "        #test_df = test_df.merge(users,how='left',left_on=['user_id','tags'],right_index=True)\n",
    "        #test_df=pd.concat([test_df.reset_index(drop=True),question.reindex(test_df['content_id'].values).\\\n",
    "             #reset_index(drop=True)],axis=1)\n",
    "    \n",
    "    \n",
    "        #test_df['prior_question_had_explanation'] = test_df['prior_question_had_explanation'].fillna(value = False).astype(bool)\n",
    "        #test_df['prior_question_had_explanation'] = test_df['prior_question_had_explanation'].astype(np.int8)\n",
    "        test_df = test_df.replace([np.inf, -np.inf], np.nan)\n",
    "        test_df[\"mean_user\"].fillna(0.5,inplace=True)\n",
    "        test_df[\"mean_question\"].fillna(0.5,inplace=True)\n",
    "        test_df[\"count_user\"].fillna(1,inplace=True)\n",
    "        test_df.fillna(0,inplace=True)\n",
    "        #test_df.fillna(value=0.5, inplace = True)\n",
    "        #for model in mdls:\n",
    "            #y_pred = model.predict(test_df[features].values)\n",
    "            #y_preds.append(y_pred)\n",
    "\n",
    "        #y_preds = sum(y_preds) / len(y_preds)\n",
    "        test_df['answered_correctly'] = clf.predict(test_df[features])\n",
    "        env.predict(test_df.loc[test_df['content_type_id'] == 0, ['row_id', 'answered_correctly']])"
   ]
  }
 ],
 "metadata": {
  "kernelspec": {
   "display_name": "Python 3",
   "language": "python",
   "name": "python3"
  },
  "language_info": {
   "codemirror_mode": {
    "name": "ipython",
    "version": 3
   },
   "file_extension": ".py",
   "mimetype": "text/x-python",
   "name": "python",
   "nbconvert_exporter": "python",
   "pygments_lexer": "ipython3",
   "version": "3.7.6"
  },
  "papermill": {
   "duration": 2827.800436,
   "end_time": "2020-12-03T20:30:51.716672",
   "environment_variables": {},
   "exception": null,
   "input_path": "__notebook__.ipynb",
   "output_path": "__notebook__.ipynb",
   "parameters": {},
   "start_time": "2020-12-03T19:43:43.916236",
   "version": "2.1.0"
  }
 },
 "nbformat": 4,
 "nbformat_minor": 4
}
