{
 "cells": [
  {
   "cell_type": "code",
   "execution_count": 1,
   "metadata": {
    "execution": {
     "iopub.execute_input": "2021-01-04T18:19:10.911094Z",
     "iopub.status.busy": "2021-01-04T18:19:10.909999Z",
     "iopub.status.idle": "2021-01-04T18:19:10.912802Z",
     "shell.execute_reply": "2021-01-04T18:19:10.913336Z"
    },
    "papermill": {
     "duration": 0.099467,
     "end_time": "2021-01-04T18:19:10.913522",
     "exception": false,
     "start_time": "2021-01-04T18:19:10.814055",
     "status": "completed"
    },
    "tags": []
   },
   "outputs": [],
   "source": [
    "def reduce_mem_usage(df):\n",
    "    \"\"\" iterate through all the columns of a dataframe and modify the data type\n",
    "        to reduce memory usage.        \n",
    "    \"\"\"\n",
    "    start_mem = df.memory_usage().sum() / 1024**2\n",
    "    print('Memory usage of dataframe is {:.2f} MB'.format(start_mem))\n",
    "    \n",
    "    for col in df.columns:\n",
    "        col_type = df[col].dtype\n",
    "        \n",
    "        if col_type != object:\n",
    "            c_min = df[col].min()\n",
    "            c_max = df[col].max()\n",
    "            if str(col_type)[:3] == 'int':\n",
    "                if c_min > np.iinfo(np.int8).min and c_max < np.iinfo(np.int8).max:\n",
    "                    df[col] = df[col].astype(np.int8)\n",
    "                elif c_min > np.iinfo(np.int16).min and c_max < np.iinfo(np.int16).max:\n",
    "                    df[col] = df[col].astype(np.int16)\n",
    "                elif c_min > np.iinfo(np.int32).min and c_max < np.iinfo(np.int32).max:\n",
    "                    df[col] = df[col].astype(np.int32)\n",
    "                elif c_min > np.iinfo(np.int64).min and c_max < np.iinfo(np.int64).max:\n",
    "                    df[col] = df[col].astype(np.int64)  \n",
    "            else:\n",
    "                if c_min > np.finfo(np.float16).min and c_max < np.finfo(np.float16).max:\n",
    "                    df[col] = df[col].astype(np.float16)\n",
    "                elif c_min > np.finfo(np.float32).min and c_max < np.finfo(np.float32).max:\n",
    "                    df[col] = df[col].astype(np.float32)\n",
    "                else:\n",
    "                    df[col] = df[col].astype(np.float64)\n",
    "        else:\n",
    "            df[col] = df[col].astype('category')\n",
    "\n",
    "    end_mem = df.memory_usage().sum() / 1024**2\n",
    "    print('Memory usage after optimization is: {:.2f} MB'.format(end_mem))\n",
    "    print('Decreased by {:.1f}%'.format(100 * (start_mem - end_mem) / start_mem))\n",
    "    \n",
    "    return df"
   ]
  },
  {
   "cell_type": "code",
   "execution_count": 2,
   "metadata": {
    "_cell_guid": "b1076dfc-b9ad-4769-8c92-a6c4dae69d19",
    "_uuid": "8f2839f25d086af736a60e9eeb907d3b93b6e0e5",
    "execution": {
     "iopub.execute_input": "2021-01-04T18:19:11.059462Z",
     "iopub.status.busy": "2021-01-04T18:19:11.058445Z",
     "iopub.status.idle": "2021-01-04T18:19:11.097990Z",
     "shell.execute_reply": "2021-01-04T18:19:11.097143Z"
    },
    "papermill": {
     "duration": 0.112839,
     "end_time": "2021-01-04T18:19:11.098157",
     "exception": false,
     "start_time": "2021-01-04T18:19:10.985318",
     "status": "completed"
    },
    "tags": []
   },
   "outputs": [
    {
     "name": "stdout",
     "output_type": "stream",
     "text": [
      "/kaggle/input/riiid-test-answer-prediction/example_sample_submission.csv\n",
      "/kaggle/input/riiid-test-answer-prediction/example_test.csv\n",
      "/kaggle/input/riiid-test-answer-prediction/questions.csv\n",
      "/kaggle/input/riiid-test-answer-prediction/train.csv\n",
      "/kaggle/input/riiid-test-answer-prediction/lectures.csv\n",
      "/kaggle/input/riiid-test-answer-prediction/riiideducation/competition.cpython-37m-x86_64-linux-gnu.so\n",
      "/kaggle/input/riiid-test-answer-prediction/riiideducation/__init__.py\n",
      "/kaggle/input/2020-r3id-clustering-question-tags/__results__.html\n",
      "/kaggle/input/2020-r3id-clustering-question-tags/question_cmnts.csv\n",
      "/kaggle/input/2020-r3id-clustering-question-tags/__resultx__.html\n",
      "/kaggle/input/2020-r3id-clustering-question-tags/__notebook__.ipynb\n",
      "/kaggle/input/2020-r3id-clustering-question-tags/__output__.json\n",
      "/kaggle/input/2020-r3id-clustering-question-tags/custom.css\n",
      "/kaggle/input/2020-r3id-clustering-question-tags/__results___files/__results___20_0.png\n",
      "/kaggle/input/2020-r3id-clustering-question-tags/__results___files/__results___14_0.png\n",
      "/kaggle/input/2020-r3id-clustering-question-tags/__results___files/__results___10_0.png\n",
      "/kaggle/input/2020-r3id-clustering-question-tags/__results___files/__results___21_0.png\n",
      "/kaggle/input/2020-r3id-clustering-question-tags/__results___files/__results___24_1.png\n"
     ]
    }
   ],
   "source": [
    "# This Python 3 environment comes with many helpful analytics libraries installed\n",
    "# It is defined by the kaggle/python Docker image: https://github.com/kaggle/docker-python\n",
    "# For example, here's several helpful packages to load\n",
    "\n",
    "import numpy as np # linear algebra\n",
    "import pandas as pd # data processing, CSV file I/O (e.g. pd.read_csv)\n",
    "\n",
    "# Input data files are available in the read-only \"../input/\" directory\n",
    "# For example, running this (by clicking run or pressing Shift+Enter) will list all files under the input directory\n",
    "\n",
    "import os\n",
    "for dirname, _, filenames in os.walk('/kaggle/input'):\n",
    "    for filename in filenames:\n",
    "        print(os.path.join(dirname, filename))\n",
    "\n",
    "# You can write up to 20GB to the current directory (/kaggle/working/) that gets preserved as output when you create a version using \"Save & Run All\" \n",
    "# You can also write temporary files to /kaggle/temp/, but they won't be saved outside of the current session"
   ]
  },
  {
   "cell_type": "code",
   "execution_count": 3,
   "metadata": {
    "_cell_guid": "79c7e3d0-c299-4dcb-8224-4455121ee9b0",
    "_uuid": "d629ff2d2480ee46fbb7e2d37f6b5fab8052498a",
    "execution": {
     "iopub.execute_input": "2021-01-04T18:19:11.248745Z",
     "iopub.status.busy": "2021-01-04T18:19:11.247695Z",
     "iopub.status.idle": "2021-01-04T18:19:12.837692Z",
     "shell.execute_reply": "2021-01-04T18:19:12.836938Z"
    },
    "papermill": {
     "duration": 1.667213,
     "end_time": "2021-01-04T18:19:12.837821",
     "exception": false,
     "start_time": "2021-01-04T18:19:11.170608",
     "status": "completed"
    },
    "tags": []
   },
   "outputs": [
    {
     "data": {
      "text/html": [
       "<style type='text/css'>\n",
       ".datatable table.frame { margin-bottom: 0; }\n",
       ".datatable table.frame thead { border-bottom: none; }\n",
       ".datatable table.frame tr.coltypes td {  color: #FFFFFF;  line-height: 6px;  padding: 0 0.5em;}\n",
       ".datatable .bool    { background: #DDDD99; }\n",
       ".datatable .object  { background: #565656; }\n",
       ".datatable .int     { background: #5D9E5D; }\n",
       ".datatable .float   { background: #4040CC; }\n",
       ".datatable .str     { background: #CC4040; }\n",
       ".datatable .row_index {  background: var(--jp-border-color3);  border-right: 1px solid var(--jp-border-color0);  color: var(--jp-ui-font-color3);  font-size: 9px;}\n",
       ".datatable .frame tr.coltypes .row_index {  background: var(--jp-border-color0);}\n",
       ".datatable th:nth-child(2) { padding-left: 12px; }\n",
       ".datatable .hellipsis {  color: var(--jp-cell-editor-border-color);}\n",
       ".datatable .vellipsis {  background: var(--jp-layout-color0);  color: var(--jp-cell-editor-border-color);}\n",
       ".datatable .na {  color: var(--jp-cell-editor-border-color);  font-size: 80%;}\n",
       ".datatable .footer { font-size: 9px; }\n",
       ".datatable .frame_dimensions {  background: var(--jp-border-color3);  border-top: 1px solid var(--jp-border-color0);  color: var(--jp-ui-font-color3);  display: inline-block;  opacity: 0.6;  padding: 1px 10px 1px 5px;}\n",
       "</style>\n"
      ],
      "text/plain": [
       "<IPython.core.display.HTML object>"
      ]
     },
     "metadata": {},
     "output_type": "display_data"
    }
   ],
   "source": [
    "import matplotlib.pyplot as plt \n",
    "from sklearn.cluster import KMeans\n",
    "import gc\n",
    "import lightgbm as lgbm\n",
    "from sklearn.model_selection import train_test_split\n",
    "from sklearn.metrics import roc_auc_score"
   ]
  },
  {
   "cell_type": "code",
   "execution_count": 4,
   "metadata": {
    "execution": {
     "iopub.execute_input": "2021-01-04T18:19:12.988619Z",
     "iopub.status.busy": "2021-01-04T18:19:12.987872Z",
     "iopub.status.idle": "2021-01-04T18:19:12.991132Z",
     "shell.execute_reply": "2021-01-04T18:19:12.991688Z"
    },
    "papermill": {
     "duration": 0.082178,
     "end_time": "2021-01-04T18:19:12.991834",
     "exception": false,
     "start_time": "2021-01-04T18:19:12.909656",
     "status": "completed"
    },
    "tags": []
   },
   "outputs": [],
   "source": [
    "#lectures= pd.read_csv(\"/kaggle/input/riiid-test-answer-prediction/lectures.csv\")"
   ]
  },
  {
   "cell_type": "code",
   "execution_count": 5,
   "metadata": {
    "execution": {
     "iopub.execute_input": "2021-01-04T18:19:13.142232Z",
     "iopub.status.busy": "2021-01-04T18:19:13.141558Z",
     "iopub.status.idle": "2021-01-04T18:19:13.144719Z",
     "shell.execute_reply": "2021-01-04T18:19:13.145199Z"
    },
    "papermill": {
     "duration": 0.081771,
     "end_time": "2021-01-04T18:19:13.145347",
     "exception": false,
     "start_time": "2021-01-04T18:19:13.063576",
     "status": "completed"
    },
    "tags": []
   },
   "outputs": [],
   "source": [
    "#lectures[\"type_of\"] =lectures[\"type_of\"].str.replace('solving question','solving_question')"
   ]
  },
  {
   "cell_type": "code",
   "execution_count": 6,
   "metadata": {
    "execution": {
     "iopub.execute_input": "2021-01-04T18:19:13.292496Z",
     "iopub.status.busy": "2021-01-04T18:19:13.291693Z",
     "iopub.status.idle": "2021-01-04T18:19:13.294874Z",
     "shell.execute_reply": "2021-01-04T18:19:13.294326Z"
    },
    "papermill": {
     "duration": 0.078861,
     "end_time": "2021-01-04T18:19:13.295021",
     "exception": false,
     "start_time": "2021-01-04T18:19:13.216160",
     "status": "completed"
    },
    "tags": []
   },
   "outputs": [],
   "source": [
    "#lectures=pd.get_dummies(lectures,columns=[\"part\",\"type_of\"])"
   ]
  },
  {
   "cell_type": "code",
   "execution_count": 7,
   "metadata": {
    "execution": {
     "iopub.execute_input": "2021-01-04T18:19:13.442275Z",
     "iopub.status.busy": "2021-01-04T18:19:13.441216Z",
     "iopub.status.idle": "2021-01-04T18:19:13.444421Z",
     "shell.execute_reply": "2021-01-04T18:19:13.443739Z"
    },
    "papermill": {
     "duration": 0.077992,
     "end_time": "2021-01-04T18:19:13.444539",
     "exception": false,
     "start_time": "2021-01-04T18:19:13.366547",
     "status": "completed"
    },
    "tags": []
   },
   "outputs": [],
   "source": [
    "#lectures=lectures.rename(columns={\"lecture_id\":\"content_id\"})"
   ]
  },
  {
   "cell_type": "code",
   "execution_count": 8,
   "metadata": {
    "execution": {
     "iopub.execute_input": "2021-01-04T18:19:13.594215Z",
     "iopub.status.busy": "2021-01-04T18:19:13.593161Z",
     "iopub.status.idle": "2021-01-04T18:19:13.596687Z",
     "shell.execute_reply": "2021-01-04T18:19:13.596118Z"
    },
    "papermill": {
     "duration": 0.080735,
     "end_time": "2021-01-04T18:19:13.596801",
     "exception": false,
     "start_time": "2021-01-04T18:19:13.516066",
     "status": "completed"
    },
    "tags": []
   },
   "outputs": [],
   "source": [
    "#lectures = reduce_mem_usage(lectures)"
   ]
  },
  {
   "cell_type": "code",
   "execution_count": 9,
   "metadata": {
    "execution": {
     "iopub.execute_input": "2021-01-04T18:19:13.748482Z",
     "iopub.status.busy": "2021-01-04T18:19:13.747788Z",
     "iopub.status.idle": "2021-01-04T18:19:13.775078Z",
     "shell.execute_reply": "2021-01-04T18:19:13.774292Z"
    },
    "papermill": {
     "duration": 0.107523,
     "end_time": "2021-01-04T18:19:13.775198",
     "exception": false,
     "start_time": "2021-01-04T18:19:13.667675",
     "status": "completed"
    },
    "tags": []
   },
   "outputs": [],
   "source": [
    "questions = pd.read_csv('/kaggle/input/riiid-test-answer-prediction/questions.csv')"
   ]
  },
  {
   "cell_type": "code",
   "execution_count": 10,
   "metadata": {
    "execution": {
     "iopub.execute_input": "2021-01-04T18:19:13.940208Z",
     "iopub.status.busy": "2021-01-04T18:19:13.939117Z",
     "iopub.status.idle": "2021-01-04T18:19:13.942784Z",
     "shell.execute_reply": "2021-01-04T18:19:13.943676Z"
    },
    "papermill": {
     "duration": 0.096329,
     "end_time": "2021-01-04T18:19:13.943868",
     "exception": false,
     "start_time": "2021-01-04T18:19:13.847539",
     "status": "completed"
    },
    "tags": []
   },
   "outputs": [],
   "source": [
    "questions[\"tags\"].fillna(\"1188\",inplace=True)"
   ]
  },
  {
   "cell_type": "code",
   "execution_count": 11,
   "metadata": {
    "execution": {
     "iopub.execute_input": "2021-01-04T18:19:14.143932Z",
     "iopub.status.busy": "2021-01-04T18:19:14.143114Z",
     "iopub.status.idle": "2021-01-04T18:19:14.155760Z",
     "shell.execute_reply": "2021-01-04T18:19:14.156282Z"
    },
    "papermill": {
     "duration": 0.107567,
     "end_time": "2021-01-04T18:19:14.156499",
     "exception": false,
     "start_time": "2021-01-04T18:19:14.048932",
     "status": "completed"
    },
    "tags": []
   },
   "outputs": [],
   "source": [
    "cmnt=pd.read_csv('/kaggle/input/2020-r3id-clustering-question-tags/question_cmnts.csv')"
   ]
  },
  {
   "cell_type": "code",
   "execution_count": 12,
   "metadata": {
    "execution": {
     "iopub.execute_input": "2021-01-04T18:19:14.305512Z",
     "iopub.status.busy": "2021-01-04T18:19:14.304444Z",
     "iopub.status.idle": "2021-01-04T18:19:14.311516Z",
     "shell.execute_reply": "2021-01-04T18:19:14.310769Z"
    },
    "papermill": {
     "duration": 0.081939,
     "end_time": "2021-01-04T18:19:14.311637",
     "exception": false,
     "start_time": "2021-01-04T18:19:14.229698",
     "status": "completed"
    },
    "tags": []
   },
   "outputs": [],
   "source": [
    "questions[\"community\"] = cmnt[\"community\"]"
   ]
  },
  {
   "cell_type": "code",
   "execution_count": 13,
   "metadata": {
    "execution": {
     "iopub.execute_input": "2021-01-04T18:19:14.463730Z",
     "iopub.status.busy": "2021-01-04T18:19:14.462791Z",
     "iopub.status.idle": "2021-01-04T18:19:14.465616Z",
     "shell.execute_reply": "2021-01-04T18:19:14.466093Z"
    },
    "papermill": {
     "duration": 0.08114,
     "end_time": "2021-01-04T18:19:14.466255",
     "exception": false,
     "start_time": "2021-01-04T18:19:14.385115",
     "status": "completed"
    },
    "tags": []
   },
   "outputs": [],
   "source": [
    "del(cmnt)"
   ]
  },
  {
   "cell_type": "code",
   "execution_count": 14,
   "metadata": {
    "execution": {
     "iopub.execute_input": "2021-01-04T18:19:14.616022Z",
     "iopub.status.busy": "2021-01-04T18:19:14.615235Z",
     "iopub.status.idle": "2021-01-04T18:19:14.619743Z",
     "shell.execute_reply": "2021-01-04T18:19:14.619044Z"
    },
    "papermill": {
     "duration": 0.081833,
     "end_time": "2021-01-04T18:19:14.619861",
     "exception": false,
     "start_time": "2021-01-04T18:19:14.538028",
     "status": "completed"
    },
    "tags": []
   },
   "outputs": [],
   "source": [
    "#df =questions[\"tags\"].str.split(expand=True)"
   ]
  },
  {
   "cell_type": "code",
   "execution_count": 15,
   "metadata": {
    "execution": {
     "iopub.execute_input": "2021-01-04T18:19:14.769941Z",
     "iopub.status.busy": "2021-01-04T18:19:14.769174Z",
     "iopub.status.idle": "2021-01-04T18:19:14.772411Z",
     "shell.execute_reply": "2021-01-04T18:19:14.771761Z"
    },
    "papermill": {
     "duration": 0.080804,
     "end_time": "2021-01-04T18:19:14.772525",
     "exception": false,
     "start_time": "2021-01-04T18:19:14.691721",
     "status": "completed"
    },
    "tags": []
   },
   "outputs": [],
   "source": [
    "#for col in df.columns :\n",
    "    #df[col]=pd.to_numeric(df[col])"
   ]
  },
  {
   "cell_type": "code",
   "execution_count": 16,
   "metadata": {
    "execution": {
     "iopub.execute_input": "2021-01-04T18:19:14.924177Z",
     "iopub.status.busy": "2021-01-04T18:19:14.923433Z",
     "iopub.status.idle": "2021-01-04T18:19:14.926275Z",
     "shell.execute_reply": "2021-01-04T18:19:14.925598Z"
    },
    "papermill": {
     "duration": 0.081525,
     "end_time": "2021-01-04T18:19:14.926401",
     "exception": false,
     "start_time": "2021-01-04T18:19:14.844876",
     "status": "completed"
    },
    "tags": []
   },
   "outputs": [],
   "source": [
    "#df.fillna(0,inplace=True)"
   ]
  },
  {
   "cell_type": "code",
   "execution_count": 17,
   "metadata": {
    "execution": {
     "iopub.execute_input": "2021-01-04T18:19:15.079238Z",
     "iopub.status.busy": "2021-01-04T18:19:15.078526Z",
     "iopub.status.idle": "2021-01-04T18:19:15.080974Z",
     "shell.execute_reply": "2021-01-04T18:19:15.081477Z"
    },
    "papermill": {
     "duration": 0.080861,
     "end_time": "2021-01-04T18:19:15.081634",
     "exception": false,
     "start_time": "2021-01-04T18:19:15.000773",
     "status": "completed"
    },
    "tags": []
   },
   "outputs": [],
   "source": [
    "#kmean= KMeans(n_clusters=40)"
   ]
  },
  {
   "cell_type": "code",
   "execution_count": 18,
   "metadata": {
    "execution": {
     "iopub.execute_input": "2021-01-04T18:19:15.237472Z",
     "iopub.status.busy": "2021-01-04T18:19:15.236595Z",
     "iopub.status.idle": "2021-01-04T18:19:15.240099Z",
     "shell.execute_reply": "2021-01-04T18:19:15.239431Z"
    },
    "papermill": {
     "duration": 0.083314,
     "end_time": "2021-01-04T18:19:15.240242",
     "exception": false,
     "start_time": "2021-01-04T18:19:15.156928",
     "status": "completed"
    },
    "tags": []
   },
   "outputs": [],
   "source": [
    "#kmean.fit(df.values)"
   ]
  },
  {
   "cell_type": "code",
   "execution_count": 19,
   "metadata": {
    "execution": {
     "iopub.execute_input": "2021-01-04T18:19:15.392133Z",
     "iopub.status.busy": "2021-01-04T18:19:15.391263Z",
     "iopub.status.idle": "2021-01-04T18:19:15.394307Z",
     "shell.execute_reply": "2021-01-04T18:19:15.394977Z"
    },
    "papermill": {
     "duration": 0.080882,
     "end_time": "2021-01-04T18:19:15.395131",
     "exception": false,
     "start_time": "2021-01-04T18:19:15.314249",
     "status": "completed"
    },
    "tags": []
   },
   "outputs": [],
   "source": [
    "#questions[\"tag\"] = kmean.labels_"
   ]
  },
  {
   "cell_type": "code",
   "execution_count": 20,
   "metadata": {
    "execution": {
     "iopub.execute_input": "2021-01-04T18:19:15.547300Z",
     "iopub.status.busy": "2021-01-04T18:19:15.546623Z",
     "iopub.status.idle": "2021-01-04T18:19:15.552312Z",
     "shell.execute_reply": "2021-01-04T18:19:15.552840Z"
    },
    "papermill": {
     "duration": 0.083554,
     "end_time": "2021-01-04T18:19:15.553002",
     "exception": false,
     "start_time": "2021-01-04T18:19:15.469448",
     "status": "completed"
    },
    "tags": []
   },
   "outputs": [],
   "source": [
    "questions=questions.rename(columns={\"question_id\":\"content_id\"})"
   ]
  },
  {
   "cell_type": "code",
   "execution_count": 21,
   "metadata": {
    "execution": {
     "iopub.execute_input": "2021-01-04T18:19:15.705742Z",
     "iopub.status.busy": "2021-01-04T18:19:15.704985Z",
     "iopub.status.idle": "2021-01-04T18:19:15.723863Z",
     "shell.execute_reply": "2021-01-04T18:19:15.722822Z"
    },
    "papermill": {
     "duration": 0.096069,
     "end_time": "2021-01-04T18:19:15.724029",
     "exception": false,
     "start_time": "2021-01-04T18:19:15.627960",
     "status": "completed"
    },
    "tags": []
   },
   "outputs": [
    {
     "name": "stdout",
     "output_type": "stream",
     "text": [
      "Memory usage of dataframe is 0.62 MB\n",
      "Memory usage after optimization is: 0.17 MB\n",
      "Decreased by 73.1%\n"
     ]
    }
   ],
   "source": [
    "questions = reduce_mem_usage(questions)"
   ]
  },
  {
   "cell_type": "code",
   "execution_count": 22,
   "metadata": {
    "execution": {
     "iopub.execute_input": "2021-01-04T18:19:15.883903Z",
     "iopub.status.busy": "2021-01-04T18:19:15.883157Z",
     "iopub.status.idle": "2021-01-04T18:24:45.393716Z",
     "shell.execute_reply": "2021-01-04T18:24:45.392554Z"
    },
    "papermill": {
     "duration": 329.595754,
     "end_time": "2021-01-04T18:24:45.393865",
     "exception": false,
     "start_time": "2021-01-04T18:19:15.798111",
     "status": "completed"
    },
    "tags": []
   },
   "outputs": [],
   "source": [
    "data_types_dict = {\n",
    "    'timestamp': 'int64',\n",
    "    'user_id': 'int32', \n",
    "    'content_id': 'int16', \n",
    "    'content_type_id':'int8', \n",
    "    'task_container_id': 'int16',\n",
    "    #'user_answer': 'int8',\n",
    "    'answered_correctly': 'int8', \n",
    "    'prior_question_elapsed_time': 'float32', \n",
    "    'prior_question_had_explanation': 'boolean'\n",
    "}\n",
    "train = pd.read_csv(\"/kaggle/input/riiid-test-answer-prediction/train.csv\",dtype=data_types_dict,\\\n",
    "                   na_values=str)"
   ]
  },
  {
   "cell_type": "code",
   "execution_count": 23,
   "metadata": {
    "execution": {
     "iopub.execute_input": "2021-01-04T18:24:45.549077Z",
     "iopub.status.busy": "2021-01-04T18:24:45.548301Z",
     "iopub.status.idle": "2021-01-04T18:24:51.617801Z",
     "shell.execute_reply": "2021-01-04T18:24:51.617059Z"
    },
    "papermill": {
     "duration": 6.149591,
     "end_time": "2021-01-04T18:24:51.617918",
     "exception": false,
     "start_time": "2021-01-04T18:24:45.468327",
     "status": "completed"
    },
    "tags": []
   },
   "outputs": [
    {
     "name": "stdout",
     "output_type": "stream",
     "text": [
      "Memory usage of dataframe is 3861.63 MB\n",
      "Memory usage after optimization is: 2799.68 MB\n",
      "Decreased by 27.5%\n"
     ]
    }
   ],
   "source": [
    "train = reduce_mem_usage(train)"
   ]
  },
  {
   "cell_type": "code",
   "execution_count": 24,
   "metadata": {
    "execution": {
     "iopub.execute_input": "2021-01-04T18:24:51.775686Z",
     "iopub.status.busy": "2021-01-04T18:24:51.774886Z",
     "iopub.status.idle": "2021-01-04T18:24:51.778637Z",
     "shell.execute_reply": "2021-01-04T18:24:51.779200Z"
    },
    "papermill": {
     "duration": 0.084359,
     "end_time": "2021-01-04T18:24:51.779357",
     "exception": false,
     "start_time": "2021-01-04T18:24:51.694998",
     "status": "completed"
    },
    "tags": []
   },
   "outputs": [],
   "source": [
    "#lectures.set_index([\"content_id\"],inplace=True)"
   ]
  },
  {
   "cell_type": "code",
   "execution_count": 25,
   "metadata": {
    "execution": {
     "iopub.execute_input": "2021-01-04T18:24:51.935546Z",
     "iopub.status.busy": "2021-01-04T18:24:51.934624Z",
     "iopub.status.idle": "2021-01-04T18:24:51.937696Z",
     "shell.execute_reply": "2021-01-04T18:24:51.937106Z"
    },
    "papermill": {
     "duration": 0.082221,
     "end_time": "2021-01-04T18:24:51.937813",
     "exception": false,
     "start_time": "2021-01-04T18:24:51.855592",
     "status": "completed"
    },
    "tags": []
   },
   "outputs": [],
   "source": [
    "#df_lectures = train[train[\"content_type_id\"]==1]"
   ]
  },
  {
   "cell_type": "code",
   "execution_count": 26,
   "metadata": {
    "execution": {
     "iopub.execute_input": "2021-01-04T18:24:52.097363Z",
     "iopub.status.busy": "2021-01-04T18:24:52.096107Z",
     "iopub.status.idle": "2021-01-04T18:24:52.099762Z",
     "shell.execute_reply": "2021-01-04T18:24:52.098964Z"
    },
    "papermill": {
     "duration": 0.083978,
     "end_time": "2021-01-04T18:24:52.099897",
     "exception": false,
     "start_time": "2021-01-04T18:24:52.015919",
     "status": "completed"
    },
    "tags": []
   },
   "outputs": [],
   "source": [
    "#train_lectures = pd.concat([df_lectures.reset_index(drop=True),lectures.reindex(\\\n",
    "                                                                                #df_lectures[\"content_id\"]).reset_index(drop=True)],axis=1)"
   ]
  },
  {
   "cell_type": "code",
   "execution_count": 27,
   "metadata": {
    "execution": {
     "iopub.execute_input": "2021-01-04T18:24:52.255068Z",
     "iopub.status.busy": "2021-01-04T18:24:52.254324Z",
     "iopub.status.idle": "2021-01-04T18:24:52.256662Z",
     "shell.execute_reply": "2021-01-04T18:24:52.257163Z"
    },
    "papermill": {
     "duration": 0.082474,
     "end_time": "2021-01-04T18:24:52.257318",
     "exception": false,
     "start_time": "2021-01-04T18:24:52.174844",
     "status": "completed"
    },
    "tags": []
   },
   "outputs": [],
   "source": [
    "#del(df_lectures)"
   ]
  },
  {
   "cell_type": "code",
   "execution_count": 28,
   "metadata": {
    "execution": {
     "iopub.execute_input": "2021-01-04T18:24:52.411795Z",
     "iopub.status.busy": "2021-01-04T18:24:52.411008Z",
     "iopub.status.idle": "2021-01-04T18:24:52.414322Z",
     "shell.execute_reply": "2021-01-04T18:24:52.414842Z"
    },
    "papermill": {
     "duration": 0.082475,
     "end_time": "2021-01-04T18:24:52.415003",
     "exception": false,
     "start_time": "2021-01-04T18:24:52.332528",
     "status": "completed"
    },
    "tags": []
   },
   "outputs": [],
   "source": [
    "#user_lect = train_lectures.groupby(\"user_id\")[\"part_1\",\"part_2\",\"part_3\",\"part_4\",\"part_5\",\\\n",
    "                                             #\"part_6\",\"part_7\",\"type_of_concept\",\"type_of_intention\",\\\n",
    "                                             #\"type_of_solving_question\",\"type_of_starter\"].sum()"
   ]
  },
  {
   "cell_type": "code",
   "execution_count": 29,
   "metadata": {
    "execution": {
     "iopub.execute_input": "2021-01-04T18:24:52.569877Z",
     "iopub.status.busy": "2021-01-04T18:24:52.569092Z",
     "iopub.status.idle": "2021-01-04T18:24:52.572246Z",
     "shell.execute_reply": "2021-01-04T18:24:52.572772Z"
    },
    "papermill": {
     "duration": 0.082269,
     "end_time": "2021-01-04T18:24:52.572912",
     "exception": false,
     "start_time": "2021-01-04T18:24:52.490643",
     "status": "completed"
    },
    "tags": []
   },
   "outputs": [],
   "source": [
    "#user_lect = reduce_mem_usage(user_lect)"
   ]
  },
  {
   "cell_type": "code",
   "execution_count": 30,
   "metadata": {
    "execution": {
     "iopub.execute_input": "2021-01-04T18:24:52.730945Z",
     "iopub.status.busy": "2021-01-04T18:24:52.730130Z",
     "iopub.status.idle": "2021-01-04T18:24:52.733205Z",
     "shell.execute_reply": "2021-01-04T18:24:52.733757Z"
    },
    "papermill": {
     "duration": 0.08477,
     "end_time": "2021-01-04T18:24:52.733915",
     "exception": false,
     "start_time": "2021-01-04T18:24:52.649145",
     "status": "completed"
    },
    "tags": []
   },
   "outputs": [],
   "source": [
    "#del(df)\n",
    "#del(kmean)"
   ]
  },
  {
   "cell_type": "code",
   "execution_count": 31,
   "metadata": {
    "execution": {
     "iopub.execute_input": "2021-01-04T18:24:52.888061Z",
     "iopub.status.busy": "2021-01-04T18:24:52.887413Z",
     "iopub.status.idle": "2021-01-04T18:25:02.173458Z",
     "shell.execute_reply": "2021-01-04T18:25:02.172826Z"
    },
    "papermill": {
     "duration": 9.364552,
     "end_time": "2021-01-04T18:25:02.173608",
     "exception": false,
     "start_time": "2021-01-04T18:24:52.809056",
     "status": "completed"
    },
    "tags": []
   },
   "outputs": [],
   "source": [
    "cum =  train.groupby('user_id')['content_type_id'].agg(['cumsum','cumcount'])"
   ]
  },
  {
   "cell_type": "code",
   "execution_count": 32,
   "metadata": {
    "execution": {
     "iopub.execute_input": "2021-01-04T18:25:02.344483Z",
     "iopub.status.busy": "2021-01-04T18:25:02.343036Z",
     "iopub.status.idle": "2021-01-04T18:25:02.920677Z",
     "shell.execute_reply": "2021-01-04T18:25:02.921297Z"
    },
    "papermill": {
     "duration": 0.671785,
     "end_time": "2021-01-04T18:25:02.921579",
     "exception": false,
     "start_time": "2021-01-04T18:25:02.249794",
     "status": "completed"
    },
    "tags": []
   },
   "outputs": [],
   "source": [
    "cum[\"cumcount\"] = cum[\"cumcount\"] + 1"
   ]
  },
  {
   "cell_type": "code",
   "execution_count": 33,
   "metadata": {
    "execution": {
     "iopub.execute_input": "2021-01-04T18:25:03.082515Z",
     "iopub.status.busy": "2021-01-04T18:25:03.081755Z",
     "iopub.status.idle": "2021-01-04T18:25:03.416287Z",
     "shell.execute_reply": "2021-01-04T18:25:03.415683Z"
    },
    "papermill": {
     "duration": 0.416933,
     "end_time": "2021-01-04T18:25:03.416452",
     "exception": false,
     "start_time": "2021-01-04T18:25:02.999519",
     "status": "completed"
    },
    "tags": []
   },
   "outputs": [],
   "source": [
    "train[\"user_interaction_count\"] = cum[\"cumcount\"]"
   ]
  },
  {
   "cell_type": "code",
   "execution_count": 34,
   "metadata": {
    "execution": {
     "iopub.execute_input": "2021-01-04T18:25:03.592326Z",
     "iopub.status.busy": "2021-01-04T18:25:03.590953Z",
     "iopub.status.idle": "2021-01-04T18:25:04.100244Z",
     "shell.execute_reply": "2021-01-04T18:25:04.101510Z"
    },
    "papermill": {
     "duration": 0.606371,
     "end_time": "2021-01-04T18:25:04.101689",
     "exception": false,
     "start_time": "2021-01-04T18:25:03.495318",
     "status": "completed"
    },
    "tags": []
   },
   "outputs": [],
   "source": [
    "train[\"user_interation_timestamp_mean\"] = train[\"timestamp\"]/train[\"user_interaction_count\"]"
   ]
  },
  {
   "cell_type": "code",
   "execution_count": 35,
   "metadata": {
    "execution": {
     "iopub.execute_input": "2021-01-04T18:25:04.260598Z",
     "iopub.status.busy": "2021-01-04T18:25:04.259532Z",
     "iopub.status.idle": "2021-01-04T18:25:04.588216Z",
     "shell.execute_reply": "2021-01-04T18:25:04.588812Z"
    },
    "papermill": {
     "duration": 0.409118,
     "end_time": "2021-01-04T18:25:04.588971",
     "exception": false,
     "start_time": "2021-01-04T18:25:04.179853",
     "status": "completed"
    },
    "tags": []
   },
   "outputs": [],
   "source": [
    "train[\"user_lecture_sum\"] = cum['cumsum']"
   ]
  },
  {
   "cell_type": "code",
   "execution_count": 36,
   "metadata": {
    "execution": {
     "iopub.execute_input": "2021-01-04T18:25:04.749973Z",
     "iopub.status.busy": "2021-01-04T18:25:04.748936Z",
     "iopub.status.idle": "2021-01-04T18:25:05.973086Z",
     "shell.execute_reply": "2021-01-04T18:25:05.972456Z"
    },
    "papermill": {
     "duration": 1.305934,
     "end_time": "2021-01-04T18:25:05.973228",
     "exception": false,
     "start_time": "2021-01-04T18:25:04.667294",
     "status": "completed"
    },
    "tags": []
   },
   "outputs": [],
   "source": [
    "train[\"user_interaction_count\"]=train[\"user_interaction_count\"].astype(\"int64\")\n",
    "train[\"user_interation_timestamp_mean\"]=train[\"user_interation_timestamp_mean\"].astype(\"float32\")\n",
    "train[\"user_lecture_sum\"] = train[\"user_lecture_sum\"].astype(\"int8\")"
   ]
  },
  {
   "cell_type": "code",
   "execution_count": 37,
   "metadata": {
    "execution": {
     "iopub.execute_input": "2021-01-04T18:25:06.172013Z",
     "iopub.status.busy": "2021-01-04T18:25:06.171315Z",
     "iopub.status.idle": "2021-01-04T18:25:07.179119Z",
     "shell.execute_reply": "2021-01-04T18:25:07.178497Z"
    },
    "papermill": {
     "duration": 1.099829,
     "end_time": "2021-01-04T18:25:07.179234",
     "exception": false,
     "start_time": "2021-01-04T18:25:06.079405",
     "status": "completed"
    },
    "tags": []
   },
   "outputs": [],
   "source": [
    "train[\"user_lecture_lv\"] = train[\"user_lecture_sum\"]/train[\"user_interaction_count\"]\n",
    "train[\"user_lecture_lv\"] = train[\"user_lecture_lv\"].astype(\"float32\")"
   ]
  },
  {
   "cell_type": "code",
   "execution_count": 38,
   "metadata": {
    "execution": {
     "iopub.execute_input": "2021-01-04T18:25:07.344170Z",
     "iopub.status.busy": "2021-01-04T18:25:07.342966Z",
     "iopub.status.idle": "2021-01-04T18:25:07.693785Z",
     "shell.execute_reply": "2021-01-04T18:25:07.694307Z"
    },
    "papermill": {
     "duration": 0.437554,
     "end_time": "2021-01-04T18:25:07.694499",
     "exception": false,
     "start_time": "2021-01-04T18:25:07.256945",
     "status": "completed"
    },
    "tags": []
   },
   "outputs": [],
   "source": [
    "train[\"user_interation_timestamp_mean\"] = train[\"user_interation_timestamp_mean\"]/(1000*3600)"
   ]
  },
  {
   "cell_type": "code",
   "execution_count": 39,
   "metadata": {
    "execution": {
     "iopub.execute_input": "2021-01-04T18:25:07.859438Z",
     "iopub.status.busy": "2021-01-04T18:25:07.858567Z",
     "iopub.status.idle": "2021-01-04T18:25:07.862427Z",
     "shell.execute_reply": "2021-01-04T18:25:07.861858Z"
    },
    "papermill": {
     "duration": 0.090295,
     "end_time": "2021-01-04T18:25:07.862556",
     "exception": false,
     "start_time": "2021-01-04T18:25:07.772261",
     "status": "completed"
    },
    "tags": []
   },
   "outputs": [],
   "source": [
    "del(cum)"
   ]
  },
  {
   "cell_type": "code",
   "execution_count": 40,
   "metadata": {
    "execution": {
     "iopub.execute_input": "2021-01-04T18:25:08.109262Z",
     "iopub.status.busy": "2021-01-04T18:25:08.108507Z",
     "iopub.status.idle": "2021-01-04T18:25:08.111716Z",
     "shell.execute_reply": "2021-01-04T18:25:08.112240Z"
    },
    "papermill": {
     "duration": 0.171894,
     "end_time": "2021-01-04T18:25:08.112405",
     "exception": false,
     "start_time": "2021-01-04T18:25:07.940511",
     "status": "completed"
    },
    "tags": []
   },
   "outputs": [
    {
     "data": {
      "text/plain": [
       "237"
      ]
     },
     "execution_count": 40,
     "metadata": {},
     "output_type": "execute_result"
    }
   ],
   "source": [
    "gc.collect()"
   ]
  },
  {
   "cell_type": "code",
   "execution_count": 41,
   "metadata": {
    "execution": {
     "iopub.execute_input": "2021-01-04T18:25:08.277256Z",
     "iopub.status.busy": "2021-01-04T18:25:08.276516Z",
     "iopub.status.idle": "2021-01-04T18:25:58.413822Z",
     "shell.execute_reply": "2021-01-04T18:25:58.413183Z"
    },
    "papermill": {
     "duration": 50.224143,
     "end_time": "2021-01-04T18:25:58.413970",
     "exception": false,
     "start_time": "2021-01-04T18:25:08.189827",
     "status": "completed"
    },
    "tags": []
   },
   "outputs": [],
   "source": [
    "train[\"prior_question_had_explanation\"].replace([np.inf, -np.inf], np.nan)\n",
    "train[\"prior_question_had_explanation\"].fillna(False,inplace=True)\n",
    "train[\"prior_question_had_explanation\"]=train[\"prior_question_had_explanation\"].astype(\"int8\")"
   ]
  },
  {
   "cell_type": "code",
   "execution_count": 42,
   "metadata": {
    "execution": {
     "iopub.execute_input": "2021-01-04T18:25:58.576855Z",
     "iopub.status.busy": "2021-01-04T18:25:58.576123Z",
     "iopub.status.idle": "2021-01-04T18:26:07.705489Z",
     "shell.execute_reply": "2021-01-04T18:26:07.704854Z"
    },
    "papermill": {
     "duration": 9.212797,
     "end_time": "2021-01-04T18:26:07.705618",
     "exception": false,
     "start_time": "2021-01-04T18:25:58.492821",
     "status": "completed"
    },
    "tags": []
   },
   "outputs": [],
   "source": [
    "train = train[train[\"answered_correctly\"] !=-1]"
   ]
  },
  {
   "cell_type": "code",
   "execution_count": 43,
   "metadata": {
    "execution": {
     "iopub.execute_input": "2021-01-04T18:26:07.952314Z",
     "iopub.status.busy": "2021-01-04T18:26:07.951606Z",
     "iopub.status.idle": "2021-01-04T18:26:07.955458Z",
     "shell.execute_reply": "2021-01-04T18:26:07.955955Z"
    },
    "papermill": {
     "duration": 0.170502,
     "end_time": "2021-01-04T18:26:07.956111",
     "exception": false,
     "start_time": "2021-01-04T18:26:07.785609",
     "status": "completed"
    },
    "tags": []
   },
   "outputs": [
    {
     "data": {
      "text/plain": [
       "60"
      ]
     },
     "execution_count": 43,
     "metadata": {},
     "output_type": "execute_result"
    }
   ],
   "source": [
    "gc.collect()"
   ]
  },
  {
   "cell_type": "code",
   "execution_count": 44,
   "metadata": {
    "execution": {
     "iopub.execute_input": "2021-01-04T18:26:08.311741Z",
     "iopub.status.busy": "2021-01-04T18:26:08.311058Z",
     "iopub.status.idle": "2021-01-04T18:26:16.883010Z",
     "shell.execute_reply": "2021-01-04T18:26:16.881971Z"
    },
    "papermill": {
     "duration": 8.848293,
     "end_time": "2021-01-04T18:26:16.883197",
     "exception": false,
     "start_time": "2021-01-04T18:26:08.034904",
     "status": "completed"
    },
    "tags": []
   },
   "outputs": [],
   "source": [
    "content_explation_agg = train[[\"content_id\",\"prior_question_had_explanation\",\\\n",
    "                               \"answered_correctly\"]].groupby([\"content_id\",\"prior_question_had_explanation\"]).\\\n",
    "agg({\"answered_correctly\":\"mean\"})\n"
   ]
  },
  {
   "cell_type": "code",
   "execution_count": 45,
   "metadata": {
    "execution": {
     "iopub.execute_input": "2021-01-04T18:26:17.053608Z",
     "iopub.status.busy": "2021-01-04T18:26:17.052453Z",
     "iopub.status.idle": "2021-01-04T18:26:17.054774Z",
     "shell.execute_reply": "2021-01-04T18:26:17.055316Z"
    },
    "papermill": {
     "duration": 0.089575,
     "end_time": "2021-01-04T18:26:17.055482",
     "exception": false,
     "start_time": "2021-01-04T18:26:16.965907",
     "status": "completed"
    },
    "tags": []
   },
   "outputs": [],
   "source": [
    "content_explation_agg.columns = [\"mean_answer_prior_question\"]"
   ]
  },
  {
   "cell_type": "code",
   "execution_count": 46,
   "metadata": {
    "execution": {
     "iopub.execute_input": "2021-01-04T18:26:17.220923Z",
     "iopub.status.busy": "2021-01-04T18:26:17.219423Z",
     "iopub.status.idle": "2021-01-04T18:26:17.225028Z",
     "shell.execute_reply": "2021-01-04T18:26:17.224319Z"
    },
    "papermill": {
     "duration": 0.090124,
     "end_time": "2021-01-04T18:26:17.225161",
     "exception": false,
     "start_time": "2021-01-04T18:26:17.135037",
     "status": "completed"
    },
    "tags": []
   },
   "outputs": [],
   "source": [
    "content_explation_agg[\"mean_answer_prior_question\"]= content_explation_agg[\"mean_answer_prior_question\"].astype(\"float16\")"
   ]
  },
  {
   "cell_type": "code",
   "execution_count": 47,
   "metadata": {
    "execution": {
     "iopub.execute_input": "2021-01-04T18:26:17.386284Z",
     "iopub.status.busy": "2021-01-04T18:26:17.385612Z",
     "iopub.status.idle": "2021-01-04T18:26:17.400300Z",
     "shell.execute_reply": "2021-01-04T18:26:17.399213Z"
    },
    "papermill": {
     "duration": 0.096655,
     "end_time": "2021-01-04T18:26:17.400488",
     "exception": false,
     "start_time": "2021-01-04T18:26:17.303833",
     "status": "completed"
    },
    "tags": []
   },
   "outputs": [
    {
     "name": "stdout",
     "output_type": "stream",
     "text": [
      "Memory usage of dataframe is 0.23 MB\n",
      "Memory usage after optimization is: 0.23 MB\n",
      "Decreased by 0.0%\n"
     ]
    }
   ],
   "source": [
    "content_explation_agg = reduce_mem_usage(content_explation_agg)"
   ]
  },
  {
   "cell_type": "code",
   "execution_count": 48,
   "metadata": {
    "execution": {
     "iopub.execute_input": "2021-01-04T18:26:17.567066Z",
     "iopub.status.busy": "2021-01-04T18:26:17.566242Z",
     "iopub.status.idle": "2021-01-04T18:26:24.755498Z",
     "shell.execute_reply": "2021-01-04T18:26:24.754894Z"
    },
    "papermill": {
     "duration": 7.275846,
     "end_time": "2021-01-04T18:26:24.755629",
     "exception": false,
     "start_time": "2021-01-04T18:26:17.479783",
     "status": "completed"
    },
    "tags": []
   },
   "outputs": [
    {
     "name": "stdout",
     "output_type": "stream",
     "text": [
      "Memory usage of dataframe is 5017.64 MB\n",
      "Memory usage after optimization is: 4165.59 MB\n",
      "Decreased by 17.0%\n"
     ]
    }
   ],
   "source": [
    "train = reduce_mem_usage(train)"
   ]
  },
  {
   "cell_type": "code",
   "execution_count": 49,
   "metadata": {
    "execution": {
     "iopub.execute_input": "2021-01-04T18:26:24.931306Z",
     "iopub.status.busy": "2021-01-04T18:26:24.930215Z",
     "iopub.status.idle": "2021-01-04T18:26:24.934653Z",
     "shell.execute_reply": "2021-01-04T18:26:24.934030Z"
    },
    "papermill": {
     "duration": 0.094115,
     "end_time": "2021-01-04T18:26:24.934777",
     "exception": false,
     "start_time": "2021-01-04T18:26:24.840662",
     "status": "completed"
    },
    "tags": []
   },
   "outputs": [],
   "source": [
    "#content_explation_agg = content_explation_agg.unstack()"
   ]
  },
  {
   "cell_type": "code",
   "execution_count": 50,
   "metadata": {
    "execution": {
     "iopub.execute_input": "2021-01-04T18:26:25.109602Z",
     "iopub.status.busy": "2021-01-04T18:26:25.108066Z",
     "iopub.status.idle": "2021-01-04T18:26:26.474041Z",
     "shell.execute_reply": "2021-01-04T18:26:26.473450Z"
    },
    "papermill": {
     "duration": 1.453967,
     "end_time": "2021-01-04T18:26:26.474169",
     "exception": false,
     "start_time": "2021-01-04T18:26:25.020202",
     "status": "completed"
    },
    "tags": []
   },
   "outputs": [],
   "source": [
    "train.loc[:,\"no_attempt\"] = 1"
   ]
  },
  {
   "cell_type": "code",
   "execution_count": 51,
   "metadata": {
    "execution": {
     "iopub.execute_input": "2021-01-04T18:26:26.642765Z",
     "iopub.status.busy": "2021-01-04T18:26:26.641606Z",
     "iopub.status.idle": "2021-01-04T18:26:26.751682Z",
     "shell.execute_reply": "2021-01-04T18:26:26.752550Z"
    },
    "papermill": {
     "duration": 0.197407,
     "end_time": "2021-01-04T18:26:26.752714",
     "exception": false,
     "start_time": "2021-01-04T18:26:26.555307",
     "status": "completed"
    },
    "tags": []
   },
   "outputs": [],
   "source": [
    "train.no_attempt=train.no_attempt.astype('int8')"
   ]
  },
  {
   "cell_type": "code",
   "execution_count": 52,
   "metadata": {
    "execution": {
     "iopub.execute_input": "2021-01-04T18:26:26.926122Z",
     "iopub.status.busy": "2021-01-04T18:26:26.924937Z",
     "iopub.status.idle": "2021-01-04T18:27:28.959919Z",
     "shell.execute_reply": "2021-01-04T18:27:28.961029Z"
    },
    "papermill": {
     "duration": 62.127756,
     "end_time": "2021-01-04T18:27:28.961200",
     "exception": false,
     "start_time": "2021-01-04T18:26:26.833444",
     "status": "completed"
    },
    "tags": []
   },
   "outputs": [],
   "source": [
    "train[\"no_attempt\"]=train[[\"content_id\",\"user_id\",\"no_attempt\"]].groupby([\"user_id\",\"content_id\"])[\"no_attempt\"].cumsum()"
   ]
  },
  {
   "cell_type": "code",
   "execution_count": 53,
   "metadata": {
    "execution": {
     "iopub.execute_input": "2021-01-04T18:27:29.130585Z",
     "iopub.status.busy": "2021-01-04T18:27:29.129079Z",
     "iopub.status.idle": "2021-01-04T18:27:29.203724Z",
     "shell.execute_reply": "2021-01-04T18:27:29.202930Z"
    },
    "papermill": {
     "duration": 0.160952,
     "end_time": "2021-01-04T18:27:29.203853",
     "exception": false,
     "start_time": "2021-01-04T18:27:29.042901",
     "status": "completed"
    },
    "tags": []
   },
   "outputs": [],
   "source": [
    "train[\"no_attempt\"] = train[\"no_attempt\"].astype(\"int8\")"
   ]
  },
  {
   "cell_type": "code",
   "execution_count": 54,
   "metadata": {
    "execution": {
     "iopub.execute_input": "2021-01-04T18:27:29.425163Z",
     "iopub.status.busy": "2021-01-04T18:27:29.424112Z",
     "iopub.status.idle": "2021-01-04T18:27:29.718544Z",
     "shell.execute_reply": "2021-01-04T18:27:29.719216Z"
    },
    "papermill": {
     "duration": 0.419542,
     "end_time": "2021-01-04T18:27:29.719366",
     "exception": false,
     "start_time": "2021-01-04T18:27:29.299824",
     "status": "completed"
    },
    "tags": []
   },
   "outputs": [],
   "source": [
    "elapsed_time_imputer = train[\"prior_question_elapsed_time\"].mean()\n",
    "train[\"prior_question_elapsed_time\"].fillna(elapsed_time_imputer,inplace=True)"
   ]
  },
  {
   "cell_type": "code",
   "execution_count": 55,
   "metadata": {
    "execution": {
     "iopub.execute_input": "2021-01-04T18:27:29.899778Z",
     "iopub.status.busy": "2021-01-04T18:27:29.898583Z",
     "iopub.status.idle": "2021-01-04T18:27:32.180874Z",
     "shell.execute_reply": "2021-01-04T18:27:32.179544Z"
    },
    "papermill": {
     "duration": 2.378768,
     "end_time": "2021-01-04T18:27:32.181013",
     "exception": false,
     "start_time": "2021-01-04T18:27:29.802245",
     "status": "completed"
    },
    "tags": []
   },
   "outputs": [],
   "source": [
    "train[\"lagtime1\"] = train[\"timestamp\"].shift()\n",
    "lagtime1_mean = train[\"lagtime1\"].mean()\n",
    "train[\"lagtime1\"].fillna(lagtime1_mean,inplace=True)\n",
    "train[\"lagtime1\"] = train[\"lagtime1\"]/(1000*3600)\n",
    "train[\"lagtime1\"] = train[\"lagtime1\"].astype(\"float32\")"
   ]
  },
  {
   "cell_type": "code",
   "execution_count": 56,
   "metadata": {
    "execution": {
     "iopub.execute_input": "2021-01-04T18:27:32.355647Z",
     "iopub.status.busy": "2021-01-04T18:27:32.354835Z",
     "iopub.status.idle": "2021-01-04T18:27:34.558697Z",
     "shell.execute_reply": "2021-01-04T18:27:34.559529Z"
    },
    "papermill": {
     "duration": 2.294168,
     "end_time": "2021-01-04T18:27:34.559684",
     "exception": false,
     "start_time": "2021-01-04T18:27:32.265516",
     "status": "completed"
    },
    "tags": []
   },
   "outputs": [],
   "source": [
    "train[\"lagtime2\"] = train[\"timestamp\"].shift(2)\n",
    "lagtime2_mean = train[\"lagtime2\"].mean()\n",
    "train[\"lagtime2\"].fillna(lagtime2_mean,inplace=True)\n",
    "train[\"lagtime2\"] = train[\"lagtime2\"]/(1000*3600)\n",
    "train[\"lagtime2\"] = train[\"lagtime2\"].astype(\"float32\")"
   ]
  },
  {
   "cell_type": "code",
   "execution_count": 57,
   "metadata": {
    "execution": {
     "iopub.execute_input": "2021-01-04T18:27:34.731816Z",
     "iopub.status.busy": "2021-01-04T18:27:34.731053Z",
     "iopub.status.idle": "2021-01-04T18:27:36.924366Z",
     "shell.execute_reply": "2021-01-04T18:27:36.923739Z"
    },
    "papermill": {
     "duration": 2.283009,
     "end_time": "2021-01-04T18:27:36.924509",
     "exception": false,
     "start_time": "2021-01-04T18:27:34.641500",
     "status": "completed"
    },
    "tags": []
   },
   "outputs": [],
   "source": [
    "train[\"lagtime3\"] = train[\"timestamp\"].shift(3)\n",
    "lagtime3_mean = train[\"lagtime3\"].mean()\n",
    "train[\"lagtime3\"].fillna(lagtime3_mean,inplace=True)\n",
    "train[\"lagtime3\"] = train[\"lagtime3\"]/(1000*3600)\n",
    "train[\"lagtime3\"] = train[\"lagtime3\"].astype(\"float32\")"
   ]
  },
  {
   "cell_type": "code",
   "execution_count": 58,
   "metadata": {
    "execution": {
     "iopub.execute_input": "2021-01-04T18:27:37.098079Z",
     "iopub.status.busy": "2021-01-04T18:27:37.096763Z",
     "iopub.status.idle": "2021-01-04T18:27:37.838120Z",
     "shell.execute_reply": "2021-01-04T18:27:37.837367Z"
    },
    "papermill": {
     "duration": 0.830955,
     "end_time": "2021-01-04T18:27:37.838247",
     "exception": false,
     "start_time": "2021-01-04T18:27:37.007292",
     "status": "completed"
    },
    "tags": []
   },
   "outputs": [],
   "source": [
    "train[\"timestamp\"] = train[\"timestamp\"]/(3600*1000)\n",
    "train[\"timestamp\"] = train[\"timestamp\"].astype(\"float32\")"
   ]
  },
  {
   "cell_type": "code",
   "execution_count": 59,
   "metadata": {
    "execution": {
     "iopub.execute_input": "2021-01-04T18:27:38.015001Z",
     "iopub.status.busy": "2021-01-04T18:27:38.013421Z",
     "iopub.status.idle": "2021-01-04T18:27:43.723645Z",
     "shell.execute_reply": "2021-01-04T18:27:43.724245Z"
    },
    "papermill": {
     "duration": 5.801194,
     "end_time": "2021-01-04T18:27:43.724428",
     "exception": false,
     "start_time": "2021-01-04T18:27:37.923234",
     "status": "completed"
    },
    "tags": []
   },
   "outputs": [],
   "source": [
    "train[\"delta_prior_question_elapsed_time\"] = train[[\"user_id\",\"prior_question_elapsed_time\"]].\\\n",
    "groupby(\"user_id\")[\"prior_question_elapsed_time\"].shift()\n",
    "mean_delta_prior_question_elapsed_time = train[\"delta_prior_question_elapsed_time\"].mean()\n",
    "train[\"delta_prior_question_elapsed_time\"].fillna(mean_delta_prior_question_elapsed_time,\\\n",
    "                                                  inplace=True)"
   ]
  },
  {
   "cell_type": "code",
   "execution_count": 60,
   "metadata": {
    "execution": {
     "iopub.execute_input": "2021-01-04T18:27:43.904589Z",
     "iopub.status.busy": "2021-01-04T18:27:43.903845Z",
     "iopub.status.idle": "2021-01-04T18:27:44.163615Z",
     "shell.execute_reply": "2021-01-04T18:27:44.162798Z"
    },
    "papermill": {
     "duration": 0.351259,
     "end_time": "2021-01-04T18:27:44.163742",
     "exception": false,
     "start_time": "2021-01-04T18:27:43.812483",
     "status": "completed"
    },
    "tags": []
   },
   "outputs": [],
   "source": [
    "train[\"delta_prior_question_elapsed_time\"]=train[\"delta_prior_question_elapsed_time\"]/(1000)"
   ]
  },
  {
   "cell_type": "code",
   "execution_count": 61,
   "metadata": {
    "execution": {
     "iopub.execute_input": "2021-01-04T18:27:44.340840Z",
     "iopub.status.busy": "2021-01-04T18:27:44.340152Z",
     "iopub.status.idle": "2021-01-04T18:27:44.608887Z",
     "shell.execute_reply": "2021-01-04T18:27:44.608100Z"
    },
    "papermill": {
     "duration": 0.359467,
     "end_time": "2021-01-04T18:27:44.609014",
     "exception": false,
     "start_time": "2021-01-04T18:27:44.249547",
     "status": "completed"
    },
    "tags": []
   },
   "outputs": [],
   "source": [
    "train[\"delta_prior_question_elapsed_time\"] = train[\"delta_prior_question_elapsed_time\"].astype(\"float32\")"
   ]
  },
  {
   "cell_type": "code",
   "execution_count": 62,
   "metadata": {
    "execution": {
     "iopub.execute_input": "2021-01-04T18:27:44.785905Z",
     "iopub.status.busy": "2021-01-04T18:27:44.785140Z",
     "iopub.status.idle": "2021-01-04T18:27:45.598043Z",
     "shell.execute_reply": "2021-01-04T18:27:45.597293Z"
    },
    "papermill": {
     "duration": 0.903903,
     "end_time": "2021-01-04T18:27:45.598157",
     "exception": false,
     "start_time": "2021-01-04T18:27:44.694254",
     "status": "completed"
    },
    "tags": []
   },
   "outputs": [],
   "source": [
    "mean_prior_question_elapsed_time = train[\"prior_question_elapsed_time\"].mean()\n",
    "train[\"prior_question_elapsed_time\"].fillna(mean_prior_question_elapsed_time,inplace=True)\n",
    "train[\"prior_question_elapsed_time\"]= train[\"prior_question_elapsed_time\"]/1000\n",
    "train[\"prior_question_elapsed_time\"]=train[\"prior_question_elapsed_time\"].astype(\"float32\")"
   ]
  },
  {
   "cell_type": "code",
   "execution_count": 63,
   "metadata": {
    "execution": {
     "iopub.execute_input": "2021-01-04T18:27:45.772017Z",
     "iopub.status.busy": "2021-01-04T18:27:45.771309Z",
     "iopub.status.idle": "2021-01-04T18:28:08.317895Z",
     "shell.execute_reply": "2021-01-04T18:28:08.318561Z"
    },
    "papermill": {
     "duration": 22.636862,
     "end_time": "2021-01-04T18:28:08.318748",
     "exception": false,
     "start_time": "2021-01-04T18:27:45.681886",
     "status": "completed"
    },
    "tags": []
   },
   "outputs": [],
   "source": [
    "cum = train[[\"user_id\",\"prior_question_had_explanation\"]].groupby(\"user_id\")[\"prior_question_had\\\n",
    "_explanation\"].agg([\"cumsum\",\"cumcount\"])"
   ]
  },
  {
   "cell_type": "code",
   "execution_count": 64,
   "metadata": {
    "execution": {
     "iopub.execute_input": "2021-01-04T18:28:08.489401Z",
     "iopub.status.busy": "2021-01-04T18:28:08.488349Z",
     "iopub.status.idle": "2021-01-04T18:28:09.073034Z",
     "shell.execute_reply": "2021-01-04T18:28:09.072403Z"
    },
    "papermill": {
     "duration": 0.670353,
     "end_time": "2021-01-04T18:28:09.073154",
     "exception": false,
     "start_time": "2021-01-04T18:28:08.402801",
     "status": "completed"
    },
    "tags": []
   },
   "outputs": [],
   "source": [
    "cum[\"cumcount\"] = cum[\"cumcount\"] + 1"
   ]
  },
  {
   "cell_type": "code",
   "execution_count": 65,
   "metadata": {
    "execution": {
     "iopub.execute_input": "2021-01-04T18:28:09.249418Z",
     "iopub.status.busy": "2021-01-04T18:28:09.248267Z",
     "iopub.status.idle": "2021-01-04T18:28:10.369520Z",
     "shell.execute_reply": "2021-01-04T18:28:10.368760Z"
    },
    "papermill": {
     "duration": 1.21236,
     "end_time": "2021-01-04T18:28:10.369644",
     "exception": false,
     "start_time": "2021-01-04T18:28:09.157284",
     "status": "completed"
    },
    "tags": []
   },
   "outputs": [],
   "source": [
    "train[\"explanation_mean\"] = cum[\"cumsum\"]/cum[\"cumcount\"]\n",
    "train[\"explanation_true_explanation\"] = cum[\"cumsum\"]\n",
    "train[\"explanation_false_explanation\"] = cum[\"cumcount\"] - cum[\"cumsum\"]"
   ]
  },
  {
   "cell_type": "code",
   "execution_count": 66,
   "metadata": {
    "execution": {
     "iopub.execute_input": "2021-01-04T18:28:10.547648Z",
     "iopub.status.busy": "2021-01-04T18:28:10.546774Z",
     "iopub.status.idle": "2021-01-04T18:28:10.549537Z",
     "shell.execute_reply": "2021-01-04T18:28:10.550023Z"
    },
    "papermill": {
     "duration": 0.096486,
     "end_time": "2021-01-04T18:28:10.550174",
     "exception": false,
     "start_time": "2021-01-04T18:28:10.453688",
     "status": "completed"
    },
    "tags": []
   },
   "outputs": [],
   "source": [
    "del(cum)"
   ]
  },
  {
   "cell_type": "code",
   "execution_count": 67,
   "metadata": {
    "execution": {
     "iopub.execute_input": "2021-01-04T18:28:10.721559Z",
     "iopub.status.busy": "2021-01-04T18:28:10.720804Z",
     "iopub.status.idle": "2021-01-04T18:28:11.224016Z",
     "shell.execute_reply": "2021-01-04T18:28:11.223253Z"
    },
    "papermill": {
     "duration": 0.591629,
     "end_time": "2021-01-04T18:28:11.224134",
     "exception": false,
     "start_time": "2021-01-04T18:28:10.632505",
     "status": "completed"
    },
    "tags": []
   },
   "outputs": [],
   "source": [
    "train[\"explanation_mean\"] = train[\"explanation_mean\"].astype(\"float32\")\n",
    "train[\"explanation_true_explanation\"] = train[\"explanation_true_explanation\"].astype(\"int8\")\n",
    "train[\"explanation_false_explanation\"] = train[\"explanation_false_explanation\"].astype(\"int8\")"
   ]
  },
  {
   "cell_type": "code",
   "execution_count": 68,
   "metadata": {
    "execution": {
     "iopub.execute_input": "2021-01-04T18:28:11.515244Z",
     "iopub.status.busy": "2021-01-04T18:28:11.514075Z",
     "iopub.status.idle": "2021-01-04T18:28:11.518553Z",
     "shell.execute_reply": "2021-01-04T18:28:11.518008Z"
    },
    "papermill": {
     "duration": 0.211389,
     "end_time": "2021-01-04T18:28:11.518680",
     "exception": false,
     "start_time": "2021-01-04T18:28:11.307291",
     "status": "completed"
    },
    "tags": []
   },
   "outputs": [
    {
     "data": {
      "text/plain": [
       "20"
      ]
     },
     "execution_count": 68,
     "metadata": {},
     "output_type": "execute_result"
    }
   ],
   "source": [
    "gc.collect()"
   ]
  },
  {
   "cell_type": "code",
   "execution_count": 69,
   "metadata": {
    "execution": {
     "iopub.execute_input": "2021-01-04T18:28:11.693982Z",
     "iopub.status.busy": "2021-01-04T18:28:11.693281Z",
     "iopub.status.idle": "2021-01-04T18:28:19.977923Z",
     "shell.execute_reply": "2021-01-04T18:28:19.977271Z"
    },
    "papermill": {
     "duration": 8.375032,
     "end_time": "2021-01-04T18:28:19.978055",
     "exception": false,
     "start_time": "2021-01-04T18:28:11.603023",
     "status": "completed"
    },
    "tags": []
   },
   "outputs": [],
   "source": [
    "task_container_id = train[[\"task_container_id\",\"answered_correctly\"]].groupby(\"task_container_id\")\\\n",
    "[\"answered_correctly\"].agg([\"mean\",\"count\",\"var\"])"
   ]
  },
  {
   "cell_type": "code",
   "execution_count": 70,
   "metadata": {
    "execution": {
     "iopub.execute_input": "2021-01-04T18:28:20.154451Z",
     "iopub.status.busy": "2021-01-04T18:28:20.153699Z",
     "iopub.status.idle": "2021-01-04T18:28:21.359275Z",
     "shell.execute_reply": "2021-01-04T18:28:21.358353Z"
    },
    "papermill": {
     "duration": 1.295785,
     "end_time": "2021-01-04T18:28:21.359422",
     "exception": false,
     "start_time": "2021-01-04T18:28:20.063637",
     "status": "completed"
    },
    "tags": []
   },
   "outputs": [],
   "source": [
    "train[\"container_mean\"] = train[\"task_container_id\"].map(task_container_id[\"mean\"])"
   ]
  },
  {
   "cell_type": "code",
   "execution_count": 71,
   "metadata": {
    "execution": {
     "iopub.execute_input": "2021-01-04T18:28:21.534072Z",
     "iopub.status.busy": "2021-01-04T18:28:21.533308Z",
     "iopub.status.idle": "2021-01-04T18:28:21.738713Z",
     "shell.execute_reply": "2021-01-04T18:28:21.737883Z"
    },
    "papermill": {
     "duration": 0.295531,
     "end_time": "2021-01-04T18:28:21.738840",
     "exception": false,
     "start_time": "2021-01-04T18:28:21.443309",
     "status": "completed"
    },
    "tags": []
   },
   "outputs": [],
   "source": [
    "train[\"container_mean\"] = train[\"container_mean\"].astype(\"float32\")"
   ]
  },
  {
   "cell_type": "code",
   "execution_count": 72,
   "metadata": {
    "execution": {
     "iopub.execute_input": "2021-01-04T18:28:21.976495Z",
     "iopub.status.busy": "2021-01-04T18:28:21.975672Z",
     "iopub.status.idle": "2021-01-04T18:28:25.027839Z",
     "shell.execute_reply": "2021-01-04T18:28:25.027169Z"
    },
    "papermill": {
     "duration": 3.204139,
     "end_time": "2021-01-04T18:28:25.027954",
     "exception": false,
     "start_time": "2021-01-04T18:28:21.823815",
     "status": "completed"
    },
    "tags": []
   },
   "outputs": [],
   "source": [
    "train[\"container_count\"] = train[\"task_container_id\"].map(task_container_id[\"count\"])\n",
    "train[\"container_var\"] = train[\"task_container_id\"].map(task_container_id[\"var\"])\n"
   ]
  },
  {
   "cell_type": "code",
   "execution_count": 73,
   "metadata": {
    "execution": {
     "iopub.execute_input": "2021-01-04T18:28:25.219867Z",
     "iopub.status.busy": "2021-01-04T18:28:25.219040Z",
     "iopub.status.idle": "2021-01-04T18:28:25.341748Z",
     "shell.execute_reply": "2021-01-04T18:28:25.341102Z"
    },
    "papermill": {
     "duration": 0.219608,
     "end_time": "2021-01-04T18:28:25.341871",
     "exception": false,
     "start_time": "2021-01-04T18:28:25.122263",
     "status": "completed"
    },
    "tags": []
   },
   "outputs": [],
   "source": [
    "train[\"container_count\"] = train[\"container_count\"].astype(\"int8\")"
   ]
  },
  {
   "cell_type": "code",
   "execution_count": 74,
   "metadata": {
    "execution": {
     "iopub.execute_input": "2021-01-04T18:28:25.522591Z",
     "iopub.status.busy": "2021-01-04T18:28:25.521817Z",
     "iopub.status.idle": "2021-01-04T18:28:26.314152Z",
     "shell.execute_reply": "2021-01-04T18:28:26.313530Z"
    },
    "papermill": {
     "duration": 0.882645,
     "end_time": "2021-01-04T18:28:26.314273",
     "exception": false,
     "start_time": "2021-01-04T18:28:25.431628",
     "status": "completed"
    },
    "tags": []
   },
   "outputs": [],
   "source": [
    "train[\"container_var\"] = train[\"container_var\"].astype(\"float64\")"
   ]
  },
  {
   "cell_type": "code",
   "execution_count": 75,
   "metadata": {
    "execution": {
     "iopub.execute_input": "2021-01-04T18:28:26.493175Z",
     "iopub.status.busy": "2021-01-04T18:28:26.492004Z",
     "iopub.status.idle": "2021-01-04T18:28:44.166566Z",
     "shell.execute_reply": "2021-01-04T18:28:44.165702Z"
    },
    "papermill": {
     "duration": 17.768524,
     "end_time": "2021-01-04T18:28:44.166705",
     "exception": false,
     "start_time": "2021-01-04T18:28:26.398181",
     "status": "completed"
    },
    "tags": []
   },
   "outputs": [
    {
     "name": "stdout",
     "output_type": "stream",
     "text": [
      "Memory usage of dataframe is 9755.11 MB\n",
      "Memory usage after optimization is: 7956.33 MB\n",
      "Decreased by 18.4%\n"
     ]
    }
   ],
   "source": [
    "train = reduce_mem_usage(train)"
   ]
  },
  {
   "cell_type": "code",
   "execution_count": 76,
   "metadata": {
    "execution": {
     "iopub.execute_input": "2021-01-04T18:28:44.421007Z",
     "iopub.status.busy": "2021-01-04T18:28:44.419916Z",
     "iopub.status.idle": "2021-01-04T18:28:44.425145Z",
     "shell.execute_reply": "2021-01-04T18:28:44.424046Z"
    },
    "papermill": {
     "duration": 0.174051,
     "end_time": "2021-01-04T18:28:44.425274",
     "exception": false,
     "start_time": "2021-01-04T18:28:44.251223",
     "status": "completed"
    },
    "tags": []
   },
   "outputs": [
    {
     "data": {
      "text/plain": [
       "20"
      ]
     },
     "execution_count": 76,
     "metadata": {},
     "output_type": "execute_result"
    }
   ],
   "source": [
    "gc.collect()"
   ]
  },
  {
   "cell_type": "code",
   "execution_count": 77,
   "metadata": {
    "execution": {
     "iopub.execute_input": "2021-01-04T18:28:44.602033Z",
     "iopub.status.busy": "2021-01-04T18:28:44.601245Z",
     "iopub.status.idle": "2021-01-04T18:28:52.542425Z",
     "shell.execute_reply": "2021-01-04T18:28:52.542932Z"
    },
    "papermill": {
     "duration": 8.032644,
     "end_time": "2021-01-04T18:28:52.543095",
     "exception": false,
     "start_time": "2021-01-04T18:28:44.510451",
     "status": "completed"
    },
    "tags": []
   },
   "outputs": [],
   "source": [
    "content_agg = train[[\"content_id\",\"answered_correctly\"]].groupby(\"content_id\")[\"answered_correctly\"].\\\n",
    "agg([\"sum\",\"count\",\"var\"])"
   ]
  },
  {
   "cell_type": "code",
   "execution_count": 78,
   "metadata": {
    "execution": {
     "iopub.execute_input": "2021-01-04T18:28:52.724834Z",
     "iopub.status.busy": "2021-01-04T18:28:52.724060Z",
     "iopub.status.idle": "2021-01-04T18:28:52.731469Z",
     "shell.execute_reply": "2021-01-04T18:28:52.732075Z"
    },
    "papermill": {
     "duration": 0.103124,
     "end_time": "2021-01-04T18:28:52.732221",
     "exception": false,
     "start_time": "2021-01-04T18:28:52.629097",
     "status": "completed"
    },
    "tags": []
   },
   "outputs": [],
   "source": [
    "questions[\"content_correctness\"] = questions[\"content_id\"].map(content_agg[\"sum\"]/content_agg[\"count\"])\n",
    "questions[\"content_correctness\"] = questions[\"content_correctness\"].astype(\"float32\")\n",
    "questions[\"content_correctness_var\"] = questions[\"content_id\"].map(content_agg[\"var\"])\n",
    "questions[\"content_correctness_var\"] = questions[\"content_correctness_var\"].astype(\"float32\")\n"
   ]
  },
  {
   "cell_type": "code",
   "execution_count": 79,
   "metadata": {
    "execution": {
     "iopub.execute_input": "2021-01-04T18:28:52.918258Z",
     "iopub.status.busy": "2021-01-04T18:28:52.917348Z",
     "iopub.status.idle": "2021-01-04T18:28:52.927130Z",
     "shell.execute_reply": "2021-01-04T18:28:52.926474Z"
    },
    "papermill": {
     "duration": 0.106566,
     "end_time": "2021-01-04T18:28:52.927245",
     "exception": false,
     "start_time": "2021-01-04T18:28:52.820679",
     "status": "completed"
    },
    "tags": []
   },
   "outputs": [],
   "source": [
    "questions[\"content_correct_count\"] = questions[\"content_id\"].map(content_agg[\"sum\"])\n",
    "questions[\"content_correct_count\"] = questions[\"content_correct_count\"].astype(\"int8\")\n",
    "questions[\"content_uncorrect_count\"] = questions[\"content_id\"].map(content_agg[\"count\"]-content_agg[\"sum\"])\n",
    "questions[\"content_uncorrect_count\"] = questions[\"content_uncorrect_count\"].astype(\"int8\")"
   ]
  },
  {
   "cell_type": "code",
   "execution_count": 80,
   "metadata": {
    "execution": {
     "iopub.execute_input": "2021-01-04T18:28:53.107074Z",
     "iopub.status.busy": "2021-01-04T18:28:53.105959Z",
     "iopub.status.idle": "2021-01-04T18:28:53.109221Z",
     "shell.execute_reply": "2021-01-04T18:28:53.108523Z"
    },
    "papermill": {
     "duration": 0.095752,
     "end_time": "2021-01-04T18:28:53.109351",
     "exception": false,
     "start_time": "2021-01-04T18:28:53.013599",
     "status": "completed"
    },
    "tags": []
   },
   "outputs": [],
   "source": [
    "del(content_agg)"
   ]
  },
  {
   "cell_type": "code",
   "execution_count": 81,
   "metadata": {
    "execution": {
     "iopub.execute_input": "2021-01-04T18:28:53.291051Z",
     "iopub.status.busy": "2021-01-04T18:28:53.290189Z",
     "iopub.status.idle": "2021-01-04T18:28:53.299096Z",
     "shell.execute_reply": "2021-01-04T18:28:53.298483Z"
    },
    "papermill": {
     "duration": 0.102644,
     "end_time": "2021-01-04T18:28:53.299220",
     "exception": false,
     "start_time": "2021-01-04T18:28:53.196576",
     "status": "completed"
    },
    "tags": []
   },
   "outputs": [],
   "source": [
    "part_agg = questions[[\"part\",\"content_correctness\"]].groupby(\"part\")[\"content_correctness\"].agg(\\\n",
    "                                                                                               [\"mean\"])"
   ]
  },
  {
   "cell_type": "code",
   "execution_count": 82,
   "metadata": {
    "execution": {
     "iopub.execute_input": "2021-01-04T18:28:53.481115Z",
     "iopub.status.busy": "2021-01-04T18:28:53.480404Z",
     "iopub.status.idle": "2021-01-04T18:28:53.484114Z",
     "shell.execute_reply": "2021-01-04T18:28:53.483544Z"
    },
    "papermill": {
     "duration": 0.097328,
     "end_time": "2021-01-04T18:28:53.484228",
     "exception": false,
     "start_time": "2021-01-04T18:28:53.386900",
     "status": "completed"
    },
    "tags": []
   },
   "outputs": [],
   "source": [
    "questions[\"part_correctness\"] = questions[\"part\"].map(part_agg[\"mean\"])\n",
    "questions[\"part_correctness\"] = questions[\"part_correctness\"].astype(\"float32\")"
   ]
  },
  {
   "cell_type": "code",
   "execution_count": 83,
   "metadata": {
    "execution": {
     "iopub.execute_input": "2021-01-04T18:28:53.665065Z",
     "iopub.status.busy": "2021-01-04T18:28:53.664027Z",
     "iopub.status.idle": "2021-01-04T18:28:53.668060Z",
     "shell.execute_reply": "2021-01-04T18:28:53.667243Z"
    },
    "papermill": {
     "duration": 0.097266,
     "end_time": "2021-01-04T18:28:53.668191",
     "exception": false,
     "start_time": "2021-01-04T18:28:53.570925",
     "status": "completed"
    },
    "tags": []
   },
   "outputs": [],
   "source": [
    "del(part_agg)"
   ]
  },
  {
   "cell_type": "code",
   "execution_count": 84,
   "metadata": {
    "execution": {
     "iopub.execute_input": "2021-01-04T18:28:53.855144Z",
     "iopub.status.busy": "2021-01-04T18:28:53.851618Z",
     "iopub.status.idle": "2021-01-04T18:28:53.864694Z",
     "shell.execute_reply": "2021-01-04T18:28:53.863926Z"
    },
    "papermill": {
     "duration": 0.109143,
     "end_time": "2021-01-04T18:28:53.864816",
     "exception": false,
     "start_time": "2021-01-04T18:28:53.755673",
     "status": "completed"
    },
    "tags": []
   },
   "outputs": [],
   "source": [
    "tags_agg = questions[[\"tags\",\"content_correctness\"]].groupby(\"tags\")[\"content_correctness\"].agg([\"mean\"])"
   ]
  },
  {
   "cell_type": "code",
   "execution_count": 85,
   "metadata": {
    "execution": {
     "iopub.execute_input": "2021-01-04T18:28:54.056803Z",
     "iopub.status.busy": "2021-01-04T18:28:54.054874Z",
     "iopub.status.idle": "2021-01-04T18:28:54.063879Z",
     "shell.execute_reply": "2021-01-04T18:28:54.063273Z"
    },
    "papermill": {
     "duration": 0.111506,
     "end_time": "2021-01-04T18:28:54.064010",
     "exception": false,
     "start_time": "2021-01-04T18:28:53.952504",
     "status": "completed"
    },
    "tags": []
   },
   "outputs": [],
   "source": [
    "questions[\"tags_correctness\"] = questions[\"tags\"].map(tags_agg[\"mean\"])\n",
    "questions[\"tags_correctness\"] = questions[\"tags_correctness\"].astype(\"float32\")"
   ]
  },
  {
   "cell_type": "code",
   "execution_count": 86,
   "metadata": {
    "execution": {
     "iopub.execute_input": "2021-01-04T18:28:54.247233Z",
     "iopub.status.busy": "2021-01-04T18:28:54.246536Z",
     "iopub.status.idle": "2021-01-04T18:28:54.249654Z",
     "shell.execute_reply": "2021-01-04T18:28:54.249085Z"
    },
    "papermill": {
     "duration": 0.09577,
     "end_time": "2021-01-04T18:28:54.249770",
     "exception": false,
     "start_time": "2021-01-04T18:28:54.154000",
     "status": "completed"
    },
    "tags": []
   },
   "outputs": [],
   "source": [
    "del(tags_agg)"
   ]
  },
  {
   "cell_type": "code",
   "execution_count": 87,
   "metadata": {
    "execution": {
     "iopub.execute_input": "2021-01-04T18:28:54.434327Z",
     "iopub.status.busy": "2021-01-04T18:28:54.433557Z",
     "iopub.status.idle": "2021-01-04T18:28:54.437108Z",
     "shell.execute_reply": "2021-01-04T18:28:54.436364Z"
    },
    "papermill": {
     "duration": 0.100216,
     "end_time": "2021-01-04T18:28:54.437228",
     "exception": false,
     "start_time": "2021-01-04T18:28:54.337012",
     "status": "completed"
    },
    "tags": []
   },
   "outputs": [],
   "source": [
    "del(questions[\"bundle_id\"])\n",
    "del(questions[\"correct_answer\"])\n",
    "del(questions[\"part\"])\n",
    "del(questions[\"tags\"])\n"
   ]
  },
  {
   "cell_type": "code",
   "execution_count": 88,
   "metadata": {
    "execution": {
     "iopub.execute_input": "2021-01-04T18:28:54.621202Z",
     "iopub.status.busy": "2021-01-04T18:28:54.620474Z",
     "iopub.status.idle": "2021-01-04T18:28:54.624054Z",
     "shell.execute_reply": "2021-01-04T18:28:54.623432Z"
    },
    "papermill": {
     "duration": 0.099143,
     "end_time": "2021-01-04T18:28:54.624185",
     "exception": false,
     "start_time": "2021-01-04T18:28:54.525042",
     "status": "completed"
    },
    "tags": []
   },
   "outputs": [],
   "source": [
    "questions.set_index(\"content_id\",inplace=True)"
   ]
  },
  {
   "cell_type": "code",
   "execution_count": 89,
   "metadata": {
    "execution": {
     "iopub.execute_input": "2021-01-04T18:28:54.808434Z",
     "iopub.status.busy": "2021-01-04T18:28:54.807645Z",
     "iopub.status.idle": "2021-01-04T18:28:54.820437Z",
     "shell.execute_reply": "2021-01-04T18:28:54.819458Z"
    },
    "papermill": {
     "duration": 0.107729,
     "end_time": "2021-01-04T18:28:54.820595",
     "exception": false,
     "start_time": "2021-01-04T18:28:54.712866",
     "status": "completed"
    },
    "tags": []
   },
   "outputs": [
    {
     "name": "stdout",
     "output_type": "stream",
     "text": [
      "Memory usage of dataframe is 0.35 MB\n",
      "Memory usage after optimization is: 0.27 MB\n",
      "Decreased by 22.2%\n"
     ]
    }
   ],
   "source": [
    "questions = reduce_mem_usage(questions)"
   ]
  },
  {
   "cell_type": "code",
   "execution_count": 90,
   "metadata": {
    "execution": {
     "iopub.execute_input": "2021-01-04T18:28:55.089734Z",
     "iopub.status.busy": "2021-01-04T18:28:55.088650Z",
     "iopub.status.idle": "2021-01-04T18:28:55.093794Z",
     "shell.execute_reply": "2021-01-04T18:28:55.092737Z"
    },
    "papermill": {
     "duration": 0.180186,
     "end_time": "2021-01-04T18:28:55.093932",
     "exception": false,
     "start_time": "2021-01-04T18:28:54.913746",
     "status": "completed"
    },
    "tags": []
   },
   "outputs": [
    {
     "data": {
      "text/plain": [
       "293"
      ]
     },
     "execution_count": 90,
     "metadata": {},
     "output_type": "execute_result"
    }
   ],
   "source": [
    "gc.collect()"
   ]
  },
  {
   "cell_type": "markdown",
   "metadata": {
    "papermill": {
     "duration": 0.08953,
     "end_time": "2021-01-04T18:28:55.272290",
     "exception": false,
     "start_time": "2021-01-04T18:28:55.182760",
     "status": "completed"
    },
    "tags": []
   },
   "source": [
    "# Train:"
   ]
  },
  {
   "cell_type": "code",
   "execution_count": 91,
   "metadata": {
    "execution": {
     "iopub.execute_input": "2021-01-04T18:28:55.455058Z",
     "iopub.status.busy": "2021-01-04T18:28:55.454118Z",
     "iopub.status.idle": "2021-01-04T18:29:17.004464Z",
     "shell.execute_reply": "2021-01-04T18:29:17.002617Z"
    },
    "papermill": {
     "duration": 21.644273,
     "end_time": "2021-01-04T18:29:17.004635",
     "exception": false,
     "start_time": "2021-01-04T18:28:55.360362",
     "status": "completed"
    },
    "tags": []
   },
   "outputs": [],
   "source": [
    "used_datas = train.sample(frac=0.3)"
   ]
  },
  {
   "cell_type": "code",
   "execution_count": 92,
   "metadata": {
    "execution": {
     "iopub.execute_input": "2021-01-04T18:29:17.305553Z",
     "iopub.status.busy": "2021-01-04T18:29:17.303713Z",
     "iopub.status.idle": "2021-01-04T18:29:17.306285Z",
     "shell.execute_reply": "2021-01-04T18:29:17.306794Z"
    },
    "papermill": {
     "duration": 0.210489,
     "end_time": "2021-01-04T18:29:17.306946",
     "exception": false,
     "start_time": "2021-01-04T18:29:17.096457",
     "status": "completed"
    },
    "tags": []
   },
   "outputs": [],
   "source": [
    "del(train)"
   ]
  },
  {
   "cell_type": "code",
   "execution_count": 93,
   "metadata": {
    "execution": {
     "iopub.execute_input": "2021-01-04T18:29:17.489717Z",
     "iopub.status.busy": "2021-01-04T18:29:17.489012Z",
     "iopub.status.idle": "2021-01-04T18:29:18.533862Z",
     "shell.execute_reply": "2021-01-04T18:29:18.534467Z"
    },
    "papermill": {
     "duration": 1.139741,
     "end_time": "2021-01-04T18:29:18.534628",
     "exception": false,
     "start_time": "2021-01-04T18:29:17.394887",
     "status": "completed"
    },
    "tags": []
   },
   "outputs": [],
   "source": [
    "l=len(used_datas)\n",
    "train = used_datas.reset_index(drop=True).iloc[:int(0.66*l),:]\n",
    "validation = used_datas.reset_index(drop=True).iloc[int(0.8*l):,:]"
   ]
  },
  {
   "cell_type": "code",
   "execution_count": 94,
   "metadata": {
    "execution": {
     "iopub.execute_input": "2021-01-04T18:29:18.722637Z",
     "iopub.status.busy": "2021-01-04T18:29:18.721928Z",
     "iopub.status.idle": "2021-01-04T18:29:18.725423Z",
     "shell.execute_reply": "2021-01-04T18:29:18.724760Z"
    },
    "papermill": {
     "duration": 0.100687,
     "end_time": "2021-01-04T18:29:18.725549",
     "exception": false,
     "start_time": "2021-01-04T18:29:18.624862",
     "status": "completed"
    },
    "tags": []
   },
   "outputs": [],
   "source": [
    "del(used_datas)"
   ]
  },
  {
   "cell_type": "code",
   "execution_count": 95,
   "metadata": {
    "execution": {
     "iopub.execute_input": "2021-01-04T18:29:19.002575Z",
     "iopub.status.busy": "2021-01-04T18:29:19.001181Z",
     "iopub.status.idle": "2021-01-04T18:29:19.006066Z",
     "shell.execute_reply": "2021-01-04T18:29:19.007208Z"
    },
    "papermill": {
     "duration": 0.193955,
     "end_time": "2021-01-04T18:29:19.007708",
     "exception": false,
     "start_time": "2021-01-04T18:29:18.813753",
     "status": "completed"
    },
    "tags": []
   },
   "outputs": [
    {
     "data": {
      "text/plain": [
       "100"
      ]
     },
     "execution_count": 95,
     "metadata": {},
     "output_type": "execute_result"
    }
   ],
   "source": [
    "gc.collect()"
   ]
  },
  {
   "cell_type": "code",
   "execution_count": 96,
   "metadata": {
    "execution": {
     "iopub.execute_input": "2021-01-04T18:29:19.223292Z",
     "iopub.status.busy": "2021-01-04T18:29:19.222630Z",
     "iopub.status.idle": "2021-01-04T18:29:21.024914Z",
     "shell.execute_reply": "2021-01-04T18:29:21.025573Z"
    },
    "papermill": {
     "duration": 1.903671,
     "end_time": "2021-01-04T18:29:21.025749",
     "exception": false,
     "start_time": "2021-01-04T18:29:19.122078",
     "status": "completed"
    },
    "tags": []
   },
   "outputs": [],
   "source": [
    "train = pd.concat([train.reset_index(drop=True),questions.reindex(train[\"content_id\"].values).\\\n",
    "                  reset_index(drop=True)],axis=1)"
   ]
  },
  {
   "cell_type": "code",
   "execution_count": 97,
   "metadata": {
    "execution": {
     "iopub.execute_input": "2021-01-04T18:29:21.216295Z",
     "iopub.status.busy": "2021-01-04T18:29:21.215205Z",
     "iopub.status.idle": "2021-01-04T18:29:21.443643Z",
     "shell.execute_reply": "2021-01-04T18:29:21.442699Z"
    },
    "papermill": {
     "duration": 0.325478,
     "end_time": "2021-01-04T18:29:21.443820",
     "exception": false,
     "start_time": "2021-01-04T18:29:21.118342",
     "status": "completed"
    },
    "tags": []
   },
   "outputs": [],
   "source": [
    "train[\"content_correctness\"].fillna(0.5,inplace=True)\n",
    "train[\"content_correctness_var\"].fillna(0,inplace=True)\n",
    "train[\"content_correct_count\"].fillna(1,inplace=True)\n",
    "train[\"content_uncorrect_count\"].fillna(1,inplace=True)\n",
    "train[\"part_correctness\"].fillna(0.5,inplace=True)\n",
    "train[\"tags_correctness\"].fillna(0.5,inplace=True)"
   ]
  },
  {
   "cell_type": "code",
   "execution_count": 98,
   "metadata": {
    "execution": {
     "iopub.execute_input": "2021-01-04T18:29:21.632230Z",
     "iopub.status.busy": "2021-01-04T18:29:21.631511Z",
     "iopub.status.idle": "2021-01-04T18:29:24.854114Z",
     "shell.execute_reply": "2021-01-04T18:29:24.854734Z"
    },
    "papermill": {
     "duration": 3.319275,
     "end_time": "2021-01-04T18:29:24.854882",
     "exception": false,
     "start_time": "2021-01-04T18:29:21.535607",
     "status": "completed"
    },
    "tags": []
   },
   "outputs": [],
   "source": [
    "train = train.merge(content_explation_agg,how=\"left\",left_on=[\"content_id\",\"prior_question_had_explanation\"],\\\n",
    "                right_index=True)"
   ]
  },
  {
   "cell_type": "code",
   "execution_count": 99,
   "metadata": {
    "execution": {
     "iopub.execute_input": "2021-01-04T18:29:25.044717Z",
     "iopub.status.busy": "2021-01-04T18:29:25.042698Z",
     "iopub.status.idle": "2021-01-04T18:29:25.512355Z",
     "shell.execute_reply": "2021-01-04T18:29:25.513004Z"
    },
    "papermill": {
     "duration": 0.566901,
     "end_time": "2021-01-04T18:29:25.513158",
     "exception": false,
     "start_time": "2021-01-04T18:29:24.946257",
     "status": "completed"
    },
    "tags": []
   },
   "outputs": [],
   "source": [
    "validation = pd.concat([validation.reset_index(drop=True),questions.reindex(validation[\"content_id\"].\\\n",
    "                                                                           values).reset_index(drop=True)],axis=1)"
   ]
  },
  {
   "cell_type": "code",
   "execution_count": 100,
   "metadata": {
    "execution": {
     "iopub.execute_input": "2021-01-04T18:29:25.703689Z",
     "iopub.status.busy": "2021-01-04T18:29:25.702669Z",
     "iopub.status.idle": "2021-01-04T18:29:25.779802Z",
     "shell.execute_reply": "2021-01-04T18:29:25.779051Z"
    },
    "papermill": {
     "duration": 0.17532,
     "end_time": "2021-01-04T18:29:25.779928",
     "exception": false,
     "start_time": "2021-01-04T18:29:25.604608",
     "status": "completed"
    },
    "tags": []
   },
   "outputs": [],
   "source": [
    "validation[\"content_correctness\"].fillna(0.5,inplace=True)\n",
    "validation[\"content_correctness_var\"].fillna(0,inplace=True)\n",
    "validation[\"content_correct_count\"].fillna(1,inplace=True)\n",
    "validation[\"content_uncorrect_count\"].fillna(1,inplace=True)\n",
    "validation[\"part_correctness\"].fillna(0.5,inplace=True)\n",
    "validation[\"tags_correctness\"].fillna(0.5,inplace=True)"
   ]
  },
  {
   "cell_type": "code",
   "execution_count": 101,
   "metadata": {
    "execution": {
     "iopub.execute_input": "2021-01-04T18:29:25.975220Z",
     "iopub.status.busy": "2021-01-04T18:29:25.974075Z",
     "iopub.status.idle": "2021-01-04T18:29:26.810897Z",
     "shell.execute_reply": "2021-01-04T18:29:26.810295Z"
    },
    "papermill": {
     "duration": 0.939381,
     "end_time": "2021-01-04T18:29:26.811020",
     "exception": false,
     "start_time": "2021-01-04T18:29:25.871639",
     "status": "completed"
    },
    "tags": []
   },
   "outputs": [],
   "source": [
    "validation = validation.merge(content_explation_agg,how=\"left\",left_on=[\"content_id\",\"prior_question_had_explanation\"],\\\n",
    "                right_index=True)"
   ]
  },
  {
   "cell_type": "code",
   "execution_count": 102,
   "metadata": {
    "execution": {
     "iopub.execute_input": "2021-01-04T18:29:27.005011Z",
     "iopub.status.busy": "2021-01-04T18:29:27.004045Z",
     "iopub.status.idle": "2021-01-04T18:29:27.006653Z",
     "shell.execute_reply": "2021-01-04T18:29:27.007152Z"
    },
    "papermill": {
     "duration": 0.103373,
     "end_time": "2021-01-04T18:29:27.007311",
     "exception": false,
     "start_time": "2021-01-04T18:29:26.903938",
     "status": "completed"
    },
    "tags": []
   },
   "outputs": [],
   "source": [
    "features_dict = {\n",
    "                 \"community\":\"int8\",\n",
    "                 \"timestamp\":'float16',\n",
    "                 \"prior_question_elapsed_time\":'float16',\n",
    "                \"prior_question_had_explanation\":'int8',\n",
    "                \"user_interaction_count\":'int16',\n",
    "                \"user_interation_timestamp_mean\":\"float16\",\n",
    "                \"user_lecture_sum\":\"int16\",\n",
    "                \"user_lecture_lv\":\"float64\",\n",
    "                \"no_attempt\":\"int8\",\n",
    "                \"lagtime1\":\"float16\",\n",
    "                \"lagtime2\":\"float16\",\n",
    "                \"lagtime3\":\"float16\",\n",
    "                \"delta_prior_question_elapsed_time\":\"float16\",\n",
    "                \"explanation_mean\":\"float16\",\n",
    "                \"explanation_true_explanation\":\"int16\",\n",
    "                \"explanation_false_explanation\":\"int16\",\n",
    "                \"container_mean\":\"float16\",\n",
    "                \"container_count\":\"int16\",\n",
    "                \"container_var\":\"float16\",\n",
    "                \"content_correctness\":\"float16\",\n",
    "                \"content_correctness_var\":\"float16\",\n",
    "                \"content_correct_count\":\"int16\",\n",
    "                \"content_uncorrect_count\":\"int16\",\n",
    "                \"part_correctness\":\"float16\",\n",
    "                \"tags_correctness\":\"float16\",\n",
    "                \"mean_answer_prior_question\":\"float16\",\n",
    "                \"container_mean\":\"float32\",\n",
    "                \"container_count\":\"int8\",\n",
    "                \"container_var\":\"float64\"\n",
    "                }\n",
    "categorical_columns=[\"community\"]\n",
    "target = \"answered_correctly\"\n",
    "features = list(features_dict.keys())"
   ]
  },
  {
   "cell_type": "code",
   "execution_count": 103,
   "metadata": {
    "execution": {
     "iopub.execute_input": "2021-01-04T18:29:27.193583Z",
     "iopub.status.busy": "2021-01-04T18:29:27.192924Z",
     "iopub.status.idle": "2021-01-04T18:29:54.662584Z",
     "shell.execute_reply": "2021-01-04T18:29:54.660306Z"
    },
    "papermill": {
     "duration": 27.563183,
     "end_time": "2021-01-04T18:29:54.662750",
     "exception": false,
     "start_time": "2021-01-04T18:29:27.099567",
     "status": "completed"
    },
    "tags": []
   },
   "outputs": [],
   "source": [
    "xtr,xts,ytr,yts = train_test_split(train[features],train[target],test_size=0.1,\\\n",
    "                                  stratify=train[target])"
   ]
  },
  {
   "cell_type": "code",
   "execution_count": 104,
   "metadata": {
    "execution": {
     "iopub.execute_input": "2021-01-04T18:29:54.857363Z",
     "iopub.status.busy": "2021-01-04T18:29:54.856286Z",
     "iopub.status.idle": "2021-01-04T18:29:54.861109Z",
     "shell.execute_reply": "2021-01-04T18:29:54.860526Z"
    },
    "papermill": {
     "duration": 0.105243,
     "end_time": "2021-01-04T18:29:54.861251",
     "exception": false,
     "start_time": "2021-01-04T18:29:54.756008",
     "status": "completed"
    },
    "tags": []
   },
   "outputs": [],
   "source": [
    "del(train)"
   ]
  },
  {
   "cell_type": "code",
   "execution_count": 105,
   "metadata": {
    "execution": {
     "iopub.execute_input": "2021-01-04T18:29:55.138422Z",
     "iopub.status.busy": "2021-01-04T18:29:55.137318Z",
     "iopub.status.idle": "2021-01-04T18:29:55.143448Z",
     "shell.execute_reply": "2021-01-04T18:29:55.142872Z"
    },
    "papermill": {
     "duration": 0.187838,
     "end_time": "2021-01-04T18:29:55.143562",
     "exception": false,
     "start_time": "2021-01-04T18:29:54.955724",
     "status": "completed"
    },
    "tags": []
   },
   "outputs": [
    {
     "data": {
      "text/plain": [
       "140"
      ]
     },
     "execution_count": 105,
     "metadata": {},
     "output_type": "execute_result"
    }
   ],
   "source": [
    "gc.collect()"
   ]
  },
  {
   "cell_type": "code",
   "execution_count": 106,
   "metadata": {
    "execution": {
     "iopub.execute_input": "2021-01-04T18:29:55.336015Z",
     "iopub.status.busy": "2021-01-04T18:29:55.334998Z",
     "iopub.status.idle": "2021-01-04T18:29:55.338426Z",
     "shell.execute_reply": "2021-01-04T18:29:55.337713Z"
    },
    "papermill": {
     "duration": 0.10341,
     "end_time": "2021-01-04T18:29:55.338546",
     "exception": false,
     "start_time": "2021-01-04T18:29:55.235136",
     "status": "completed"
    },
    "tags": []
   },
   "outputs": [],
   "source": [
    "d_train= lgbm.Dataset(xtr,label=ytr)\n",
    "d_eval = lgbm.Dataset(xts,label=yts,reference=d_train)"
   ]
  },
  {
   "cell_type": "code",
   "execution_count": 107,
   "metadata": {
    "execution": {
     "iopub.execute_input": "2021-01-04T18:29:55.533089Z",
     "iopub.status.busy": "2021-01-04T18:29:55.532425Z",
     "iopub.status.idle": "2021-01-04T18:29:55.536633Z",
     "shell.execute_reply": "2021-01-04T18:29:55.535883Z"
    },
    "papermill": {
     "duration": 0.105124,
     "end_time": "2021-01-04T18:29:55.536764",
     "exception": false,
     "start_time": "2021-01-04T18:29:55.431640",
     "status": "completed"
    },
    "tags": []
   },
   "outputs": [],
   "source": [
    "params={\"num_leaves\":300,\n",
    "       \"max_bin\":450,\n",
    "       \"feature_fraction\":0.52,\n",
    "       \"bagging_fraction\":0.52,\n",
    "       \"objective\":\"binary\",\n",
    "       \"learning_rate\":0.05,\n",
    "       \"boosting_type\":\"gbdt\",\n",
    "       \"metric\":\"auc\"\n",
    "       }"
   ]
  },
  {
   "cell_type": "code",
   "execution_count": 108,
   "metadata": {
    "execution": {
     "iopub.execute_input": "2021-01-04T18:29:55.726571Z",
     "iopub.status.busy": "2021-01-04T18:29:55.725852Z",
     "iopub.status.idle": "2021-01-04T20:50:02.239394Z",
     "shell.execute_reply": "2021-01-04T20:50:02.240377Z"
    },
    "papermill": {
     "duration": 8406.611694,
     "end_time": "2021-01-04T20:50:02.240912",
     "exception": false,
     "start_time": "2021-01-04T18:29:55.629218",
     "status": "completed"
    },
    "tags": []
   },
   "outputs": [
    {
     "name": "stderr",
     "output_type": "stream",
     "text": [
      "/opt/conda/lib/python3.7/site-packages/lightgbm/basic.py:1295: UserWarning: categorical_feature in Dataset is overridden.\n",
      "New categorical_feature is ['community']\n",
      "  'New categorical_feature is {}'.format(sorted(list(categorical_feature))))\n"
     ]
    },
    {
     "name": "stdout",
     "output_type": "stream",
     "text": [
      "Training until validation scores don't improve for 50 rounds\n",
      "[50]\ttraining's auc: 0.737466\tvalid_1's auc: 0.737213\n",
      "[100]\ttraining's auc: 0.739957\tvalid_1's auc: 0.739406\n",
      "[150]\ttraining's auc: 0.741809\tvalid_1's auc: 0.740911\n",
      "[200]\ttraining's auc: 0.743108\tvalid_1's auc: 0.741843\n",
      "[250]\ttraining's auc: 0.743896\tvalid_1's auc: 0.742233\n",
      "[300]\ttraining's auc: 0.74453\tvalid_1's auc: 0.742516\n",
      "[350]\ttraining's auc: 0.745057\tvalid_1's auc: 0.742695\n",
      "[400]\ttraining's auc: 0.74552\tvalid_1's auc: 0.742795\n",
      "[450]\ttraining's auc: 0.746005\tvalid_1's auc: 0.742935\n",
      "[500]\ttraining's auc: 0.746473\tvalid_1's auc: 0.74304\n",
      "[550]\ttraining's auc: 0.746884\tvalid_1's auc: 0.743079\n",
      "[600]\ttraining's auc: 0.747305\tvalid_1's auc: 0.743151\n",
      "[650]\ttraining's auc: 0.747744\tvalid_1's auc: 0.743222\n",
      "[700]\ttraining's auc: 0.748129\tvalid_1's auc: 0.743282\n",
      "[750]\ttraining's auc: 0.748596\tvalid_1's auc: 0.743368\n",
      "[800]\ttraining's auc: 0.749038\tvalid_1's auc: 0.743462\n",
      "[850]\ttraining's auc: 0.749482\tvalid_1's auc: 0.743549\n",
      "[900]\ttraining's auc: 0.749928\tvalid_1's auc: 0.743639\n",
      "[950]\ttraining's auc: 0.750328\tvalid_1's auc: 0.743694\n",
      "[1000]\ttraining's auc: 0.750705\tvalid_1's auc: 0.743755\n",
      "[1050]\ttraining's auc: 0.751112\tvalid_1's auc: 0.743803\n",
      "[1100]\ttraining's auc: 0.751512\tvalid_1's auc: 0.743856\n",
      "[1150]\ttraining's auc: 0.751912\tvalid_1's auc: 0.743919\n",
      "[1200]\ttraining's auc: 0.752321\tvalid_1's auc: 0.743971\n",
      "[1250]\ttraining's auc: 0.752734\tvalid_1's auc: 0.744034\n",
      "[1300]\ttraining's auc: 0.753098\tvalid_1's auc: 0.744071\n",
      "[1350]\ttraining's auc: 0.753497\tvalid_1's auc: 0.744114\n",
      "[1400]\ttraining's auc: 0.753866\tvalid_1's auc: 0.744141\n",
      "[1450]\ttraining's auc: 0.754209\tvalid_1's auc: 0.744172\n",
      "[1500]\ttraining's auc: 0.754599\tvalid_1's auc: 0.744204\n",
      "Did not meet early stopping. Best iteration is:\n",
      "[1500]\ttraining's auc: 0.754599\tvalid_1's auc: 0.744204\n"
     ]
    }
   ],
   "source": [
    "clf=lgbm.train(params,d_train,valid_sets=[d_train,d_eval],num_boost_round=1500,\\\n",
    "               early_stopping_rounds=50,verbose_eval=50,categorical_feature=categorical_columns)"
   ]
  },
  {
   "cell_type": "markdown",
   "metadata": {
    "papermill": {
     "duration": 0.103047,
     "end_time": "2021-01-04T20:50:02.469877",
     "exception": false,
     "start_time": "2021-01-04T20:50:02.366830",
     "status": "completed"
    },
    "tags": []
   },
   "source": [
    "# Inference"
   ]
  },
  {
   "cell_type": "code",
   "execution_count": 109,
   "metadata": {
    "execution": {
     "iopub.execute_input": "2021-01-04T20:50:02.693711Z",
     "iopub.status.busy": "2021-01-04T20:50:02.692724Z",
     "iopub.status.idle": "2021-01-04T20:50:02.705509Z",
     "shell.execute_reply": "2021-01-04T20:50:02.704832Z"
    },
    "papermill": {
     "duration": 0.132955,
     "end_time": "2021-01-04T20:50:02.705658",
     "exception": false,
     "start_time": "2021-01-04T20:50:02.572703",
     "status": "completed"
    },
    "tags": []
   },
   "outputs": [],
   "source": [
    "del(xtr)\n",
    "del(xts)\n",
    "del(ytr)\n",
    "del(yts)"
   ]
  },
  {
   "cell_type": "code",
   "execution_count": 110,
   "metadata": {
    "execution": {
     "iopub.execute_input": "2021-01-04T20:50:03.043841Z",
     "iopub.status.busy": "2021-01-04T20:50:03.043126Z",
     "iopub.status.idle": "2021-01-04T20:50:03.722755Z",
     "shell.execute_reply": "2021-01-04T20:50:03.721479Z"
    },
    "papermill": {
     "duration": 0.80133,
     "end_time": "2021-01-04T20:50:03.722912",
     "exception": false,
     "start_time": "2021-01-04T20:50:02.921582",
     "status": "completed"
    },
    "tags": []
   },
   "outputs": [
    {
     "data": {
      "image/png": "[encoded data removed]",
      "text/plain": [
       "<Figure size 432x288 with 1 Axes>"
      ]
     },
     "metadata": {
      "needs_background": "light"
     },
     "output_type": "display_data"
    }
   ],
   "source": [
    "lgbm.plot_importance(clf)\n",
    "plt.show()"
   ]
  },
  {
   "cell_type": "markdown",
   "metadata": {
    "papermill": {
     "duration": 0.10922,
     "end_time": "2021-01-04T20:50:03.938542",
     "exception": false,
     "start_time": "2021-01-04T20:50:03.829322",
     "status": "completed"
    },
    "tags": []
   },
   "source": [
    "# Submission"
   ]
  },
  {
   "cell_type": "code",
   "execution_count": 111,
   "metadata": {
    "execution": {
     "iopub.execute_input": "2021-01-04T20:50:04.157070Z",
     "iopub.status.busy": "2021-01-04T20:50:04.156316Z",
     "iopub.status.idle": "2021-01-04T20:50:04.187235Z",
     "shell.execute_reply": "2021-01-04T20:50:04.186556Z"
    },
    "papermill": {
     "duration": 0.143923,
     "end_time": "2021-01-04T20:50:04.187369",
     "exception": false,
     "start_time": "2021-01-04T20:50:04.043446",
     "status": "completed"
    },
    "tags": []
   },
   "outputs": [],
   "source": [
    "import time \n",
    "import riiideducation\n",
    "\n",
    "env = riiideducation.make_env()"
   ]
  },
  {
   "cell_type": "code",
   "execution_count": 112,
   "metadata": {
    "execution": {
     "iopub.execute_input": "2021-01-04T20:50:04.407675Z",
     "iopub.status.busy": "2021-01-04T20:50:04.406812Z",
     "iopub.status.idle": "2021-01-04T20:50:04.409157Z",
     "shell.execute_reply": "2021-01-04T20:50:04.409683Z"
    },
    "papermill": {
     "duration": 0.116725,
     "end_time": "2021-01-04T20:50:04.409859",
     "exception": false,
     "start_time": "2021-01-04T20:50:04.293134",
     "status": "completed"
    },
    "tags": []
   },
   "outputs": [],
   "source": [
    "iter_test = env.iter_test()"
   ]
  },
  {
   "cell_type": "code",
   "execution_count": 113,
   "metadata": {
    "execution": {
     "iopub.execute_input": "2021-01-04T20:50:04.629283Z",
     "iopub.status.busy": "2021-01-04T20:50:04.628483Z",
     "iopub.status.idle": "2021-01-04T20:50:07.131644Z",
     "shell.execute_reply": "2021-01-04T20:50:07.130494Z"
    },
    "papermill": {
     "duration": 2.61506,
     "end_time": "2021-01-04T20:50:07.131819",
     "exception": false,
     "start_time": "2021-01-04T20:50:04.516759",
     "status": "completed"
    },
    "tags": []
   },
   "outputs": [
    {
     "name": "stdout",
     "output_type": "stream",
     "text": [
      "Memory usage of dataframe is 0.00 MB\n",
      "Memory usage after optimization is: 0.00 MB\n",
      "Decreased by 33.8%\n",
      "Memory usage of dataframe is 0.00 MB\n",
      "Memory usage after optimization is: 0.00 MB\n",
      "Decreased by 39.4%\n",
      "Memory usage of dataframe is 0.00 MB\n",
      "Memory usage after optimization is: 0.00 MB\n",
      "Decreased by 38.9%\n",
      "Memory usage of dataframe is 0.00 MB\n",
      "Memory usage after optimization is: 0.00 MB\n",
      "Decreased by 36.1%\n"
     ]
    }
   ],
   "source": [
    "for (test_df, sample_prediction_df) in iter_test:\n",
    "        test_df[\"prior_question_had_explanation\"] = test_df[\"prior_question_had_explanation\"].fillna(False).\\\n",
    "astype('int8')\n",
    "        cum =  test_df.groupby('user_id')['content_type_id'].agg(['cumsum','cumcount'])\n",
    "        cum[\"cumcount\"] = cum[\"cumcount\"] + 1\n",
    "        test_df[\"user_interaction_count\"] = cum[\"cumcount\"]\n",
    "        timestamp_imputer = test_df[\"timestamp\"].mean()\n",
    "        test_df[\"timestamp\"].fillna(timestamp_imputer,inplace=True)\n",
    "        test_df[\"user_interation_timestamp_mean\"] = test_df[\"timestamp\"]/test_df[\"user_interaction_count\"]\n",
    "        test_df[\"user_lecture_sum\"] = cum['cumsum']\n",
    "        test_df[\"user_interaction_count\"]=test_df[\"user_interaction_count\"].astype(\"int64\")\n",
    "        test_df[\"user_interation_timestamp_mean\"]=test_df[\"user_interation_timestamp_mean\"].astype(\"float32\")\n",
    "        test_df[\"user_lecture_sum\"] = test_df[\"user_lecture_sum\"].astype(\"int8\")\n",
    "        test_df[\"user_lecture_lv\"] = test_df[\"user_lecture_sum\"]/test_df[\"user_interaction_count\"]\n",
    "        test_df[\"user_lecture_lv\"] = test_df[\"user_lecture_lv\"].astype(\"float32\")\n",
    "        test_df[\"user_interation_timestamp_mean\"] = test_df[\"user_interation_timestamp_mean\"]/(1000*3600)\n",
    "        del(cum)\n",
    "        test_df[\"prior_question_had_explanation\"].replace([np.inf, -np.inf], np.nan)\n",
    "        test_df[\"prior_question_had_explanation\"].fillna(False,inplace=True)\n",
    "        test_df[\"prior_question_had_explanation\"]=test_df[\"prior_question_had_explanation\"].astype(\"int8\")\n",
    "        test_df = test_df[test_df['content_type_id'] ==0]\n",
    "        gc.collect()\n",
    "        test_df.loc[:,\"no_attempt\"] = 1\n",
    "        test_df[\"no_attempt\"]=test_df[[\"content_id\",\"user_id\",\"no_attempt\"]].groupby([\"user_id\",\"content_id\"])[\"no_attempt\"].cumsum()\n",
    "        test_df[\"no_attempt\"] = test_df[\"no_attempt\"].astype(\"int8\")\n",
    "        test_df[\"lagtime1\"] = test_df[\"timestamp\"].shift()\n",
    "        lagtime1_mean = test_df[\"lagtime1\"].mean()\n",
    "        test_df[\"lagtime1\"].fillna(lagtime1_mean,inplace=True)\n",
    "        test_df[\"lagtime1\"] = test_df[\"lagtime1\"]/(1000*3600)\n",
    "        test_df[\"lagtime1\"] = test_df[\"lagtime1\"].astype(\"float32\")\n",
    "        test_df[\"lagtime2\"] = test_df[\"timestamp\"].shift(2)\n",
    "        lagtime2_mean = test_df[\"lagtime2\"].mean()\n",
    "        test_df[\"lagtime2\"].fillna(lagtime2_mean,inplace=True)\n",
    "        test_df[\"lagtime2\"] = test_df[\"lagtime2\"]/(1000*3600)\n",
    "        test_df[\"lagtime2\"] = test_df[\"lagtime2\"].astype(\"float32\")\n",
    "        test_df[\"lagtime3\"] = test_df[\"timestamp\"].shift(3)\n",
    "        lagtime3_mean = test_df[\"lagtime3\"].mean()\n",
    "        test_df[\"lagtime3\"].fillna(lagtime3_mean,inplace=True)\n",
    "        test_df[\"lagtime3\"] = test_df[\"lagtime3\"]/(1000*3600)\n",
    "        test_df[\"lagtime3\"] = test_df[\"lagtime3\"].astype(\"float32\")\n",
    "        test_df[\"timestamp\"] = test_df[\"timestamp\"]/(3600*1000)\n",
    "        test_df[\"timestamp\"] = test_df[\"timestamp\"].astype(\"float32\")\n",
    "        test_df[\"delta_prior_question_elapsed_time\"] = test_df[[\"user_id\",\"prior_question_elapsed_time\"]].\\\n",
    "        groupby(\"user_id\")[\"prior_question_elapsed_time\"].shift()\n",
    "        mean_delta_prior_question_elapsed_time = test_df[\"delta_prior_question_elapsed_time\"].mean()\n",
    "        test_df[\"delta_prior_question_elapsed_time\"].fillna(mean_delta_prior_question_elapsed_time,\\\n",
    "                                                  inplace=True)\n",
    "        test_df[\"delta_prior_question_elapsed_time\"]=test_df[\"delta_prior_question_elapsed_time\"]/(1000)\n",
    "        test_df[\"delta_prior_question_elapsed_time\"] = test_df[\"delta_prior_question_elapsed_time\"].astype(\"float32\")\n",
    "        mean_prior_question_elapsed_time = test_df[\"prior_question_elapsed_time\"].mean()\n",
    "        test_df[\"prior_question_elapsed_time\"].fillna(mean_prior_question_elapsed_time,inplace=True)\n",
    "        test_df[\"prior_question_elapsed_time\"]= test_df[\"prior_question_elapsed_time\"]/1000\n",
    "        test_df[\"prior_question_elapsed_time\"]=test_df[\"prior_question_elapsed_time\"].astype(\"float32\")\n",
    "        cum = test_df[[\"user_id\",\"prior_question_had_explanation\"]].groupby(\"user_id\")[\"prior_question_had\\\n",
    "_explanation\"].agg([\"cumsum\",\"cumcount\"])\n",
    "        cum[\"cumcount\"] = cum[\"cumcount\"] + 1\n",
    "        test_df[\"explanation_mean\"] = cum[\"cumsum\"]/cum[\"cumcount\"]\n",
    "        test_df[\"explanation_true_explanation\"] = cum[\"cumsum\"]\n",
    "        test_df[\"explanation_false_explanation\"] = cum[\"cumcount\"] - cum[\"cumsum\"]\n",
    "        del(cum)\n",
    "        test_df[\"explanation_mean\"] = test_df[\"explanation_mean\"].astype(\"float32\")\n",
    "        test_df[\"explanation_true_explanation\"] = test_df[\"explanation_true_explanation\"].astype(\"int8\")\n",
    "        test_df[\"explanation_false_explanation\"] = test_df[\"explanation_false_explanation\"].astype(\"int8\")\n",
    "        gc.collect()\n",
    "        test_df[\"container_mean\"] = test_df[\"task_container_id\"].map(task_container_id[\"mean\"])\n",
    "        test_df[\"container_mean\"] = test_df[\"container_mean\"].astype(\"float32\")\n",
    "        test_df[\"container_count\"] = test_df[\"task_container_id\"].map(task_container_id[\"count\"])\n",
    "        test_df[\"container_var\"] = test_df[\"task_container_id\"].map(task_container_id[\"var\"])\n",
    "        test_df[\"container_count\"] = test_df[\"container_count\"].astype(\"int8\")\n",
    "        test_df[\"container_var\"] = test_df[\"container_var\"].astype(\"float64\")\n",
    "        gc.collect()\n",
    "        test_df = reduce_mem_usage(test_df)\n",
    "        test_df = pd.concat([test_df.reset_index(drop=True),questions.reindex(test_df[\"content_id\"].values).\\\n",
    "                  reset_index(drop=True)],axis=1)\n",
    "        test_df[\"content_correctness\"].fillna(0.5,inplace=True)\n",
    "        test_df[\"content_correctness_var\"].fillna(0,inplace=True)\n",
    "        test_df[\"content_correct_count\"].fillna(1,inplace=True)\n",
    "        test_df[\"content_uncorrect_count\"].fillna(1,inplace=True)\n",
    "        test_df[\"part_correctness\"].fillna(0.5,inplace=True)\n",
    "        test_df[\"tags_correctness\"].fillna(0.5,inplace=True)\n",
    "        test_df = test_df.merge(content_explation_agg,how=\"left\",left_on=[\"content_id\",\"prior_question_had_explanation\"],\\\n",
    "                right_index=True)\n",
    "        test_df[\"mean_answer_prior_question\"].fillna(0.5,inplace=True)\n",
    "        #test_df.fillna(value=0.5, inplace = True)\n",
    "        #for model in mdls:\n",
    "            #y_pred = model.predict(test_df[features].values)\n",
    "            #y_preds.append(y_pred)\n",
    "\n",
    "        #y_preds = sum(y_preds) / len(y_preds)\n",
    "        test_df['answered_correctly'] = clf.predict(test_df[features])\n",
    "        env.predict(test_df.loc[test_df['content_type_id'] == 0, ['row_id', 'answered_correctly']])"
   ]
  }
 ],
 "metadata": {
  "kernelspec": {
   "display_name": "Python 3",
   "language": "python",
   "name": "python3"
  },
  "language_info": {
   "codemirror_mode": {
    "name": "ipython",
    "version": 3
   },
   "file_extension": ".py",
   "mimetype": "text/x-python",
   "name": "python",
   "nbconvert_exporter": "python",
   "pygments_lexer": "ipython3",
   "version": "3.7.6"
  },
  "papermill": {
   "duration": 9062.827811,
   "end_time": "2021-01-04T20:50:08.346169",
   "environment_variables": {},
   "exception": null,
   "input_path": "__notebook__.ipynb",
   "output_path": "__notebook__.ipynb",
   "parameters": {},
   "start_time": "2021-01-04T18:19:05.518358",
   "version": "2.1.0"
  }
 },
 "nbformat": 4,
 "nbformat_minor": 4
}
